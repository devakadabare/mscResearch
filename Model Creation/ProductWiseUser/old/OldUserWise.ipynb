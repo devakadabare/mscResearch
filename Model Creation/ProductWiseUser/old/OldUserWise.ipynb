{
 "cells": [
  {
   "cell_type": "code",
   "execution_count": 8,
   "id": "92b3341e-39c6-492d-bd6f-836081e6ea4a",
   "metadata": {},
   "outputs": [],
   "source": [
    "import pandas as pd\n",
    "from prophet import Prophet\n",
    "from sklearn.model_selection import train_test_split\n",
    "import os\n",
    "import pickle  # For saving models\n",
    "\n",
    "# Load your data\n",
    "data = pd.read_csv('saleData.csv')\n",
    "\n",
    "# Convert the 'saleDate' to datetime and prepare it\n",
    "data['saleDate'] = pd.to_datetime(data['saleDate'])\n",
    "data = data.groupby(['userid', 'productname', 'saleDate']).agg(total_qty=('qty', 'sum')).reset_index()\n",
    "data.columns = ['userid', 'productname', 'ds', 'y']  # Prophet format\n"
   ]
  },
  {
   "cell_type": "code",
   "execution_count": 17,
   "id": "f9a8b4c5-c655-4115-8b78-97642a66faf2",
   "metadata": {},
   "outputs": [
    {
     "name": "stderr",
     "output_type": "stream",
     "text": [
      "13:59:50 - cmdstanpy - INFO - Chain [1] start processing\n",
      "13:59:50 - cmdstanpy - INFO - Chain [1] done processing\n",
      "13:59:50 - cmdstanpy - INFO - Chain [1] start processing\n",
      "13:59:50 - cmdstanpy - INFO - Chain [1] done processing\n"
     ]
    },
    {
     "name": "stdout",
     "output_type": "stream",
     "text": [
      "Model for 7 UP 500ML PET saved successfully.\n",
      "Model for 7 UP MEGA PET 1.5L saved successfully.\n"
     ]
    },
    {
     "name": "stderr",
     "output_type": "stream",
     "text": [
      "13:59:50 - cmdstanpy - INFO - Chain [1] start processing\n",
      "13:59:50 - cmdstanpy - INFO - Chain [1] done processing\n",
      "13:59:50 - cmdstanpy - INFO - Chain [1] start processing\n",
      "13:59:50 - cmdstanpy - INFO - Chain [1] done processing\n"
     ]
    },
    {
     "name": "stdout",
     "output_type": "stream",
     "text": [
      "Model for ALERICS I/C ROCKY ROAD 1LTR saved successfully.\n",
      "Model for ALL OUT LIQ DETERGENT F/LOAD 1L saved successfully.\n"
     ]
    },
    {
     "name": "stderr",
     "output_type": "stream",
     "text": [
      "13:59:50 - cmdstanpy - INFO - Chain [1] start processing\n",
      "13:59:50 - cmdstanpy - INFO - Chain [1] done processing\n",
      "13:59:50 - cmdstanpy - INFO - Chain [1] start processing\n",
      "13:59:50 - cmdstanpy - INFO - Chain [1] done processing\n"
     ]
    },
    {
     "name": "stdout",
     "output_type": "stream",
     "text": [
      "Model for ALLI APPALAM 60G saved successfully.\n",
      "Model for ALLI PAPADAM SPECIAL 60G saved successfully.\n"
     ]
    },
    {
     "name": "stderr",
     "output_type": "stream",
     "text": [
      "13:59:50 - cmdstanpy - INFO - Chain [1] start processing\n",
      "13:59:50 - cmdstanpy - INFO - Chain [1] done processing\n",
      "13:59:51 - cmdstanpy - INFO - Chain [1] start processing\n",
      "13:59:51 - cmdstanpy - INFO - Chain [1] done processing\n"
     ]
    },
    {
     "name": "stdout",
     "output_type": "stream",
     "text": [
      "Model for ALLI SPECIAL DRY NOODLES 400G saved successfully.\n",
      "Model for AMBEWELA UHT MILK 1L saved successfully.\n"
     ]
    },
    {
     "name": "stderr",
     "output_type": "stream",
     "text": [
      "13:59:51 - cmdstanpy - INFO - Chain [1] start processing\n",
      "13:59:51 - cmdstanpy - INFO - Chain [1] done processing\n",
      "13:59:51 - cmdstanpy - INFO - Chain [1] start processing\n",
      "13:59:51 - cmdstanpy - INFO - Chain [1] done processing\n"
     ]
    },
    {
     "name": "stdout",
     "output_type": "stream",
     "text": [
      "Model for ANCHOR FULL CREAM MILK POWDER 200G saved successfully.\n",
      "Model for ANCHOR MILK POWDER 1KG PKT saved successfully.\n"
     ]
    },
    {
     "name": "stderr",
     "output_type": "stream",
     "text": [
      "13:59:51 - cmdstanpy - INFO - Chain [1] start processing\n",
      "13:59:51 - cmdstanpy - INFO - Chain [1] done processing\n",
      "13:59:51 - cmdstanpy - INFO - Chain [1] start processing\n",
      "13:59:51 - cmdstanpy - INFO - Chain [1] done processing\n"
     ]
    },
    {
     "name": "stdout",
     "output_type": "stream",
     "text": [
      "Model for ANCHOR MILK POWDER 400G. saved successfully.\n",
      "Model for APPLE - FUJI saved successfully.\n"
     ]
    },
    {
     "name": "stderr",
     "output_type": "stream",
     "text": [
      "13:59:51 - cmdstanpy - INFO - Chain [1] start processing\n",
      "13:59:52 - cmdstanpy - INFO - Chain [1] done processing\n",
      "13:59:52 - cmdstanpy - INFO - Chain [1] start processing\n",
      "13:59:52 - cmdstanpy - INFO - Chain [1] done processing\n"
     ]
    },
    {
     "name": "stdout",
     "output_type": "stream",
     "text": [
      "Model for APPLE - GREEN saved successfully.\n",
      "Model for APPLE - RED saved successfully.\n"
     ]
    },
    {
     "name": "stderr",
     "output_type": "stream",
     "text": [
      "13:59:52 - cmdstanpy - INFO - Chain [1] start processing\n",
      "13:59:52 - cmdstanpy - INFO - Chain [1] done processing\n",
      "13:59:52 - cmdstanpy - INFO - Chain [1] start processing\n",
      "13:59:52 - cmdstanpy - INFO - Chain [1] done processing\n"
     ]
    },
    {
     "name": "stdout",
     "output_type": "stream",
     "text": [
      "Model for AQUAFINA BOTTLED DRINKIN WATER 1.5L saved successfully.\n",
      "Model for ARALIYA NADU RICE 1KG (5U) saved successfully.\n"
     ]
    },
    {
     "name": "stderr",
     "output_type": "stream",
     "text": [
      "13:59:52 - cmdstanpy - INFO - Chain [1] start processing\n",
      "13:59:52 - cmdstanpy - INFO - Chain [1] done processing\n",
      "13:59:52 - cmdstanpy - INFO - Chain [1] start processing\n",
      "13:59:52 - cmdstanpy - INFO - Chain [1] done processing\n"
     ]
    },
    {
     "name": "stdout",
     "output_type": "stream",
     "text": [
      "Model for ARALIYA WHITE RAW RICE 1KG (5U) saved successfully.\n",
      "Model for ASTRA FAT SPREAD 100G saved successfully.\n"
     ]
    },
    {
     "name": "stderr",
     "output_type": "stream",
     "text": [
      "13:59:52 - cmdstanpy - INFO - Chain [1] start processing\n",
      "13:59:52 - cmdstanpy - INFO - Chain [1] done processing\n",
      "13:59:52 - cmdstanpy - INFO - Chain [1] start processing\n",
      "13:59:52 - cmdstanpy - INFO - Chain [1] done processing\n"
     ]
    },
    {
     "name": "stdout",
     "output_type": "stream",
     "text": [
      "Model for ASTRA FAT SPREAD 250G TUB saved successfully.\n",
      "Model for ATLAS CHOOTY 11 3IN PAC ASSORTED saved successfully.\n"
     ]
    },
    {
     "name": "stderr",
     "output_type": "stream",
     "text": [
      "13:59:53 - cmdstanpy - INFO - Chain [1] start processing\n",
      "13:59:53 - cmdstanpy - INFO - Chain [1] done processing\n",
      "13:59:53 - cmdstanpy - INFO - Chain [1] start processing\n",
      "13:59:53 - cmdstanpy - INFO - Chain [1] done processing\n"
     ]
    },
    {
     "name": "stdout",
     "output_type": "stream",
     "text": [
      "Model for ATLAS CHOOTY 11 3IN PAC BLUE saved successfully.\n",
      "Model for ATLAS CR BOOK 120 PGS SINGLE saved successfully.\n"
     ]
    },
    {
     "name": "stderr",
     "output_type": "stream",
     "text": [
      "13:59:53 - cmdstanpy - INFO - Chain [1] start processing\n",
      "13:59:53 - cmdstanpy - INFO - Chain [1] done processing\n",
      "13:59:53 - cmdstanpy - INFO - Chain [1] start processing\n",
      "13:59:53 - cmdstanpy - INFO - Chain [1] done processing\n"
     ]
    },
    {
     "name": "stdout",
     "output_type": "stream",
     "text": [
      "Model for ATLAS CR BOOK 80 PGS saved successfully.\n",
      "Model for ATLAS TAPE EASY LARGE saved successfully.\n"
     ]
    },
    {
     "name": "stderr",
     "output_type": "stream",
     "text": [
      "13:59:53 - cmdstanpy - INFO - Chain [1] start processing\n",
      "13:59:53 - cmdstanpy - INFO - Chain [1] done processing\n",
      "13:59:53 - cmdstanpy - INFO - Chain [1] start processing\n",
      "13:59:53 - cmdstanpy - INFO - Chain [1] done processing\n"
     ]
    },
    {
     "name": "stdout",
     "output_type": "stream",
     "text": [
      "Model for AVOCADO JUICE saved successfully.\n",
      "Model for AXE OIL 5ML saved successfully.\n"
     ]
    },
    {
     "name": "stderr",
     "output_type": "stream",
     "text": [
      "13:59:53 - cmdstanpy - INFO - Chain [1] start processing\n",
      "13:59:54 - cmdstanpy - INFO - Chain [1] done processing\n",
      "13:59:54 - cmdstanpy - INFO - Chain [1] start processing\n",
      "13:59:54 - cmdstanpy - INFO - Chain [1] done processing\n",
      "13:59:54 - cmdstanpy - INFO - Chain [1] start processing\n"
     ]
    },
    {
     "name": "stdout",
     "output_type": "stream",
     "text": [
      "Model for BABY CHERAMY HERBAL CREAM 100ML saved successfully.\n",
      "Model for BABY CHERAMY PAPER COTTON BUDS 100S saved successfully.\n"
     ]
    },
    {
     "name": "stderr",
     "output_type": "stream",
     "text": [
      "13:59:54 - cmdstanpy - INFO - Chain [1] done processing\n",
      "13:59:54 - cmdstanpy - INFO - Chain [1] start processing\n",
      "13:59:54 - cmdstanpy - INFO - Chain [1] done processing\n"
     ]
    },
    {
     "name": "stdout",
     "output_type": "stream",
     "text": [
      "Model for BABY CHERAMY SOAP FLORAL 5*75G saved successfully.\n",
      "Model for BABY CHERAMY SOAP POKURUWA/SADUN 5IN1 saved successfully.\n"
     ]
    },
    {
     "name": "stderr",
     "output_type": "stream",
     "text": [
      "13:59:54 - cmdstanpy - INFO - Chain [1] start processing\n",
      "13:59:54 - cmdstanpy - INFO - Chain [1] done processing\n",
      "13:59:54 - cmdstanpy - INFO - Chain [1] start processing\n",
      "13:59:54 - cmdstanpy - INFO - Chain [1] done processing\n"
     ]
    },
    {
     "name": "stdout",
     "output_type": "stream",
     "text": [
      "Model for BAIRAHA WHOLE CHICKEN SKINLESS saved successfully.\n",
      "Model for BANANA - CAVENDISH saved successfully.\n"
     ]
    },
    {
     "name": "stderr",
     "output_type": "stream",
     "text": [
      "13:59:54 - cmdstanpy - INFO - Chain [1] start processing\n",
      "13:59:54 - cmdstanpy - INFO - Chain [1] done processing\n",
      "13:59:55 - cmdstanpy - INFO - Chain [1] start processing\n",
      "13:59:55 - cmdstanpy - INFO - Chain [1] done processing\n",
      "13:59:55 - cmdstanpy - INFO - Chain [1] start processing\n"
     ]
    },
    {
     "name": "stdout",
     "output_type": "stream",
     "text": [
      "Model for BARAKA ACT FAST 5ML saved successfully.\n",
      "Model for BEAM PAAWATTA SYRUP 100ML saved successfully.\n"
     ]
    },
    {
     "name": "stderr",
     "output_type": "stream",
     "text": [
      "13:59:55 - cmdstanpy - INFO - Chain [1] done processing\n",
      "13:59:55 - cmdstanpy - INFO - Chain [1] start processing\n",
      "13:59:55 - cmdstanpy - INFO - Chain [1] done processing\n",
      "13:59:55 - cmdstanpy - INFO - Chain [1] start processing\n"
     ]
    },
    {
     "name": "stdout",
     "output_type": "stream",
     "text": [
      "Model for BEETROOT saved successfully.\n",
      "Model for BFRESH DRINK NARANG 200ML saved successfully.\n"
     ]
    },
    {
     "name": "stderr",
     "output_type": "stream",
     "text": [
      "13:59:55 - cmdstanpy - INFO - Chain [1] done processing\n",
      "13:59:55 - cmdstanpy - INFO - Chain [1] start processing\n",
      "13:59:55 - cmdstanpy - INFO - Chain [1] done processing\n"
     ]
    },
    {
     "name": "stdout",
     "output_type": "stream",
     "text": [
      "Model for BIC EASY 2 PRECISION RAZOR saved successfully.\n",
      "Model for BIC EASY 2 RAZOR POUCH 4+1 FREE saved successfully.\n"
     ]
    },
    {
     "name": "stderr",
     "output_type": "stream",
     "text": [
      "13:59:55 - cmdstanpy - INFO - Chain [1] start processing\n",
      "13:59:55 - cmdstanpy - INFO - Chain [1] done processing\n",
      "13:59:55 - cmdstanpy - INFO - Chain [1] start processing\n",
      "13:59:55 - cmdstanpy - INFO - Chain [1] done processing\n",
      "13:59:56 - cmdstanpy - INFO - Chain [1] start processing\n"
     ]
    },
    {
     "name": "stdout",
     "output_type": "stream",
     "text": [
      "Model for BIG ONIONS saved successfully.\n",
      "Model for BIO CLEAN SURFACE CLEANER FLORAL 500ML saved successfully.\n"
     ]
    },
    {
     "name": "stderr",
     "output_type": "stream",
     "text": [
      "13:59:56 - cmdstanpy - INFO - Chain [1] done processing\n",
      "13:59:56 - cmdstanpy - INFO - Chain [1] start processing\n",
      "13:59:56 - cmdstanpy - INFO - Chain [1] done processing\n",
      "13:59:56 - cmdstanpy - INFO - Chain [1] start processing\n"
     ]
    },
    {
     "name": "stdout",
     "output_type": "stream",
     "text": [
      "Model for BRITOL ARI FRESHENER PINK DREAM 150ML saved successfully.\n",
      "Model for BUBBLE ALOE VERA WASHING POWDER 500G saved successfully.\n"
     ]
    },
    {
     "name": "stderr",
     "output_type": "stream",
     "text": [
      "13:59:56 - cmdstanpy - INFO - Chain [1] done processing\n",
      "13:59:56 - cmdstanpy - INFO - Chain [1] start processing\n",
      "13:59:56 - cmdstanpy - INFO - Chain [1] done processing\n"
     ]
    },
    {
     "name": "stdout",
     "output_type": "stream",
     "text": [
      "Model for BUBBLE MATIC DETERGENT POWDER 500G saved successfully.\n",
      "Model for CABBAGE saved successfully.\n"
     ]
    },
    {
     "name": "stderr",
     "output_type": "stream",
     "text": [
      "13:59:56 - cmdstanpy - INFO - Chain [1] start processing\n",
      "13:59:56 - cmdstanpy - INFO - Chain [1] done processing\n",
      "13:59:56 - cmdstanpy - INFO - Chain [1] start processing\n",
      "13:59:56 - cmdstanpy - INFO - Chain [1] done processing\n"
     ]
    },
    {
     "name": "stdout",
     "output_type": "stream",
     "text": [
      "Model for CARROT saved successfully.\n",
      "Model for CATCH CHILLI PIECES 100G saved successfully.\n"
     ]
    },
    {
     "name": "stderr",
     "output_type": "stream",
     "text": [
      "13:59:56 - cmdstanpy - INFO - Chain [1] start processing\n",
      "13:59:56 - cmdstanpy - INFO - Chain [1] done processing\n",
      "13:59:57 - cmdstanpy - INFO - Chain [1] start processing\n"
     ]
    },
    {
     "name": "stdout",
     "output_type": "stream",
     "text": [
      "Model for CATCH CHILLI POWDER 100G saved successfully.\n"
     ]
    },
    {
     "name": "stderr",
     "output_type": "stream",
     "text": [
      "13:59:57 - cmdstanpy - INFO - Chain [1] done processing\n",
      "13:59:57 - cmdstanpy - INFO - Chain [1] start processing\n",
      "13:59:57 - cmdstanpy - INFO - Chain [1] done processing\n"
     ]
    },
    {
     "name": "stdout",
     "output_type": "stream",
     "text": [
      "Model for CATCH PEPPER POWDER 100G saved successfully.\n",
      "Model for CATCH ROASTED CHILLIE POWDER 100G saved successfully.\n"
     ]
    },
    {
     "name": "stderr",
     "output_type": "stream",
     "text": [
      "13:59:57 - cmdstanpy - INFO - Chain [1] start processing\n",
      "13:59:57 - cmdstanpy - INFO - Chain [1] done processing\n",
      "13:59:57 - cmdstanpy - INFO - Chain [1] start processing\n",
      "13:59:57 - cmdstanpy - INFO - Chain [1] done processing\n"
     ]
    },
    {
     "name": "stdout",
     "output_type": "stream",
     "text": [
      "Model for CATCH ROASTED CURRY POWDER 100G saved successfully.\n",
      "Model for CENTER FRESH CRUNCH 28G saved successfully.\n"
     ]
    },
    {
     "name": "stderr",
     "output_type": "stream",
     "text": [
      "13:59:57 - cmdstanpy - INFO - Chain [1] start processing\n",
      "13:59:57 - cmdstanpy - INFO - Chain [1] done processing\n",
      "13:59:58 - cmdstanpy - INFO - Chain [1] start processing\n",
      "13:59:58 - cmdstanpy - INFO - Chain [1] done processing\n"
     ]
    },
    {
     "name": "stdout",
     "output_type": "stream",
     "text": [
      "Model for CHEESY CHICKEN SAUSAGE PASTA saved successfully.\n",
      "Model for CHELLO PASTURIZED MILK 1L saved successfully.\n"
     ]
    },
    {
     "name": "stderr",
     "output_type": "stream",
     "text": [
      "13:59:58 - cmdstanpy - INFO - Chain [1] start processing\n",
      "13:59:58 - cmdstanpy - INFO - Chain [1] done processing\n",
      "13:59:58 - cmdstanpy - INFO - Chain [1] start processing\n",
      "13:59:58 - cmdstanpy - INFO - Chain [1] done processing\n"
     ]
    },
    {
     "name": "stdout",
     "output_type": "stream",
     "text": [
      "Model for CHELSEA BUN saved successfully.\n",
      "Model for CHICKEN BOCKWURST HOT DOG saved successfully.\n"
     ]
    },
    {
     "name": "stderr",
     "output_type": "stream",
     "text": [
      "13:59:58 - cmdstanpy - INFO - Chain [1] start processing\n",
      "13:59:58 - cmdstanpy - INFO - Chain [1] done processing\n",
      "13:59:58 - cmdstanpy - INFO - Chain [1] start processing\n",
      "13:59:58 - cmdstanpy - INFO - Chain [1] done processing\n"
     ]
    },
    {
     "name": "stdout",
     "output_type": "stream",
     "text": [
      "Model for CHICKEN CURRY saved successfully.\n",
      "Model for CHICKEN DRUMSTICKS SKIN ON saved successfully.\n"
     ]
    },
    {
     "name": "stderr",
     "output_type": "stream",
     "text": [
      "13:59:58 - cmdstanpy - INFO - Chain [1] start processing\n",
      "13:59:58 - cmdstanpy - INFO - Chain [1] done processing\n",
      "13:59:58 - cmdstanpy - INFO - Chain [1] start processing\n",
      "13:59:59 - cmdstanpy - INFO - Chain [1] done processing\n"
     ]
    },
    {
     "name": "stdout",
     "output_type": "stream",
     "text": [
      "Model for CHICKEN FRIED RICE WITH CHOP SUEY saved successfully.\n",
      "Model for CHICKEN FULL BREAST SKINLESS saved successfully.\n"
     ]
    },
    {
     "name": "stderr",
     "output_type": "stream",
     "text": [
      "13:59:59 - cmdstanpy - INFO - Chain [1] start processing\n",
      "13:59:59 - cmdstanpy - INFO - Chain [1] done processing\n",
      "13:59:59 - cmdstanpy - INFO - Chain [1] start processing\n",
      "13:59:59 - cmdstanpy - INFO - Chain [1] done processing\n",
      "13:59:59 - cmdstanpy - INFO - Chain [1] start processing\n"
     ]
    },
    {
     "name": "stdout",
     "output_type": "stream",
     "text": [
      "Model for CHICKEN KOCHCHI BITE HOT DOG saved successfully.\n",
      "Model for CHICKEN LASAGNA saved successfully.\n"
     ]
    },
    {
     "name": "stderr",
     "output_type": "stream",
     "text": [
      "13:59:59 - cmdstanpy - INFO - Chain [1] done processing\n",
      "13:59:59 - cmdstanpy - INFO - Chain [1] start processing\n",
      "13:59:59 - cmdstanpy - INFO - Chain [1] done processing\n"
     ]
    },
    {
     "name": "stdout",
     "output_type": "stream",
     "text": [
      "Model for CHICKEN NECK saved successfully.\n",
      "Model for CHICKEN SAMOSA saved successfully.\n"
     ]
    },
    {
     "name": "stderr",
     "output_type": "stream",
     "text": [
      "13:59:59 - cmdstanpy - INFO - Chain [1] start processing\n",
      "13:59:59 - cmdstanpy - INFO - Chain [1] done processing\n",
      "13:59:59 - cmdstanpy - INFO - Chain [1] start processing\n",
      "13:59:59 - cmdstanpy - INFO - Chain [1] done processing\n"
     ]
    },
    {
     "name": "stdout",
     "output_type": "stream",
     "text": [
      "Model for CHICKEN SANDWICH BAGUETTE saved successfully.\n",
      "Model for CHICKEN THIGH SKINLESS saved successfully.\n"
     ]
    },
    {
     "name": "stderr",
     "output_type": "stream",
     "text": [
      "13:59:59 - cmdstanpy - INFO - Chain [1] start processing\n",
      "13:59:59 - cmdstanpy - INFO - Chain [1] done processing\n",
      "14:00:00 - cmdstanpy - INFO - Chain [1] start processing\n",
      "14:00:00 - cmdstanpy - INFO - Chain [1] done processing\n"
     ]
    },
    {
     "name": "stdout",
     "output_type": "stream",
     "text": [
      "Model for CHILLED PIZZA LARGE - ROAST CHICKEN saved successfully.\n",
      "Model for CHILLED PIZZA LARGE - TANDOORI CHICKEN saved successfully.\n"
     ]
    },
    {
     "name": "stderr",
     "output_type": "stream",
     "text": [
      "14:00:00 - cmdstanpy - INFO - Chain [1] start processing\n",
      "14:00:00 - cmdstanpy - INFO - Chain [1] done processing\n",
      "14:00:00 - cmdstanpy - INFO - Chain [1] start processing\n",
      "14:00:00 - cmdstanpy - INFO - Chain [1] done processing\n"
     ]
    },
    {
     "name": "stdout",
     "output_type": "stream",
     "text": [
      "Model for CIC BASMATHI RICE BULK saved successfully.\n",
      "Model for CIC FARM FRESH CURD 800ML saved successfully.\n"
     ]
    },
    {
     "name": "stderr",
     "output_type": "stream",
     "text": [
      "14:00:00 - cmdstanpy - INFO - Chain [1] start processing\n",
      "14:00:00 - cmdstanpy - INFO - Chain [1] done processing\n",
      "14:00:00 - cmdstanpy - INFO - Chain [1] start processing\n",
      "14:00:00 - cmdstanpy - INFO - Chain [1] done processing\n"
     ]
    },
    {
     "name": "stdout",
     "output_type": "stream",
     "text": [
      "Model for CIC PRE CUT WHOLE CHICKEN SKINLESS saved successfully.\n",
      "Model for CIC SKIN LESS WHOLE CHICKEN saved successfully.\n"
     ]
    },
    {
     "name": "stderr",
     "output_type": "stream",
     "text": [
      "14:00:00 - cmdstanpy - INFO - Chain [1] start processing\n",
      "14:00:00 - cmdstanpy - INFO - Chain [1] done processing\n",
      "14:00:00 - cmdstanpy - INFO - Chain [1] start processing\n",
      "14:00:00 - cmdstanpy - INFO - Chain [1] done processing\n"
     ]
    },
    {
     "name": "stdout",
     "output_type": "stream",
     "text": [
      "Model for CLOGARD FRESH GEL T/P LEMONGRASS 120G saved successfully.\n",
      "Model for CLOGARD FRESH GEL TOOTHPASTE MINT 40G saved successfully.\n"
     ]
    },
    {
     "name": "stderr",
     "output_type": "stream",
     "text": [
      "14:00:01 - cmdstanpy - INFO - Chain [1] start processing\n",
      "14:00:01 - cmdstanpy - INFO - Chain [1] done processing\n",
      "14:00:01 - cmdstanpy - INFO - Chain [1] start processing\n",
      "14:00:01 - cmdstanpy - INFO - Chain [1] done processing\n"
     ]
    },
    {
     "name": "stdout",
     "output_type": "stream",
     "text": [
      "Model for CLOGARD FRESH MINT NS TOOTH PASTE 70G saved successfully.\n",
      "Model for CLOGARD FRESH T/P GEL MINT 120G saved successfully.\n"
     ]
    },
    {
     "name": "stderr",
     "output_type": "stream",
     "text": [
      "14:00:01 - cmdstanpy - INFO - Chain [1] start processing\n",
      "14:00:01 - cmdstanpy - INFO - Chain [1] done processing\n",
      "14:00:01 - cmdstanpy - INFO - Chain [1] start processing\n",
      "14:00:01 - cmdstanpy - INFO - Chain [1] done processing\n"
     ]
    },
    {
     "name": "stdout",
     "output_type": "stream",
     "text": [
      "Model for CLOGARD SMART PLUS TOOTHBRUSH saved successfully.\n",
      "Model for COCA COLA BOTTLE 400ML saved successfully.\n"
     ]
    },
    {
     "name": "stderr",
     "output_type": "stream",
     "text": [
      "14:00:01 - cmdstanpy - INFO - Chain [1] start processing\n",
      "14:00:01 - cmdstanpy - INFO - Chain [1] done processing\n",
      "14:00:01 - cmdstanpy - INFO - Chain [1] start processing\n",
      "14:00:02 - cmdstanpy - INFO - Chain [1] done processing\n"
     ]
    },
    {
     "name": "stdout",
     "output_type": "stream",
     "text": [
      "Model for COCONUT saved successfully.\n",
      "Model for COLMANS N/COCONUT WATER VINEGR 350ML saved successfully.\n"
     ]
    },
    {
     "name": "stderr",
     "output_type": "stream",
     "text": [
      "14:00:02 - cmdstanpy - INFO - Chain [1] start processing\n",
      "14:00:02 - cmdstanpy - INFO - Chain [1] done processing\n",
      "14:00:02 - cmdstanpy - INFO - Chain [1] start processing\n",
      "14:00:02 - cmdstanpy - INFO - Chain [1] done processing\n"
     ]
    },
    {
     "name": "stdout",
     "output_type": "stream",
     "text": [
      "Model for CUCUMBER saved successfully.\n",
      "Model for DELMEGE SOYA MEAT MUTTON 90G saved successfully.\n"
     ]
    },
    {
     "name": "stderr",
     "output_type": "stream",
     "text": [
      "14:00:02 - cmdstanpy - INFO - Chain [1] start processing\n",
      "14:00:02 - cmdstanpy - INFO - Chain [1] done processing\n",
      "14:00:02 - cmdstanpy - INFO - Chain [1] start processing\n",
      "14:00:02 - cmdstanpy - INFO - Chain [1] done processing\n"
     ]
    },
    {
     "name": "stdout",
     "output_type": "stream",
     "text": [
      "Model for DETTOL SOAP ORIGINAL 100G saved successfully.\n",
      "Model for DIABETASOL NUTRI POWDER VANILLA 180G saved successfully.\n"
     ]
    },
    {
     "name": "stderr",
     "output_type": "stream",
     "text": [
      "14:00:03 - cmdstanpy - INFO - Chain [1] start processing\n",
      "14:00:03 - cmdstanpy - INFO - Chain [1] done processing\n",
      "14:00:03 - cmdstanpy - INFO - Chain [1] start processing\n",
      "14:00:03 - cmdstanpy - INFO - Chain [1] done processing\n"
     ]
    },
    {
     "name": "stdout",
     "output_type": "stream",
     "text": [
      "Model for DIMO 12W DAY PIN BUY 2 SAVE 300 saved successfully.\n",
      "Model for DIMO LUMIN LED 7W DAY PIN saved successfully.\n"
     ]
    },
    {
     "name": "stderr",
     "output_type": "stream",
     "text": [
      "14:00:03 - cmdstanpy - INFO - Chain [1] start processing\n",
      "14:00:03 - cmdstanpy - INFO - Chain [1] done processing\n",
      "14:00:03 - cmdstanpy - INFO - Chain [1] start processing\n",
      "14:00:03 - cmdstanpy - INFO - Chain [1] done processing\n"
     ]
    },
    {
     "name": "stdout",
     "output_type": "stream",
     "text": [
      "Model for DIVA PWER C/GUARD L-DETERGENT 600MLG saved successfully.\n",
      "Model for DOUBLEACE SUPER SCRUBBER saved successfully.\n"
     ]
    },
    {
     "name": "stderr",
     "output_type": "stream",
     "text": [
      "14:00:03 - cmdstanpy - INFO - Chain [1] start processing\n",
      "14:00:03 - cmdstanpy - INFO - Chain [1] done processing\n",
      "14:00:03 - cmdstanpy - INFO - Chain [1] start processing\n"
     ]
    },
    {
     "name": "stdout",
     "output_type": "stream",
     "text": [
      "Model for DOVE CONDITIONER OXYGEN MOISTU 180ML saved successfully.\n"
     ]
    },
    {
     "name": "stderr",
     "output_type": "stream",
     "text": [
      "14:00:04 - cmdstanpy - INFO - Chain [1] done processing\n",
      "14:00:04 - cmdstanpy - INFO - Chain [1] start processing\n",
      "14:00:04 - cmdstanpy - INFO - Chain [1] done processing\n"
     ]
    },
    {
     "name": "stdout",
     "output_type": "stream",
     "text": [
      "Model for DOVE DANDRUFF CARE CONDITIONER 180ML saved successfully.\n",
      "Model for DOVE DANDRUFF CARE SHAMPOO 180ML saved successfully.\n"
     ]
    },
    {
     "name": "stderr",
     "output_type": "stream",
     "text": [
      "14:00:04 - cmdstanpy - INFO - Chain [1] start processing\n",
      "14:00:04 - cmdstanpy - INFO - Chain [1] done processing\n",
      "14:00:04 - cmdstanpy - INFO - Chain [1] start processing\n",
      "14:00:04 - cmdstanpy - INFO - Chain [1] done processing\n"
     ]
    },
    {
     "name": "stdout",
     "output_type": "stream",
     "text": [
      "Model for DOVE HEALTHY RITUAL GROW/SHAMP 180ML saved successfully.\n",
      "Model for DOVE SHAMPO OXYGEN MOISTURE 180ML saved successfully.\n"
     ]
    },
    {
     "name": "stderr",
     "output_type": "stream",
     "text": [
      "14:00:04 - cmdstanpy - INFO - Chain [1] start processing\n",
      "14:00:04 - cmdstanpy - INFO - Chain [1] done processing\n",
      "14:00:04 - cmdstanpy - INFO - Chain [1] start processing\n",
      "14:00:04 - cmdstanpy - INFO - Chain [1] done processing\n"
     ]
    },
    {
     "name": "stdout",
     "output_type": "stream",
     "text": [
      "Model for EDINBOROUGH GARLIC MAYONNAISE 170G saved successfully.\n",
      "Model for EDINBOROUGH SOY SAUCE SQU. 385G saved successfully.\n"
     ]
    },
    {
     "name": "stderr",
     "output_type": "stream",
     "text": [
      "14:00:04 - cmdstanpy - INFO - Chain [1] start processing\n",
      "14:00:04 - cmdstanpy - INFO - Chain [1] done processing\n",
      "14:00:05 - cmdstanpy - INFO - Chain [1] start processing\n",
      "14:00:05 - cmdstanpy - INFO - Chain [1] done processing\n"
     ]
    },
    {
     "name": "stdout",
     "output_type": "stream",
     "text": [
      "Model for EGG PLANTS saved successfully.\n",
      "Model for EH GINGER BEER 1.5L saved successfully.\n"
     ]
    },
    {
     "name": "stderr",
     "output_type": "stream",
     "text": [
      "14:00:05 - cmdstanpy - INFO - Chain [1] start processing\n",
      "14:00:05 - cmdstanpy - INFO - Chain [1] done processing\n",
      "14:00:05 - cmdstanpy - INFO - Chain [1] start processing\n",
      "14:00:05 - cmdstanpy - INFO - Chain [1] done processing\n"
     ]
    },
    {
     "name": "stdout",
     "output_type": "stream",
     "text": [
      "Model for EH GINGER BEER 500ML saved successfully.\n",
      "Model for EH I/C FRUIT & NUT TUB 80ML saved successfully.\n"
     ]
    },
    {
     "name": "stderr",
     "output_type": "stream",
     "text": [
      "14:00:05 - cmdstanpy - INFO - Chain [1] start processing\n",
      "14:00:05 - cmdstanpy - INFO - Chain [1] done processing\n",
      "14:00:05 - cmdstanpy - INFO - Chain [1] start processing\n"
     ]
    },
    {
     "name": "stdout",
     "output_type": "stream",
     "text": [
      "Model for EH I/C PANI CADJU TUB 80ML saved successfully.\n"
     ]
    },
    {
     "name": "stderr",
     "output_type": "stream",
     "text": [
      "14:00:05 - cmdstanpy - INFO - Chain [1] done processing\n",
      "14:00:06 - cmdstanpy - INFO - Chain [1] start processing\n",
      "14:00:06 - cmdstanpy - INFO - Chain [1] done processing\n"
     ]
    },
    {
     "name": "stdout",
     "output_type": "stream",
     "text": [
      "Model for EH LEMONADE 1.5L saved successfully.\n"
     ]
    },
    {
     "name": "stderr",
     "output_type": "stream",
     "text": [
      "14:00:06 - cmdstanpy - INFO - Chain [1] start processing\n",
      "14:00:06 - cmdstanpy - INFO - Chain [1] done processing\n"
     ]
    },
    {
     "name": "stdout",
     "output_type": "stream",
     "text": [
      "Model for EH LEMONADE 1L saved successfully.\n",
      "Model for EH STRAWBERRY MILK 190ML saved successfully.\n"
     ]
    },
    {
     "name": "stderr",
     "output_type": "stream",
     "text": [
      "14:00:06 - cmdstanpy - INFO - Chain [1] start processing\n",
      "14:00:06 - cmdstanpy - INFO - Chain [1] done processing\n",
      "14:00:06 - cmdstanpy - INFO - Chain [1] start processing\n",
      "14:00:06 - cmdstanpy - INFO - Chain [1] done processing\n"
     ]
    },
    {
     "name": "stdout",
     "output_type": "stream",
     "text": [
      "Model for EH TWISTEE APPLE 200ML saved successfully.\n",
      "Model for ELECTRICAL INSULATING TAPE 2INCH saved successfully.\n"
     ]
    },
    {
     "name": "stderr",
     "output_type": "stream",
     "text": [
      "14:00:06 - cmdstanpy - INFO - Chain [1] start processing\n",
      "14:00:06 - cmdstanpy - INFO - Chain [1] done processing\n",
      "14:00:06 - cmdstanpy - INFO - Chain [1] start processing\n",
      "14:00:06 - cmdstanpy - INFO - Chain [1] done processing\n"
     ]
    },
    {
     "name": "stdout",
     "output_type": "stream",
     "text": [
      "Model for ELEGANT NON-MEDICAL KN95 FACE MASK saved successfully.\n",
      "Model for ELEPHANT PAPADAM 60G saved successfully.\n"
     ]
    },
    {
     "name": "stderr",
     "output_type": "stream",
     "text": [
      "14:00:07 - cmdstanpy - INFO - Chain [1] start processing\n",
      "14:00:07 - cmdstanpy - INFO - Chain [1] done processing\n",
      "14:00:07 - cmdstanpy - INFO - Chain [1] start processing\n",
      "14:00:07 - cmdstanpy - INFO - Chain [1] done processing\n"
     ]
    },
    {
     "name": "stdout",
     "output_type": "stream",
     "text": [
      "Model for ENCHANTEUR EDC SENSATIONAL 100ML saved successfully.\n",
      "Model for EVA COTTON FEEL WINGS 16 saved successfully.\n"
     ]
    },
    {
     "name": "stderr",
     "output_type": "stream",
     "text": [
      "14:00:07 - cmdstanpy - INFO - Chain [1] start processing\n",
      "14:00:07 - cmdstanpy - INFO - Chain [1] done processing\n",
      "14:00:07 - cmdstanpy - INFO - Chain [1] start processing\n",
      "14:00:07 - cmdstanpy - INFO - Chain [1] done processing\n"
     ]
    },
    {
     "name": "stdout",
     "output_type": "stream",
     "text": [
      "Model for EVA PADS DRITEX WINGS 10S saved successfully.\n",
      "Model for EVA SANITARY NAPKINS DRYTEX WINGS 16S saved successfully.\n"
     ]
    },
    {
     "name": "stderr",
     "output_type": "stream",
     "text": [
      "14:00:07 - cmdstanpy - INFO - Chain [1] start processing\n",
      "14:00:07 - cmdstanpy - INFO - Chain [1] done processing\n",
      "14:00:07 - cmdstanpy - INFO - Chain [1] start processing\n",
      "14:00:07 - cmdstanpy - INFO - Chain [1] done processing\n"
     ]
    },
    {
     "name": "stdout",
     "output_type": "stream",
     "text": [
      "Model for EVANGELINE HOLY EDP PERFUME 60ML saved successfully.\n",
      "Model for FADNA TUMMY TEA 15S 30G saved successfully.\n"
     ]
    },
    {
     "name": "stderr",
     "output_type": "stream",
     "text": [
      "14:00:08 - cmdstanpy - INFO - Chain [1] start processing\n",
      "14:00:08 - cmdstanpy - INFO - Chain [1] done processing\n",
      "14:00:08 - cmdstanpy - INFO - Chain [1] start processing\n",
      "14:00:08 - cmdstanpy - INFO - Chain [1] done processing\n"
     ]
    },
    {
     "name": "stdout",
     "output_type": "stream",
     "text": [
      "Model for FALUDA saved successfully.\n",
      "Model for FANTA PORTELLO BOTTLE 400ML saved successfully.\n"
     ]
    },
    {
     "name": "stderr",
     "output_type": "stream",
     "text": [
      "14:00:08 - cmdstanpy - INFO - Chain [1] start processing\n",
      "14:00:08 - cmdstanpy - INFO - Chain [1] done processing\n",
      "14:00:08 - cmdstanpy - INFO - Chain [1] start processing\n",
      "14:00:08 - cmdstanpy - INFO - Chain [1] done processing\n"
     ]
    },
    {
     "name": "stdout",
     "output_type": "stream",
     "text": [
      "Model for FINAGLE CRUST TOP BREAD 400G saved successfully.\n"
     ]
    },
    {
     "name": "stderr",
     "output_type": "stream",
     "text": [
      "14:00:08 - cmdstanpy - INFO - Chain [1] start processing\n",
      "14:00:08 - cmdstanpy - INFO - Chain [1] done processing\n"
     ]
    },
    {
     "name": "stdout",
     "output_type": "stream",
     "text": [
      "Model for FINAGLE SANDWICH BREAD 500G saved successfully.\n",
      "Model for FINEX FACIAL TISSUES 100 SHEETS saved successfully.\n"
     ]
    },
    {
     "name": "stderr",
     "output_type": "stream",
     "text": [
      "14:00:09 - cmdstanpy - INFO - Chain [1] start processing\n",
      "14:00:09 - cmdstanpy - INFO - Chain [1] done processing\n",
      "14:00:09 - cmdstanpy - INFO - Chain [1] start processing\n",
      "14:00:09 - cmdstanpy - INFO - Chain [1] done processing\n"
     ]
    },
    {
     "name": "stdout",
     "output_type": "stream",
     "text": [
      "Model for FISH ROLL saved successfully.\n",
      "Model for FISH SALAD TWIST saved successfully.\n"
     ]
    },
    {
     "name": "stderr",
     "output_type": "stream",
     "text": [
      "14:00:09 - cmdstanpy - INFO - Chain [1] start processing\n",
      "14:00:09 - cmdstanpy - INFO - Chain [1] done processing\n",
      "14:00:09 - cmdstanpy - INFO - Chain [1] start processing\n",
      "14:00:09 - cmdstanpy - INFO - Chain [1] done processing\n"
     ]
    },
    {
     "name": "stdout",
     "output_type": "stream",
     "text": [
      "Model for FLORA FACIAL TISSUE BOX 70S saved successfully.\n",
      "Model for FLORA FACIAL TISSUES BOX 100S saved successfully.\n"
     ]
    },
    {
     "name": "stderr",
     "output_type": "stream",
     "text": [
      "14:00:09 - cmdstanpy - INFO - Chain [1] start processing\n",
      "14:00:09 - cmdstanpy - INFO - Chain [1] done processing\n",
      "14:00:09 - cmdstanpy - INFO - Chain [1] start processing\n",
      "14:00:09 - cmdstanpy - INFO - Chain [1] done processing\n"
     ]
    },
    {
     "name": "stdout",
     "output_type": "stream",
     "text": [
      "Model for FLORA FACIAL TISSUES BOX 50S saved successfully.\n",
      "Model for FLORA PAPER SERVIETTES 1 PLY 25S saved successfully.\n"
     ]
    },
    {
     "name": "stderr",
     "output_type": "stream",
     "text": [
      "14:00:09 - cmdstanpy - INFO - Chain [1] start processing\n",
      "14:00:10 - cmdstanpy - INFO - Chain [1] done processing\n",
      "14:00:10 - cmdstanpy - INFO - Chain [1] start processing\n",
      "14:00:10 - cmdstanpy - INFO - Chain [1] done processing\n"
     ]
    },
    {
     "name": "stdout",
     "output_type": "stream",
     "text": [
      "Model for FLORA PAPER SERVIETTES WHI.2 PLY 50S saved successfully.\n",
      "Model for FLORA TOOTH PICKS PLASTIC JAR 200S saved successfully.\n"
     ]
    },
    {
     "name": "stderr",
     "output_type": "stream",
     "text": [
      "14:00:10 - cmdstanpy - INFO - Chain [1] start processing\n",
      "14:00:10 - cmdstanpy - INFO - Chain [1] done processing\n",
      "14:00:10 - cmdstanpy - INFO - Chain [1] start processing\n",
      "14:00:10 - cmdstanpy - INFO - Chain [1] done processing\n"
     ]
    },
    {
     "name": "stdout",
     "output_type": "stream",
     "text": [
      "Model for FOGG B/SPRAY PARADISE - WOMEN 120ML saved successfully.\n",
      "Model for FORTUNE COCONUT OIL 500ML saved successfully.\n"
     ]
    },
    {
     "name": "stderr",
     "output_type": "stream",
     "text": [
      "14:00:10 - cmdstanpy - INFO - Chain [1] start processing\n",
      "14:00:10 - cmdstanpy - INFO - Chain [1] done processing\n",
      "14:00:10 - cmdstanpy - INFO - Chain [1] start processing\n"
     ]
    },
    {
     "name": "stdout",
     "output_type": "stream",
     "text": [
      "Model for FREELAN MEAT CURRY POWDER 100G saved successfully.\n"
     ]
    },
    {
     "name": "stderr",
     "output_type": "stream",
     "text": [
      "14:00:10 - cmdstanpy - INFO - Chain [1] done processing\n",
      "14:00:10 - cmdstanpy - INFO - Chain [1] start processing\n"
     ]
    },
    {
     "name": "stdout",
     "output_type": "stream",
     "text": [
      "Model for FRESH LEAF CHOPPED MUKUNUWENNA 150G saved successfully.\n"
     ]
    },
    {
     "name": "stderr",
     "output_type": "stream",
     "text": [
      "14:00:11 - cmdstanpy - INFO - Chain [1] done processing\n",
      "14:00:11 - cmdstanpy - INFO - Chain [1] start processing\n",
      "14:00:11 - cmdstanpy - INFO - Chain [1] done processing\n"
     ]
    },
    {
     "name": "stdout",
     "output_type": "stream",
     "text": [
      "Model for GARLIC saved successfully.\n",
      "Model for GILLETTE BLUE 11 PLUS SINGLES saved successfully.\n"
     ]
    },
    {
     "name": "stderr",
     "output_type": "stream",
     "text": [
      "14:00:11 - cmdstanpy - INFO - Chain [1] start processing\n",
      "14:00:11 - cmdstanpy - INFO - Chain [1] done processing\n",
      "14:00:11 - cmdstanpy - INFO - Chain [1] start processing\n",
      "14:00:11 - cmdstanpy - INFO - Chain [1] done processing\n"
     ]
    },
    {
     "name": "stdout",
     "output_type": "stream",
     "text": [
      "Model for GINGER saved successfully.\n",
      "Model for GLOBLE GREEN ORGANIC OYS/MUSHRM 200G saved successfully.\n"
     ]
    },
    {
     "name": "stderr",
     "output_type": "stream",
     "text": [
      "14:00:11 - cmdstanpy - INFO - Chain [1] start processing\n",
      "14:00:11 - cmdstanpy - INFO - Chain [1] done processing\n",
      "14:00:11 - cmdstanpy - INFO - Chain [1] start processing\n",
      "14:00:11 - cmdstanpy - INFO - Chain [1] done processing\n"
     ]
    },
    {
     "name": "stdout",
     "output_type": "stream",
     "text": [
      "Model for GOLDI CHICKEN SAUSAGE SUPEME 250G saved successfully.\n",
      "Model for GOLDI CHICKEN SAUSAGE SUPEME 500G saved successfully.\n"
     ]
    },
    {
     "name": "stderr",
     "output_type": "stream",
     "text": [
      "14:00:11 - cmdstanpy - INFO - Chain [1] start processing\n",
      "14:00:11 - cmdstanpy - INFO - Chain [1] done processing\n",
      "14:00:12 - cmdstanpy - INFO - Chain [1] start processing\n",
      "14:00:12 - cmdstanpy - INFO - Chain [1] done processing\n"
     ]
    },
    {
     "name": "stdout",
     "output_type": "stream",
     "text": [
      "Model for GOVI ARUNA CHILLI POWDER 100G saved successfully.\n",
      "Model for GRAPES - RED saved successfully.\n"
     ]
    },
    {
     "name": "stderr",
     "output_type": "stream",
     "text": [
      "14:00:12 - cmdstanpy - INFO - Chain [1] start processing\n",
      "14:00:12 - cmdstanpy - INFO - Chain [1] done processing\n",
      "14:00:12 - cmdstanpy - INFO - Chain [1] start processing\n",
      "14:00:12 - cmdstanpy - INFO - Chain [1] done processing\n"
     ]
    },
    {
     "name": "stdout",
     "output_type": "stream",
     "text": [
      "Model for GREEN BEANS saved successfully.\n",
      "Model for GREEN CHILIES saved successfully.\n"
     ]
    },
    {
     "name": "stderr",
     "output_type": "stream",
     "text": [
      "14:00:12 - cmdstanpy - INFO - Chain [1] start processing\n",
      "14:00:12 - cmdstanpy - INFO - Chain [1] done processing\n",
      "14:00:12 - cmdstanpy - INFO - Chain [1] start processing\n",
      "14:00:12 - cmdstanpy - INFO - Chain [1] done processing\n"
     ]
    },
    {
     "name": "stdout",
     "output_type": "stream",
     "text": [
      "Model for GW FRESH QUAIL EGGS 110G saved successfully.\n",
      "Model for HAPPY DENT CHEWING GUM MINT WHITE 10.2G saved successfully.\n"
     ]
    },
    {
     "name": "stderr",
     "output_type": "stream",
     "text": [
      "14:00:12 - cmdstanpy - INFO - Chain [1] start processing\n",
      "14:00:12 - cmdstanpy - INFO - Chain [1] done processing\n",
      "14:00:13 - cmdstanpy - INFO - Chain [1] start processing\n",
      "14:00:13 - cmdstanpy - INFO - Chain [1] done processing\n"
     ]
    },
    {
     "name": "stdout",
     "output_type": "stream",
     "text": [
      "Model for HAPPY HEN BROWN EGG LARGE 10S saved successfully.\n",
      "Model for HARISCHANDRA MASALA PAPPADAM 70G saved successfully.\n"
     ]
    },
    {
     "name": "stderr",
     "output_type": "stream",
     "text": [
      "14:00:13 - cmdstanpy - INFO - Chain [1] start processing\n",
      "14:00:13 - cmdstanpy - INFO - Chain [1] done processing\n",
      "14:00:13 - cmdstanpy - INFO - Chain [1] start processing\n",
      "14:00:13 - cmdstanpy - INFO - Chain [1] done processing\n"
     ]
    },
    {
     "name": "stdout",
     "output_type": "stream",
     "text": [
      "Model for HARISCHANDRA NOODLES 400G saved successfully.\n",
      "Model for HARISCHANDRA PAPADAM 70G saved successfully.\n"
     ]
    },
    {
     "name": "stderr",
     "output_type": "stream",
     "text": [
      "14:00:13 - cmdstanpy - INFO - Chain [1] start processing\n",
      "14:00:13 - cmdstanpy - INFO - Chain [1] done processing\n",
      "14:00:13 - cmdstanpy - INFO - Chain [1] start processing\n",
      "14:00:13 - cmdstanpy - INFO - Chain [1] done processing\n"
     ]
    },
    {
     "name": "stdout",
     "output_type": "stream",
     "text": [
      "Model for HARISCHANDRA PLAIN NOODLES 400G saved successfully.\n",
      "Model for HIGHLAND YOGHURT SET PLAIN 80G saved successfully.\n"
     ]
    },
    {
     "name": "stderr",
     "output_type": "stream",
     "text": [
      "14:00:13 - cmdstanpy - INFO - Chain [1] start processing\n",
      "14:00:13 - cmdstanpy - INFO - Chain [1] done processing\n",
      "14:00:14 - cmdstanpy - INFO - Chain [1] start processing\n",
      "14:00:14 - cmdstanpy - INFO - Chain [1] done processing\n"
     ]
    },
    {
     "name": "stdout",
     "output_type": "stream",
     "text": [
      "Model for IMORICH BLACK FOREST CONE 120ML saved successfully.\n",
      "Model for IMORICH COOKIE CREAM CONE 120ML saved successfully.\n"
     ]
    },
    {
     "name": "stderr",
     "output_type": "stream",
     "text": [
      "14:00:14 - cmdstanpy - INFO - Chain [1] start processing\n",
      "14:00:14 - cmdstanpy - INFO - Chain [1] done processing\n",
      "14:00:14 - cmdstanpy - INFO - Chain [1] start processing\n",
      "14:00:14 - cmdstanpy - INFO - Chain [1] done processing\n"
     ]
    },
    {
     "name": "stdout",
     "output_type": "stream",
     "text": [
      "Model for IRESHA MASALA REMIX PAPADAM 60G saved successfully.\n",
      "Model for ISLAND COFFEE VANILA 100G saved successfully.\n"
     ]
    },
    {
     "name": "stderr",
     "output_type": "stream",
     "text": [
      "14:00:14 - cmdstanpy - INFO - Chain [1] start processing\n",
      "14:00:14 - cmdstanpy - INFO - Chain [1] done processing\n",
      "14:00:14 - cmdstanpy - INFO - Chain [1] start processing\n"
     ]
    },
    {
     "name": "stdout",
     "output_type": "stream",
     "text": [
      "Model for JIGGLES B-RRY BITES GUMMIES 25G saved successfully.\n"
     ]
    },
    {
     "name": "stderr",
     "output_type": "stream",
     "text": [
      "14:00:14 - cmdstanpy - INFO - Chain [1] done processing\n",
      "14:00:14 - cmdstanpy - INFO - Chain [1] start processing\n",
      "14:00:14 - cmdstanpy - INFO - Chain [1] done processing\n"
     ]
    },
    {
     "name": "stdout",
     "output_type": "stream",
     "text": [
      "Model for KANDAWATTA CURD 900 ml saved successfully.\n",
      "Model for KANDOS CASHEWNUT CHOCOLATE 45G saved successfully.\n"
     ]
    },
    {
     "name": "stderr",
     "output_type": "stream",
     "text": [
      "14:00:15 - cmdstanpy - INFO - Chain [1] start processing\n",
      "14:00:15 - cmdstanpy - INFO - Chain [1] done processing\n",
      "14:00:15 - cmdstanpy - INFO - Chain [1] start processing\n",
      "14:00:15 - cmdstanpy - INFO - Chain [1] done processing\n"
     ]
    },
    {
     "name": "stdout",
     "output_type": "stream",
     "text": [
      "Model for KANDOS CHOCOLATE COATED CHOCONUT 115G saved successfully.\n",
      "Model for KANDOS CHOCONUTS 65G saved successfully.\n"
     ]
    },
    {
     "name": "stderr",
     "output_type": "stream",
     "text": [
      "14:00:15 - cmdstanpy - INFO - Chain [1] start processing\n",
      "14:00:15 - cmdstanpy - INFO - Chain [1] done processing\n",
      "14:00:15 - cmdstanpy - INFO - Chain [1] start processing\n",
      "14:00:15 - cmdstanpy - INFO - Chain [1] done processing\n"
     ]
    },
    {
     "name": "stdout",
     "output_type": "stream",
     "text": [
      "Model for KANDOS COCOMATE 100G saved successfully.\n",
      "Model for KANDOS LARGE CASHEWNUT CHOCO 100G saved successfully.\n"
     ]
    },
    {
     "name": "stderr",
     "output_type": "stream",
     "text": [
      "14:00:15 - cmdstanpy - INFO - Chain [1] start processing\n",
      "14:00:15 - cmdstanpy - INFO - Chain [1] done processing\n",
      "14:00:15 - cmdstanpy - INFO - Chain [1] start processing\n",
      "14:00:16 - cmdstanpy - INFO - Chain [1] done processing\n"
     ]
    },
    {
     "name": "stdout",
     "output_type": "stream",
     "text": [
      "Model for KANDOS STD.NUT MILK CHOCOCOLATE 30G saved successfully.\n",
      "Model for KEELLS BAG LARGE saved successfully.\n"
     ]
    },
    {
     "name": "stderr",
     "output_type": "stream",
     "text": [
      "14:00:16 - cmdstanpy - INFO - Chain [1] start processing\n",
      "14:00:16 - cmdstanpy - INFO - Chain [1] done processing\n",
      "14:00:16 - cmdstanpy - INFO - Chain [1] start processing\n",
      "14:00:16 - cmdstanpy - INFO - Chain [1] done processing\n"
     ]
    },
    {
     "name": "stdout",
     "output_type": "stream",
     "text": [
      "Model for KEELLS CHICK PEAS 500G saved successfully.\n",
      "Model for KEELLS CHILLIE PIECES 100G saved successfully.\n"
     ]
    },
    {
     "name": "stderr",
     "output_type": "stream",
     "text": [
      "14:00:16 - cmdstanpy - INFO - Chain [1] start processing\n",
      "14:00:16 - cmdstanpy - INFO - Chain [1] done processing\n",
      "14:00:16 - cmdstanpy - INFO - Chain [1] start processing\n"
     ]
    },
    {
     "name": "stdout",
     "output_type": "stream",
     "text": [
      "Model for KEELLS CHILLIE POWDER 100G saved successfully.\n"
     ]
    },
    {
     "name": "stderr",
     "output_type": "stream",
     "text": [
      "14:00:16 - cmdstanpy - INFO - Chain [1] done processing\n",
      "14:00:16 - cmdstanpy - INFO - Chain [1] start processing\n"
     ]
    },
    {
     "name": "stdout",
     "output_type": "stream",
     "text": [
      "Model for KEELLS CINNAMON STICKS 25G saved successfully.\n"
     ]
    },
    {
     "name": "stderr",
     "output_type": "stream",
     "text": [
      "14:00:16 - cmdstanpy - INFO - Chain [1] done processing\n",
      "14:00:17 - cmdstanpy - INFO - Chain [1] start processing\n",
      "14:00:17 - cmdstanpy - INFO - Chain [1] done processing\n"
     ]
    },
    {
     "name": "stdout",
     "output_type": "stream",
     "text": [
      "Model for KEELLS COMPOSTABLE LUNCH SHEETS 50S saved successfully.\n",
      "Model for KEELLS CREAM BUN 2S saved successfully.\n"
     ]
    },
    {
     "name": "stderr",
     "output_type": "stream",
     "text": [
      "14:00:17 - cmdstanpy - INFO - Chain [1] start processing\n",
      "14:00:17 - cmdstanpy - INFO - Chain [1] done processing\n",
      "14:00:17 - cmdstanpy - INFO - Chain [1] start processing\n",
      "14:00:17 - cmdstanpy - INFO - Chain [1] done processing\n"
     ]
    },
    {
     "name": "stdout",
     "output_type": "stream",
     "text": [
      "Model for KEELLS CRYSTAL SALT 1KG saved successfully.\n",
      "Model for KEELLS CURRY POWDER ROASTED 100G saved successfully.\n"
     ]
    },
    {
     "name": "stderr",
     "output_type": "stream",
     "text": [
      "14:00:17 - cmdstanpy - INFO - Chain [1] start processing\n",
      "14:00:17 - cmdstanpy - INFO - Chain [1] done processing\n",
      "14:00:17 - cmdstanpy - INFO - Chain [1] start processing\n",
      "14:00:17 - cmdstanpy - INFO - Chain [1] done processing\n"
     ]
    },
    {
     "name": "stdout",
     "output_type": "stream",
     "text": [
      "Model for KEELLS CUSTARD CREAM BISCUIT 100G saved successfully.\n",
      "Model for KEELLS DILL SEEDS 100G saved successfully.\n"
     ]
    },
    {
     "name": "stderr",
     "output_type": "stream",
     "text": [
      "14:00:18 - cmdstanpy - INFO - Chain [1] start processing\n",
      "14:00:18 - cmdstanpy - INFO - Chain [1] done processing\n",
      "14:00:18 - cmdstanpy - INFO - Chain [1] start processing\n",
      "14:00:18 - cmdstanpy - INFO - Chain [1] done processing\n"
     ]
    },
    {
     "name": "stdout",
     "output_type": "stream",
     "text": [
      "Model for KEELLS DISH WASH BAR 200G saved successfully.\n",
      "Model for KEELLS FRIED RICE MIX 50G saved successfully.\n"
     ]
    },
    {
     "name": "stderr",
     "output_type": "stream",
     "text": [
      "14:00:18 - cmdstanpy - INFO - Chain [1] start processing\n",
      "14:00:18 - cmdstanpy - INFO - Chain [1] done processing\n",
      "14:00:18 - cmdstanpy - INFO - Chain [1] start processing\n"
     ]
    },
    {
     "name": "stdout",
     "output_type": "stream",
     "text": [
      "Model for KEELLS LUNCH BOX saved successfully.\n"
     ]
    },
    {
     "name": "stderr",
     "output_type": "stream",
     "text": [
      "14:00:18 - cmdstanpy - INFO - Chain [1] done processing\n",
      "14:00:19 - cmdstanpy - INFO - Chain [1] start processing\n",
      "14:00:19 - cmdstanpy - INFO - Chain [1] done processing\n"
     ]
    },
    {
     "name": "stdout",
     "output_type": "stream",
     "text": [
      "Model for KEELLS MALDIVE FISH 100G saved successfully.\n",
      "Model for KEELLS NUMERAL BDAY CANDLE RED - 2 saved successfully.\n"
     ]
    },
    {
     "name": "stderr",
     "output_type": "stream",
     "text": [
      "14:00:19 - cmdstanpy - INFO - Chain [1] start processing\n",
      "14:00:19 - cmdstanpy - INFO - Chain [1] done processing\n",
      "14:00:19 - cmdstanpy - INFO - Chain [1] start processing\n",
      "14:00:19 - cmdstanpy - INFO - Chain [1] done processing\n"
     ]
    },
    {
     "name": "stdout",
     "output_type": "stream",
     "text": [
      "Model for KEELLS NUMERAL BDAY CANDLE RED - 5 saved successfully.\n",
      "Model for KEELLS PASTA ROTELLE 400G saved successfully.\n"
     ]
    },
    {
     "name": "stderr",
     "output_type": "stream",
     "text": [
      "14:00:19 - cmdstanpy - INFO - Chain [1] start processing\n",
      "14:00:19 - cmdstanpy - INFO - Chain [1] done processing\n",
      "14:00:19 - cmdstanpy - INFO - Chain [1] start processing\n",
      "14:00:19 - cmdstanpy - INFO - Chain [1] done processing\n"
     ]
    },
    {
     "name": "stdout",
     "output_type": "stream",
     "text": [
      "Model for KEELLS PEPPER POWDER 100G saved successfully.\n",
      "Model for KEELLS RAW CURRY POWDER RAW 100G saved successfully.\n"
     ]
    },
    {
     "name": "stderr",
     "output_type": "stream",
     "text": [
      "14:00:19 - cmdstanpy - INFO - Chain [1] start processing\n",
      "14:00:19 - cmdstanpy - INFO - Chain [1] done processing\n",
      "14:00:20 - cmdstanpy - INFO - Chain [1] start processing\n",
      "14:00:20 - cmdstanpy - INFO - Chain [1] done processing\n"
     ]
    },
    {
     "name": "stdout",
     "output_type": "stream",
     "text": [
      "Model for KEELLS RED DHALL 1KG saved successfully.\n",
      "Model for KEELLS RED DHALL 500G saved successfully.\n"
     ]
    },
    {
     "name": "stderr",
     "output_type": "stream",
     "text": [
      "14:00:20 - cmdstanpy - INFO - Chain [1] start processing\n",
      "14:00:20 - cmdstanpy - INFO - Chain [1] done processing\n",
      "14:00:20 - cmdstanpy - INFO - Chain [1] start processing\n",
      "14:00:20 - cmdstanpy - INFO - Chain [1] done processing\n"
     ]
    },
    {
     "name": "stdout",
     "output_type": "stream",
     "text": [
      "Model for KEELLS SAGO 250G saved successfully.\n",
      "Model for KEELLS SOYA MEAT CHICKEN 90G saved successfully.\n"
     ]
    },
    {
     "name": "stderr",
     "output_type": "stream",
     "text": [
      "14:00:20 - cmdstanpy - INFO - Chain [1] start processing\n",
      "14:00:20 - cmdstanpy - INFO - Chain [1] done processing\n",
      "14:00:20 - cmdstanpy - INFO - Chain [1] start processing\n",
      "14:00:20 - cmdstanpy - INFO - Chain [1] done processing\n"
     ]
    },
    {
     "name": "stdout",
     "output_type": "stream",
     "text": [
      "Model for KEELLS SPONGE SCRUBBER SMALL saved successfully.\n",
      "Model for KEELLS SPORTS BOTTLE 1000ML saved successfully.\n"
     ]
    },
    {
     "name": "stderr",
     "output_type": "stream",
     "text": [
      "14:00:20 - cmdstanpy - INFO - Chain [1] start processing\n",
      "14:00:20 - cmdstanpy - INFO - Chain [1] done processing\n",
      "14:00:20 - cmdstanpy - INFO - Chain [1] start processing\n",
      "14:00:21 - cmdstanpy - INFO - Chain [1] done processing\n"
     ]
    },
    {
     "name": "stdout",
     "output_type": "stream",
     "text": [
      "Model for KEELLS T/BOWL CLEANER PINE 500ML saved successfully.\n"
     ]
    },
    {
     "name": "stderr",
     "output_type": "stream",
     "text": [
      "14:00:21 - cmdstanpy - INFO - Chain [1] start processing\n",
      "14:00:21 - cmdstanpy - INFO - Chain [1] done processing\n"
     ]
    },
    {
     "name": "stdout",
     "output_type": "stream",
     "text": [
      "Model for KEELLS TABLE SALT 400G saved successfully.\n"
     ]
    },
    {
     "name": "stderr",
     "output_type": "stream",
     "text": [
      "14:00:21 - cmdstanpy - INFO - Chain [1] start processing\n"
     ]
    },
    {
     "name": "stdout",
     "output_type": "stream",
     "text": [
      "Model for KEELLS TURMERIC POWDER 100G saved successfully.\n"
     ]
    },
    {
     "name": "stderr",
     "output_type": "stream",
     "text": [
      "14:00:21 - cmdstanpy - INFO - Chain [1] done processing\n",
      "14:00:21 - cmdstanpy - INFO - Chain [1] start processing\n",
      "14:00:21 - cmdstanpy - INFO - Chain [1] done processing\n"
     ]
    },
    {
     "name": "stdout",
     "output_type": "stream",
     "text": [
      "Model for KEELLS WAFERS CHOCOLATE 100G saved successfully.\n",
      "Model for KEELLS WATTALAPPAN 80G saved successfully.\n"
     ]
    },
    {
     "name": "stderr",
     "output_type": "stream",
     "text": [
      "14:00:21 - cmdstanpy - INFO - Chain [1] start processing\n",
      "14:00:21 - cmdstanpy - INFO - Chain [1] done processing\n",
      "14:00:21 - cmdstanpy - INFO - Chain [1] start processing\n",
      "14:00:22 - cmdstanpy - INFO - Chain [1] done processing\n"
     ]
    },
    {
     "name": "stdout",
     "output_type": "stream",
     "text": [
      "Model for KEELLS WHEAT FLOUR 1KG saved successfully.\n",
      "Model for KEELLS WHITE SUGAR 1KG saved successfully.\n"
     ]
    },
    {
     "name": "stderr",
     "output_type": "stream",
     "text": [
      "14:00:22 - cmdstanpy - INFO - Chain [1] start processing\n",
      "14:00:22 - cmdstanpy - INFO - Chain [1] done processing\n",
      "14:00:22 - cmdstanpy - INFO - Chain [1] start processing\n",
      "14:00:22 - cmdstanpy - INFO - Chain [1] done processing\n"
     ]
    },
    {
     "name": "stdout",
     "output_type": "stream",
     "text": [
      "Model for KELLOGGS C/FLAKES SBERRY FLV.300G saved successfully.\n",
      "Model for KHOMBA BABY COLOGNE VENIVEL 100ML saved successfully.\n"
     ]
    },
    {
     "name": "stderr",
     "output_type": "stream",
     "text": [
      "14:00:22 - cmdstanpy - INFO - Chain [1] start processing\n",
      "14:00:22 - cmdstanpy - INFO - Chain [1] done processing\n",
      "14:00:22 - cmdstanpy - INFO - Chain [1] start processing\n",
      "14:00:22 - cmdstanpy - INFO - Chain [1] done processing\n"
     ]
    },
    {
     "name": "stdout",
     "output_type": "stream",
     "text": [
      "Model for KHOMBA BABY SOAP AVOCADO 4 IN 1 saved successfully.\n",
      "Model for KIMBULA BUN saved successfully.\n"
     ]
    },
    {
     "name": "stderr",
     "output_type": "stream",
     "text": [
      "14:00:22 - cmdstanpy - INFO - Chain [1] start processing\n",
      "14:00:22 - cmdstanpy - INFO - Chain [1] done processing\n",
      "14:00:22 - cmdstanpy - INFO - Chain [1] start processing\n",
      "14:00:23 - cmdstanpy - INFO - Chain [1] done processing\n"
     ]
    },
    {
     "name": "stdout",
     "output_type": "stream",
     "text": [
      "Model for KIST KITHUL TREACLE 170ML saved successfully.\n",
      "Model for KIST NECTAR MANGO 200ML saved successfully.\n"
     ]
    },
    {
     "name": "stderr",
     "output_type": "stream",
     "text": [
      "14:00:23 - cmdstanpy - INFO - Chain [1] start processing\n",
      "14:00:23 - cmdstanpy - INFO - Chain [1] done processing\n",
      "14:00:23 - cmdstanpy - INFO - Chain [1] start processing\n",
      "14:00:23 - cmdstanpy - INFO - Chain [1] done processing\n"
     ]
    },
    {
     "name": "stdout",
     "output_type": "stream",
     "text": [
      "Model for KIST NECTAR WOODAPPLE 200ML saved successfully.\n",
      "Model for KIZZ SPARKLING APPLE DRINK 215ML saved successfully.\n"
     ]
    },
    {
     "name": "stderr",
     "output_type": "stream",
     "text": [
      "14:00:23 - cmdstanpy - INFO - Chain [1] start processing\n",
      "14:00:23 - cmdstanpy - INFO - Chain [1] done processing\n",
      "14:00:23 - cmdstanpy - INFO - Chain [1] start processing\n",
      "14:00:23 - cmdstanpy - INFO - Chain [1] done processing\n"
     ]
    },
    {
     "name": "stdout",
     "output_type": "stream",
     "text": [
      "Model for KNORR SEASONING CUBE 15*20G saved successfully.\n",
      "Model for KNORR SEASONING CUBE 60G saved successfully.\n"
     ]
    },
    {
     "name": "stderr",
     "output_type": "stream",
     "text": [
      "14:00:23 - cmdstanpy - INFO - Chain [1] start processing\n",
      "14:00:23 - cmdstanpy - INFO - Chain [1] done processing\n",
      "14:00:23 - cmdstanpy - INFO - Chain [1] start processing\n"
     ]
    },
    {
     "name": "stdout",
     "output_type": "stream",
     "text": [
      "Model for KOPPARA MID CUT saved successfully.\n"
     ]
    },
    {
     "name": "stderr",
     "output_type": "stream",
     "text": [
      "14:00:24 - cmdstanpy - INFO - Chain [1] done processing\n",
      "14:00:24 - cmdstanpy - INFO - Chain [1] start processing\n"
     ]
    },
    {
     "name": "stdout",
     "output_type": "stream",
     "text": [
      "Model for KOTMALE BUTTER SALTED 200G saved successfully.\n"
     ]
    },
    {
     "name": "stderr",
     "output_type": "stream",
     "text": [
      "14:00:24 - cmdstanpy - INFO - Chain [1] done processing\n",
      "14:00:24 - cmdstanpy - INFO - Chain [1] start processing\n",
      "14:00:24 - cmdstanpy - INFO - Chain [1] done processing\n"
     ]
    },
    {
     "name": "stdout",
     "output_type": "stream",
     "text": [
      "Model for KOTMALE OATS MILK 180ML saved successfully.\n",
      "Model for KREST CHI.MEAT BALL KIRA/MIRI.200G saved successfully.\n"
     ]
    },
    {
     "name": "stderr",
     "output_type": "stream",
     "text": [
      "14:00:24 - cmdstanpy - INFO - Chain [1] start processing\n",
      "14:00:24 - cmdstanpy - INFO - Chain [1] done processing\n",
      "14:00:24 - cmdstanpy - INFO - Chain [1] start processing\n",
      "14:00:24 - cmdstanpy - INFO - Chain [1] done processing\n"
     ]
    },
    {
     "name": "stdout",
     "output_type": "stream",
     "text": [
      "Model for KREST CHICKEN SAUSAGES S/LESS 500G saved successfully.\n",
      "Model for KREST EZY INSTANT CHICKEN RICE 95G saved successfully.\n"
     ]
    },
    {
     "name": "stderr",
     "output_type": "stream",
     "text": [
      "14:00:24 - cmdstanpy - INFO - Chain [1] start processing\n",
      "14:00:24 - cmdstanpy - INFO - Chain [1] done processing\n",
      "14:00:25 - cmdstanpy - INFO - Chain [1] start processing\n",
      "14:00:25 - cmdstanpy - INFO - Chain [1] done processing\n"
     ]
    },
    {
     "name": "stdout",
     "output_type": "stream",
     "text": [
      "Model for KREST SOYA MEAT CHICKEN 90G saved successfully.\n",
      "Model for KUMARIKA SHAMPOO LONG & BLACK 180ML saved successfully.\n"
     ]
    },
    {
     "name": "stderr",
     "output_type": "stream",
     "text": [
      "14:00:25 - cmdstanpy - INFO - Chain [1] start processing\n",
      "14:00:25 - cmdstanpy - INFO - Chain [1] done processing\n",
      "14:00:25 - cmdstanpy - INFO - Chain [1] start processing\n",
      "14:00:25 - cmdstanpy - INFO - Chain [1] done processing\n"
     ]
    },
    {
     "name": "stdout",
     "output_type": "stream",
     "text": [
      "Model for KUMBALAWA saved successfully.\n",
      "Model for LADIES FINGERS saved successfully.\n"
     ]
    },
    {
     "name": "stderr",
     "output_type": "stream",
     "text": [
      "14:00:25 - cmdstanpy - INFO - Chain [1] start processing\n",
      "14:00:25 - cmdstanpy - INFO - Chain [1] done processing\n",
      "14:00:25 - cmdstanpy - INFO - Chain [1] start processing\n",
      "14:00:25 - cmdstanpy - INFO - Chain [1] done processing\n"
     ]
    },
    {
     "name": "stdout",
     "output_type": "stream",
     "text": [
      "Model for LANKA S. INCENSE STICKS 4 IN 1 saved successfully.\n",
      "Model for LANKA SOY CUTTLE FISH 90G saved successfully.\n"
     ]
    },
    {
     "name": "stderr",
     "output_type": "stream",
     "text": [
      "14:00:25 - cmdstanpy - INFO - Chain [1] start processing\n",
      "14:00:25 - cmdstanpy - INFO - Chain [1] done processing\n",
      "14:00:25 - cmdstanpy - INFO - Chain [1] start processing\n",
      "14:00:25 - cmdstanpy - INFO - Chain [1] done processing\n"
     ]
    },
    {
     "name": "stdout",
     "output_type": "stream",
     "text": [
      "Model for LANKA SOY MALU CUTTLE FISH 90G saved successfully.\n",
      "Model for LANKA SOY SOYA MEAT MUTTON 90G saved successfully.\n"
     ]
    },
    {
     "name": "stderr",
     "output_type": "stream",
     "text": [
      "14:00:26 - cmdstanpy - INFO - Chain [1] start processing\n",
      "14:00:26 - cmdstanpy - INFO - Chain [1] done processing\n",
      "14:00:26 - cmdstanpy - INFO - Chain [1] start processing\n",
      "14:00:26 - cmdstanpy - INFO - Chain [1] done processing\n"
     ]
    },
    {
     "name": "stdout",
     "output_type": "stream",
     "text": [
      "Model for LANKA SUMEDA AIR FRESHNER - RUBY 5G saved successfully.\n",
      "Model for LEEKS saved successfully.\n"
     ]
    },
    {
     "name": "stderr",
     "output_type": "stream",
     "text": [
      "14:00:26 - cmdstanpy - INFO - Chain [1] start processing\n",
      "14:00:26 - cmdstanpy - INFO - Chain [1] done processing\n",
      "14:00:26 - cmdstanpy - INFO - Chain [1] start processing\n",
      "14:00:26 - cmdstanpy - INFO - Chain [1] done processing\n"
     ]
    },
    {
     "name": "stdout",
     "output_type": "stream",
     "text": [
      "Model for LEMON saved successfully.\n",
      "Model for LIFEBUOY HW GREN TEA & ALO REFILL 180ML saved successfully.\n"
     ]
    },
    {
     "name": "stderr",
     "output_type": "stream",
     "text": [
      "14:00:26 - cmdstanpy - INFO - Chain [1] start processing\n",
      "14:00:26 - cmdstanpy - INFO - Chain [1] done processing\n",
      "14:00:27 - cmdstanpy - INFO - Chain [1] start processing\n",
      "14:00:27 - cmdstanpy - INFO - Chain [1] done processing\n"
     ]
    },
    {
     "name": "stdout",
     "output_type": "stream",
     "text": [
      "Model for LIME saved successfully.\n"
     ]
    },
    {
     "name": "stderr",
     "output_type": "stream",
     "text": [
      "14:00:27 - cmdstanpy - INFO - Chain [1] start processing\n",
      "14:00:27 - cmdstanpy - INFO - Chain [1] done processing\n"
     ]
    },
    {
     "name": "stdout",
     "output_type": "stream",
     "text": [
      "Model for LIME JUICE saved successfully.\n",
      "Model for LINK IODISED TABLE SALT 400G saved successfully.\n"
     ]
    },
    {
     "name": "stderr",
     "output_type": "stream",
     "text": [
      "14:00:27 - cmdstanpy - INFO - Chain [1] start processing\n",
      "14:00:27 - cmdstanpy - INFO - Chain [1] done processing\n",
      "14:00:27 - cmdstanpy - INFO - Chain [1] start processing\n",
      "14:00:27 - cmdstanpy - INFO - Chain [1] done processing\n"
     ]
    },
    {
     "name": "stdout",
     "output_type": "stream",
     "text": [
      "Model for LIPTON LAOJEE TEA 100G saved successfully.\n",
      "Model for LITTLE LION BATTER CAROL 95G saved successfully.\n"
     ]
    },
    {
     "name": "stderr",
     "output_type": "stream",
     "text": [
      "14:00:27 - cmdstanpy - INFO - Chain [1] start processing\n",
      "14:00:27 - cmdstanpy - INFO - Chain [1] done processing\n",
      "14:00:27 - cmdstanpy - INFO - Chain [1] start processing\n",
      "14:00:27 - cmdstanpy - INFO - Chain [1] done processing\n"
     ]
    },
    {
     "name": "stdout",
     "output_type": "stream",
     "text": [
      "Model for LITTLE LION GINGER COOKIES 175G saved successfully.\n",
      "Model for LYSOL FLORAL 500ML saved successfully.\n"
     ]
    },
    {
     "name": "stderr",
     "output_type": "stream",
     "text": [
      "14:00:28 - cmdstanpy - INFO - Chain [1] start processing\n",
      "14:00:28 - cmdstanpy - INFO - Chain [1] done processing\n",
      "14:00:28 - cmdstanpy - INFO - Chain [1] start processing\n",
      "14:00:28 - cmdstanpy - INFO - Chain [1] done processing\n"
     ]
    },
    {
     "name": "stdout",
     "output_type": "stream",
     "text": [
      "Model for MAGGI CHICKEN NOODLES 2S 146G saved successfully.\n",
      "Model for MAGGI COCONUT MILK POWDER 300G saved successfully.\n"
     ]
    },
    {
     "name": "stderr",
     "output_type": "stream",
     "text": [
      "14:00:28 - cmdstanpy - INFO - Chain [1] start processing\n",
      "14:00:28 - cmdstanpy - INFO - Chain [1] done processing\n",
      "14:00:28 - cmdstanpy - INFO - Chain [1] start processing\n",
      "14:00:28 - cmdstanpy - INFO - Chain [1] done processing\n"
     ]
    },
    {
     "name": "stdout",
     "output_type": "stream",
     "text": [
      "Model for MAGGI COCONUT MILK POWDER 336G saved successfully.\n",
      "Model for MAGGI NDLS CHICKEN *4 PROMO PACK 292G saved successfully.\n"
     ]
    },
    {
     "name": "stderr",
     "output_type": "stream",
     "text": [
      "14:00:28 - cmdstanpy - INFO - Chain [1] start processing\n",
      "14:00:28 - cmdstanpy - INFO - Chain [1] done processing\n",
      "14:00:28 - cmdstanpy - INFO - Chain [1] start processing\n"
     ]
    },
    {
     "name": "stdout",
     "output_type": "stream",
     "text": [
      "Model for MAGIC I/C CONE CHOCOLATE 120ML saved successfully.\n"
     ]
    },
    {
     "name": "stderr",
     "output_type": "stream",
     "text": [
      "14:00:28 - cmdstanpy - INFO - Chain [1] done processing\n",
      "14:00:29 - cmdstanpy - INFO - Chain [1] start processing\n",
      "14:00:29 - cmdstanpy - INFO - Chain [1] done processing\n"
     ]
    },
    {
     "name": "stdout",
     "output_type": "stream",
     "text": [
      "Model for MAGNA CHEEZY ONION BITE 100G saved successfully.\n",
      "Model for MALIBAN BISCUIT KRISCO 170G saved successfully.\n"
     ]
    },
    {
     "name": "stderr",
     "output_type": "stream",
     "text": [
      "14:00:29 - cmdstanpy - INFO - Chain [1] start processing\n",
      "14:00:29 - cmdstanpy - INFO - Chain [1] done processing\n",
      "14:00:29 - cmdstanpy - INFO - Chain [1] start processing\n",
      "14:00:29 - cmdstanpy - INFO - Chain [1] done processing\n"
     ]
    },
    {
     "name": "stdout",
     "output_type": "stream",
     "text": [
      "Model for MALIBAN CHOCOLATE CREAM 400G saved successfully.\n",
      "Model for MALIBAN CRM CRACKER POCKET PACK 85G saved successfully.\n"
     ]
    },
    {
     "name": "stderr",
     "output_type": "stream",
     "text": [
      "14:00:29 - cmdstanpy - INFO - Chain [1] start processing\n",
      "14:00:29 - cmdstanpy - INFO - Chain [1] done processing\n",
      "14:00:29 - cmdstanpy - INFO - Chain [1] start processing\n",
      "14:00:29 - cmdstanpy - INFO - Chain [1] done processing\n"
     ]
    },
    {
     "name": "stdout",
     "output_type": "stream",
     "text": [
      "Model for MALIBAN GEM BISCUITS 100G saved successfully.\n",
      "Model for MALIBAN GOLD MARIE 240G saved successfully.\n"
     ]
    },
    {
     "name": "stderr",
     "output_type": "stream",
     "text": [
      "14:00:29 - cmdstanpy - INFO - Chain [1] start processing\n",
      "14:00:29 - cmdstanpy - INFO - Chain [1] done processing\n",
      "14:00:29 - cmdstanpy - INFO - Chain [1] start processing\n"
     ]
    },
    {
     "name": "stdout",
     "output_type": "stream",
     "text": [
      "Model for MALIBAN GOLD MARIE 350G saved successfully.\n"
     ]
    },
    {
     "name": "stderr",
     "output_type": "stream",
     "text": [
      "14:00:30 - cmdstanpy - INFO - Chain [1] done processing\n",
      "14:00:30 - cmdstanpy - INFO - Chain [1] start processing\n",
      "14:00:30 - cmdstanpy - INFO - Chain [1] done processing\n"
     ]
    },
    {
     "name": "stdout",
     "output_type": "stream",
     "text": [
      "Model for MALIBAN GOLD MARIE 80G saved successfully.\n",
      "Model for MALIBAN MILK POWDER WELFARE 1KG saved successfully.\n"
     ]
    },
    {
     "name": "stderr",
     "output_type": "stream",
     "text": [
      "14:00:30 - cmdstanpy - INFO - Chain [1] start processing\n",
      "14:00:30 - cmdstanpy - INFO - Chain [1] done processing\n",
      "14:00:30 - cmdstanpy - INFO - Chain [1] start processing\n",
      "14:00:30 - cmdstanpy - INFO - Chain [1] done processing\n"
     ]
    },
    {
     "name": "stdout",
     "output_type": "stream",
     "text": [
      "Model for MALIBAN MILK POWDER WELFARE 400G saved successfully.\n",
      "Model for MALIBAN SNACKERS CHEESE & CHILI 25G saved successfully.\n"
     ]
    },
    {
     "name": "stderr",
     "output_type": "stream",
     "text": [
      "14:00:31 - cmdstanpy - INFO - Chain [1] start processing\n",
      "14:00:31 - cmdstanpy - INFO - Chain [1] done processing\n",
      "14:00:31 - cmdstanpy - INFO - Chain [1] start processing\n"
     ]
    },
    {
     "name": "stdout",
     "output_type": "stream",
     "text": [
      "Model for MALIBAN SNACKERS SPICY 25G saved successfully.\n"
     ]
    },
    {
     "name": "stderr",
     "output_type": "stream",
     "text": [
      "14:00:31 - cmdstanpy - INFO - Chain [1] done processing\n",
      "14:00:31 - cmdstanpy - INFO - Chain [1] start processing\n",
      "14:00:31 - cmdstanpy - INFO - Chain [1] done processing\n"
     ]
    },
    {
     "name": "stdout",
     "output_type": "stream",
     "text": [
      "Model for MARINA COCONUT OIL PACK 500ML saved successfully.\n",
      "Model for MARINA COOKING OIL 500ML saved successfully.\n"
     ]
    },
    {
     "name": "stderr",
     "output_type": "stream",
     "text": [
      "14:00:31 - cmdstanpy - INFO - Chain [1] start processing\n",
      "14:00:31 - cmdstanpy - INFO - Chain [1] done processing\n",
      "14:00:31 - cmdstanpy - INFO - Chain [1] start processing\n",
      "14:00:31 - cmdstanpy - INFO - Chain [1] done processing\n"
     ]
    },
    {
     "name": "stdout",
     "output_type": "stream",
     "text": [
      "Model for MAS U/RSTD CURRY POWDER 100G saved successfully.\n",
      "Model for MAS YELLOW RICE MIX 50G saved successfully.\n"
     ]
    },
    {
     "name": "stderr",
     "output_type": "stream",
     "text": [
      "14:00:31 - cmdstanpy - INFO - Chain [1] start processing\n",
      "14:00:31 - cmdstanpy - INFO - Chain [1] done processing\n",
      "14:00:32 - cmdstanpy - INFO - Chain [1] start processing\n",
      "14:00:32 - cmdstanpy - INFO - Chain [1] done processing\n"
     ]
    },
    {
     "name": "stdout",
     "output_type": "stream",
     "text": [
      "Model for MAY NON-ALCO. SPARKLING WHITE 750ML saved successfully.\n",
      "Model for MAYURA CRYSTAL IODISED SALT 800G saved successfully.\n"
     ]
    },
    {
     "name": "stderr",
     "output_type": "stream",
     "text": [
      "14:00:32 - cmdstanpy - INFO - Chain [1] start processing\n",
      "14:00:32 - cmdstanpy - INFO - Chain [1] done processing\n",
      "14:00:32 - cmdstanpy - INFO - Chain [1] start processing\n",
      "14:00:32 - cmdstanpy - INFO - Chain [1] done processing\n"
     ]
    },
    {
     "name": "stdout",
     "output_type": "stream",
     "text": [
      "Model for MCCURRIE CRUSHED CHILLIE 100G saved successfully.\n",
      "Model for MCCURRIE FENUGREEK 100G saved successfully.\n"
     ]
    },
    {
     "name": "stderr",
     "output_type": "stream",
     "text": [
      "14:00:32 - cmdstanpy - INFO - Chain [1] start processing\n",
      "14:00:32 - cmdstanpy - INFO - Chain [1] done processing\n",
      "14:00:32 - cmdstanpy - INFO - Chain [1] start processing\n",
      "14:00:32 - cmdstanpy - INFO - Chain [1] done processing\n"
     ]
    },
    {
     "name": "stdout",
     "output_type": "stream",
     "text": [
      "Model for MCCURRIE MALDIVE FISH CHIPS 100G saved successfully.\n",
      "Model for MCCURRIE PEPPER POWDER 100G saved successfully.\n"
     ]
    },
    {
     "name": "stderr",
     "output_type": "stream",
     "text": [
      "14:00:33 - cmdstanpy - INFO - Chain [1] start processing\n",
      "14:00:33 - cmdstanpy - INFO - Chain [1] done processing\n",
      "14:00:33 - cmdstanpy - INFO - Chain [1] start processing\n",
      "14:00:33 - cmdstanpy - INFO - Chain [1] done processing\n"
     ]
    },
    {
     "name": "stdout",
     "output_type": "stream",
     "text": [
      "Model for MCCURRIE ROASTED CURRY POWDER 100G saved successfully.\n",
      "Model for MCCURRIE UNROASTED CHILLIE POWDER 100G saved successfully.\n"
     ]
    },
    {
     "name": "stderr",
     "output_type": "stream",
     "text": [
      "14:00:33 - cmdstanpy - INFO - Chain [1] start processing\n",
      "14:00:33 - cmdstanpy - INFO - Chain [1] done processing\n",
      "14:00:33 - cmdstanpy - INFO - Chain [1] start processing\n",
      "14:00:33 - cmdstanpy - INFO - Chain [1] done processing\n"
     ]
    },
    {
     "name": "stdout",
     "output_type": "stream",
     "text": [
      "Model for MCCURRIE UNROASTED CURRY POWDER 100G saved successfully.\n",
      "Model for MEADOW LEA FAT SPREAD 100G saved successfully.\n"
     ]
    },
    {
     "name": "stderr",
     "output_type": "stream",
     "text": [
      "14:00:33 - cmdstanpy - INFO - Chain [1] start processing\n",
      "14:00:33 - cmdstanpy - INFO - Chain [1] done processing\n",
      "14:00:33 - cmdstanpy - INFO - Chain [1] start processing\n",
      "14:00:33 - cmdstanpy - INFO - Chain [1] done processing\n"
     ]
    },
    {
     "name": "stdout",
     "output_type": "stream",
     "text": [
      "Model for MEATBALL PASTA saved successfully.\n",
      "Model for MENTOS FRUIT 33.8G saved successfully.\n"
     ]
    },
    {
     "name": "stderr",
     "output_type": "stream",
     "text": [
      "14:00:33 - cmdstanpy - INFO - Chain [1] start processing\n",
      "14:00:34 - cmdstanpy - INFO - Chain [1] done processing\n",
      "14:00:34 - cmdstanpy - INFO - Chain [1] start processing\n",
      "14:00:34 - cmdstanpy - INFO - Chain [1] done processing\n"
     ]
    },
    {
     "name": "stdout",
     "output_type": "stream",
     "text": [
      "Model for MENTOS MARBLE CHEWY CANDY 19.8G saved successfully.\n",
      "Model for MENTOS MINT 33.8G saved successfully.\n"
     ]
    },
    {
     "name": "stderr",
     "output_type": "stream",
     "text": [
      "14:00:34 - cmdstanpy - INFO - Chain [1] start processing\n",
      "14:00:34 - cmdstanpy - INFO - Chain [1] done processing\n",
      "14:00:34 - cmdstanpy - INFO - Chain [1] start processing\n",
      "14:00:34 - cmdstanpy - INFO - Chain [1] done processing\n"
     ]
    },
    {
     "name": "stdout",
     "output_type": "stream",
     "text": [
      "Model for MENTOS SOUR MARBLE CHEWY CANDY 19.8G saved successfully.\n",
      "Model for MILMA INSTANT SHAWARMA 350G 8PCS saved successfully.\n"
     ]
    },
    {
     "name": "stderr",
     "output_type": "stream",
     "text": [
      "14:00:34 - cmdstanpy - INFO - Chain [1] start processing\n",
      "14:00:34 - cmdstanpy - INFO - Chain [1] done processing\n",
      "14:00:34 - cmdstanpy - INFO - Chain [1] start processing\n",
      "14:00:34 - cmdstanpy - INFO - Chain [1] done processing\n"
     ]
    },
    {
     "name": "stdout",
     "output_type": "stream",
     "text": [
      "Model for MILO CHOCOLATE FOOD DRINK 180ML saved successfully.\n",
      "Model for MINCE PIE - 3 PIECES saved successfully.\n"
     ]
    },
    {
     "name": "stderr",
     "output_type": "stream",
     "text": [
      "14:00:34 - cmdstanpy - INFO - Chain [1] start processing\n",
      "14:00:34 - cmdstanpy - INFO - Chain [1] done processing\n",
      "14:00:35 - cmdstanpy - INFO - Chain [1] start processing\n",
      "14:00:35 - cmdstanpy - INFO - Chain [1] done processing\n"
     ]
    },
    {
     "name": "stdout",
     "output_type": "stream",
     "text": [
      "Model for MOTHA ESSENCE VANILLA 28ML saved successfully.\n",
      "Model for MR.POP CLASSIC 25G saved successfully.\n"
     ]
    },
    {
     "name": "stderr",
     "output_type": "stream",
     "text": [
      "14:00:35 - cmdstanpy - INFO - Chain [1] start processing\n",
      "14:00:35 - cmdstanpy - INFO - Chain [1] done processing\n",
      "14:00:35 - cmdstanpy - INFO - Chain [1] start processing\n",
      "14:00:35 - cmdstanpy - INFO - Chain [1] done processing\n"
     ]
    },
    {
     "name": "stdout",
     "output_type": "stream",
     "text": [
      "Model for MUNCHEE BISCUITS SAYOGA 80G saved successfully.\n",
      "Model for MUNCHEE KOME BITE CHS & CHIL 40G saved successfully.\n"
     ]
    },
    {
     "name": "stderr",
     "output_type": "stream",
     "text": [
      "14:00:35 - cmdstanpy - INFO - Chain [1] start processing\n",
      "14:00:35 - cmdstanpy - INFO - Chain [1] done processing\n",
      "14:00:35 - cmdstanpy - INFO - Chain [1] start processing\n",
      "14:00:35 - cmdstanpy - INFO - Chain [1] done processing\n"
     ]
    },
    {
     "name": "stdout",
     "output_type": "stream",
     "text": [
      "Model for MUNCHEE KOME R/CRACKER CHE+CHIL.45G saved successfully.\n",
      "Model for MUNCHEE LEMON PUFF 100G saved successfully.\n"
     ]
    },
    {
     "name": "stderr",
     "output_type": "stream",
     "text": [
      "14:00:35 - cmdstanpy - INFO - Chain [1] start processing\n",
      "14:00:35 - cmdstanpy - INFO - Chain [1] done processing\n",
      "14:00:35 - cmdstanpy - INFO - Chain [1] start processing\n",
      "14:00:35 - cmdstanpy - INFO - Chain [1] done processing\n"
     ]
    },
    {
     "name": "stdout",
     "output_type": "stream",
     "text": [
      "Model for MUNCHEE S/CREAM CRACKER H/PACK 230G saved successfully.\n",
      "Model for MUNCHEE SNACK CRACKER 170G saved successfully.\n"
     ]
    },
    {
     "name": "stderr",
     "output_type": "stream",
     "text": [
      "14:00:36 - cmdstanpy - INFO - Chain [1] start processing\n",
      "14:00:36 - cmdstanpy - INFO - Chain [1] done processing\n",
      "14:00:36 - cmdstanpy - INFO - Chain [1] start processing\n",
      "14:00:36 - cmdstanpy - INFO - Chain [1] done processing\n"
     ]
    },
    {
     "name": "stdout",
     "output_type": "stream",
     "text": [
      "Model for MUNCHEE TIKIRI MARIE 80G saved successfully.\n",
      "Model for MUNCHEE WAFER ROLLZ CHOCOLATE 100G saved successfully.\n"
     ]
    },
    {
     "name": "stderr",
     "output_type": "stream",
     "text": [
      "14:00:36 - cmdstanpy - INFO - Chain [1] start processing\n",
      "14:00:36 - cmdstanpy - INFO - Chain [1] done processing\n",
      "14:00:36 - cmdstanpy - INFO - Chain [1] start processing\n",
      "14:00:36 - cmdstanpy - INFO - Chain [1] done processing\n"
     ]
    },
    {
     "name": "stdout",
     "output_type": "stream",
     "text": [
      "Model for MYSOORE DHAL BULK KG saved successfully.\n",
      "Model for NATURE CARDAMOM 25G saved successfully.\n"
     ]
    },
    {
     "name": "stderr",
     "output_type": "stream",
     "text": [
      "14:00:36 - cmdstanpy - INFO - Chain [1] start processing\n",
      "14:00:36 - cmdstanpy - INFO - Chain [1] done processing\n",
      "14:00:36 - cmdstanpy - INFO - Chain [1] start processing\n",
      "14:00:36 - cmdstanpy - INFO - Chain [1] done processing\n"
     ]
    },
    {
     "name": "stdout",
     "output_type": "stream",
     "text": [
      "Model for NATURE CHILLIE PIECES 100G saved successfully.\n",
      "Model for NATURE CHILLIE POWDER 100G saved successfully.\n"
     ]
    },
    {
     "name": "stderr",
     "output_type": "stream",
     "text": [
      "14:00:36 - cmdstanpy - INFO - Chain [1] start processing\n",
      "14:00:37 - cmdstanpy - INFO - Chain [1] done processing\n",
      "14:00:37 - cmdstanpy - INFO - Chain [1] start processing\n",
      "14:00:37 - cmdstanpy - INFO - Chain [1] done processing\n"
     ]
    },
    {
     "name": "stdout",
     "output_type": "stream",
     "text": [
      "Model for NATURE MUSTARD SEED 100G saved successfully.\n",
      "Model for NATURE PEPPER POWDER 100G saved successfully.\n"
     ]
    },
    {
     "name": "stderr",
     "output_type": "stream",
     "text": [
      "14:00:37 - cmdstanpy - INFO - Chain [1] start processing\n",
      "14:00:37 - cmdstanpy - INFO - Chain [1] done processing\n",
      "14:00:37 - cmdstanpy - INFO - Chain [1] start processing\n"
     ]
    },
    {
     "name": "stdout",
     "output_type": "stream",
     "text": [
      "Model for NATURE S. P/BABY RATHMAL SOAP E/PACK saved successfully.\n"
     ]
    },
    {
     "name": "stderr",
     "output_type": "stream",
     "text": [
      "14:00:37 - cmdstanpy - INFO - Chain [1] done processing\n",
      "14:00:37 - cmdstanpy - INFO - Chain [1] start processing\n",
      "14:00:37 - cmdstanpy - INFO - Chain [1] done processing\n"
     ]
    },
    {
     "name": "stdout",
     "output_type": "stream",
     "text": [
      "Model for NATURE TURMERIC POWDER 100G saved successfully.\n",
      "Model for NATURES S.PANDA BABY SHAM HONEY 100ML saved successfully.\n"
     ]
    },
    {
     "name": "stderr",
     "output_type": "stream",
     "text": [
      "14:00:37 - cmdstanpy - INFO - Chain [1] start processing\n",
      "14:00:37 - cmdstanpy - INFO - Chain [1] done processing\n",
      "14:00:38 - cmdstanpy - INFO - Chain [1] start processing\n",
      "14:00:38 - cmdstanpy - INFO - Chain [1] done processing\n"
     ]
    },
    {
     "name": "stdout",
     "output_type": "stream",
     "text": [
      "Model for NEL FARM BROWN EGG 10S saved successfully.\n",
      "Model for NEL FARM MEDIUM EGGS 10S saved successfully.\n"
     ]
    },
    {
     "name": "stderr",
     "output_type": "stream",
     "text": [
      "14:00:38 - cmdstanpy - INFO - Chain [1] start processing\n",
      "14:00:38 - cmdstanpy - INFO - Chain [1] done processing\n",
      "14:00:38 - cmdstanpy - INFO - Chain [1] start processing\n",
      "14:00:38 - cmdstanpy - INFO - Chain [1] done processing\n"
     ]
    },
    {
     "name": "stdout",
     "output_type": "stream",
     "text": [
      "Model for NESCAFE ICE COLD COFFEE 180ML saved successfully.\n",
      "Model for NESPRAY E/DAY POUCH 1KG saved successfully.\n"
     ]
    },
    {
     "name": "stderr",
     "output_type": "stream",
     "text": [
      "14:00:38 - cmdstanpy - INFO - Chain [1] start processing\n",
      "14:00:38 - cmdstanpy - INFO - Chain [1] done processing\n",
      "14:00:38 - cmdstanpy - INFO - Chain [1] start processing\n",
      "14:00:38 - cmdstanpy - INFO - Chain [1] done processing\n"
     ]
    },
    {
     "name": "stdout",
     "output_type": "stream",
     "text": [
      "Model for NEW ANTHONY'S PRE CUT CHICKEN S/L saved successfully.\n",
      "Model for NEW RATHNA NADU RICE 1KG (5U) saved successfully.\n"
     ]
    },
    {
     "name": "stderr",
     "output_type": "stream",
     "text": [
      "14:00:38 - cmdstanpy - INFO - Chain [1] start processing\n",
      "14:00:38 - cmdstanpy - INFO - Chain [1] done processing\n",
      "14:00:38 - cmdstanpy - INFO - Chain [1] start processing\n",
      "14:00:38 - cmdstanpy - INFO - Chain [1] done processing\n"
     ]
    },
    {
     "name": "stdout",
     "output_type": "stream",
     "text": [
      "Model for NEW RATHNA ROSE RAW RICE 1KG (5U) saved successfully.\n"
     ]
    },
    {
     "name": "stderr",
     "output_type": "stream",
     "text": [
      "14:00:39 - cmdstanpy - INFO - Chain [1] start processing\n",
      "14:00:39 - cmdstanpy - INFO - Chain [1] done processing\n"
     ]
    },
    {
     "name": "stdout",
     "output_type": "stream",
     "text": [
      "Model for NEW RATHNA SAMBA RICE 1KG (5U) saved successfully.\n",
      "Model for NEW RATHNA WHITE RAW RICE 1KG (5U) saved successfully.\n"
     ]
    },
    {
     "name": "stderr",
     "output_type": "stream",
     "text": [
      "14:00:39 - cmdstanpy - INFO - Chain [1] start processing\n",
      "14:00:39 - cmdstanpy - INFO - Chain [1] done processing\n",
      "14:00:39 - cmdstanpy - INFO - Chain [1] start processing\n",
      "14:00:39 - cmdstanpy - INFO - Chain [1] done processing\n"
     ]
    },
    {
     "name": "stdout",
     "output_type": "stream",
     "text": [
      "Model for NEWDALE SET YOGHURT STRAWBERRY 80G saved successfully.\n",
      "Model for NEWDALE UHT MILK STRAWBERRY 180ML saved successfully.\n"
     ]
    },
    {
     "name": "stderr",
     "output_type": "stream",
     "text": [
      "14:00:39 - cmdstanpy - INFO - Chain [1] start processing\n",
      "14:00:39 - cmdstanpy - INFO - Chain [1] done processing\n",
      "14:00:39 - cmdstanpy - INFO - Chain [1] start processing\n",
      "14:00:39 - cmdstanpy - INFO - Chain [1] done processing\n"
     ]
    },
    {
     "name": "stdout",
     "output_type": "stream",
     "text": [
      "Model for NIMEX FACIAL TISSUES BOX 100S saved successfully.\n",
      "Model for NIPUNA NADU RICE 1KG (5U) saved successfully.\n"
     ]
    },
    {
     "name": "stderr",
     "output_type": "stream",
     "text": [
      "14:00:39 - cmdstanpy - INFO - Chain [1] start processing\n",
      "14:00:39 - cmdstanpy - INFO - Chain [1] done processing\n",
      "14:00:39 - cmdstanpy - INFO - Chain [1] start processing\n",
      "14:00:40 - cmdstanpy - INFO - Chain [1] done processing\n"
     ]
    },
    {
     "name": "stdout",
     "output_type": "stream",
     "text": [
      "Model for NIPUNA WHITE RAW RICE 1KG (5U) saved successfully.\n",
      "Model for NUTRILINE CEREAL CHOCO BLOBS 20G saved successfully.\n"
     ]
    },
    {
     "name": "stderr",
     "output_type": "stream",
     "text": [
      "14:00:40 - cmdstanpy - INFO - Chain [1] start processing\n",
      "14:00:40 - cmdstanpy - INFO - Chain [1] done processing\n",
      "14:00:40 - cmdstanpy - INFO - Chain [1] start processing\n",
      "14:00:40 - cmdstanpy - INFO - Chain [1] done processing\n"
     ]
    },
    {
     "name": "stdout",
     "output_type": "stream",
     "text": [
      "Model for OATEO INSTANT OATS 1KG saved successfully.\n",
      "Model for OPERA CAKE saved successfully.\n"
     ]
    },
    {
     "name": "stderr",
     "output_type": "stream",
     "text": [
      "14:00:40 - cmdstanpy - INFO - Chain [1] start processing\n",
      "14:00:40 - cmdstanpy - INFO - Chain [1] done processing\n",
      "14:00:40 - cmdstanpy - INFO - Chain [1] start processing\n",
      "14:00:40 - cmdstanpy - INFO - Chain [1] done processing\n"
     ]
    },
    {
     "name": "stdout",
     "output_type": "stream",
     "text": [
      "Model for ORANGE IMPORTED saved successfully.\n",
      "Model for PACIFIC GREEN CHILLI - MI 2 2G saved successfully.\n"
     ]
    },
    {
     "name": "stderr",
     "output_type": "stream",
     "text": [
      "14:00:40 - cmdstanpy - INFO - Chain [1] start processing\n",
      "14:00:40 - cmdstanpy - INFO - Chain [1] done processing\n",
      "14:00:40 - cmdstanpy - INFO - Chain [1] start processing\n",
      "14:00:40 - cmdstanpy - INFO - Chain [1] done processing\n"
     ]
    },
    {
     "name": "stdout",
     "output_type": "stream",
     "text": [
      "Model for PANADOL TAB 500 MG 144S saved successfully.\n",
      "Model for PANASONIC BATTERIES NEO R6NT/4B AA saved successfully.\n"
     ]
    },
    {
     "name": "stderr",
     "output_type": "stream",
     "text": [
      "14:00:41 - cmdstanpy - INFO - Chain [1] start processing\n",
      "14:00:41 - cmdstanpy - INFO - Chain [1] done processing\n",
      "14:00:41 - cmdstanpy - INFO - Chain [1] start processing\n"
     ]
    },
    {
     "name": "stdout",
     "output_type": "stream",
     "text": [
      "Model for PANASONIC BATTERIES NEO RO3NT/2B AAA saved successfully.\n"
     ]
    },
    {
     "name": "stderr",
     "output_type": "stream",
     "text": [
      "14:00:41 - cmdstanpy - INFO - Chain [1] done processing\n",
      "14:00:41 - cmdstanpy - INFO - Chain [1] start processing\n",
      "14:00:41 - cmdstanpy - INFO - Chain [1] done processing\n"
     ]
    },
    {
     "name": "stdout",
     "output_type": "stream",
     "text": [
      "Model for PANASONIC LED BULB 7W C/D SCREW saved successfully.\n",
      "Model for PAPAYA saved successfully.\n"
     ]
    },
    {
     "name": "stderr",
     "output_type": "stream",
     "text": [
      "14:00:41 - cmdstanpy - INFO - Chain [1] start processing\n",
      "14:00:41 - cmdstanpy - INFO - Chain [1] done processing\n",
      "14:00:41 - cmdstanpy - INFO - Chain [1] start processing\n",
      "14:00:41 - cmdstanpy - INFO - Chain [1] done processing\n"
     ]
    },
    {
     "name": "stdout",
     "output_type": "stream",
     "text": [
      "Model for PAPAYA JUICE saved successfully.\n",
      "Model for PASTARINA VITE 400G saved successfully.\n"
     ]
    },
    {
     "name": "stderr",
     "output_type": "stream",
     "text": [
      "14:00:41 - cmdstanpy - INFO - Chain [1] start processing\n",
      "14:00:41 - cmdstanpy - INFO - Chain [1] done processing\n",
      "14:00:42 - cmdstanpy - INFO - Chain [1] start processing\n",
      "14:00:42 - cmdstanpy - INFO - Chain [1] done processing\n"
     ]
    },
    {
     "name": "stdout",
     "output_type": "stream",
     "text": [
      "Model for PEARS ACTIVE FLORAL MULTIPACK 350G saved successfully.\n",
      "Model for PEARS BEDTIME BABY COLOGNE 100ML saved successfully.\n"
     ]
    },
    {
     "name": "stderr",
     "output_type": "stream",
     "text": [
      "14:00:42 - cmdstanpy - INFO - Chain [1] start processing\n",
      "14:00:42 - cmdstanpy - INFO - Chain [1] done processing\n",
      "14:00:42 - cmdstanpy - INFO - Chain [1] start processing\n",
      "14:00:42 - cmdstanpy - INFO - Chain [1] done processing\n"
     ]
    },
    {
     "name": "stdout",
     "output_type": "stream",
     "text": [
      "Model for PEARS PURE & GENTLE MULTIPACK 350G saved successfully.\n",
      "Model for PELWATTA BUTTER 200G saved successfully.\n"
     ]
    },
    {
     "name": "stderr",
     "output_type": "stream",
     "text": [
      "14:00:42 - cmdstanpy - INFO - Chain [1] start processing\n",
      "14:00:42 - cmdstanpy - INFO - Chain [1] done processing\n",
      "14:00:42 - cmdstanpy - INFO - Chain [1] start processing\n",
      "14:00:42 - cmdstanpy - INFO - Chain [1] done processing\n"
     ]
    },
    {
     "name": "stdout",
     "output_type": "stream",
     "text": [
      "Model for PELWATTE FULL CREAM MILK POWDER 400G saved successfully.\n",
      "Model for PERFECTLY IMPERFECT GARLIC saved successfully.\n"
     ]
    },
    {
     "name": "stderr",
     "output_type": "stream",
     "text": [
      "14:00:42 - cmdstanpy - INFO - Chain [1] start processing\n",
      "14:00:42 - cmdstanpy - INFO - Chain [1] done processing\n",
      "14:00:43 - cmdstanpy - INFO - Chain [1] start processing\n",
      "14:00:43 - cmdstanpy - INFO - Chain [1] done processing\n"
     ]
    },
    {
     "name": "stdout",
     "output_type": "stream",
     "text": [
      "Model for PERFECTLY IMPERFECT POTATOES saved successfully.\n",
      "Model for PERFECTLY IMPERFECT TOMATOES saved successfully.\n"
     ]
    },
    {
     "name": "stderr",
     "output_type": "stream",
     "text": [
      "14:00:43 - cmdstanpy - INFO - Chain [1] start processing\n",
      "14:00:43 - cmdstanpy - INFO - Chain [1] done processing\n",
      "14:00:43 - cmdstanpy - INFO - Chain [1] start processing\n",
      "14:00:43 - cmdstanpy - INFO - Chain [1] done processing\n"
     ]
    },
    {
     "name": "stdout",
     "output_type": "stream",
     "text": [
      "Model for PH HAPPY BIRTHDAY BANNER FLAG TYPE saved successfully.\n",
      "Model for PLANTAIN FLOWER saved successfully.\n"
     ]
    },
    {
     "name": "stderr",
     "output_type": "stream",
     "text": [
      "14:00:43 - cmdstanpy - INFO - Chain [1] start processing\n",
      "14:00:43 - cmdstanpy - INFO - Chain [1] done processing\n",
      "14:00:43 - cmdstanpy - INFO - Chain [1] start processing\n",
      "14:00:43 - cmdstanpy - INFO - Chain [1] done processing\n"
     ]
    },
    {
     "name": "stdout",
     "output_type": "stream",
     "text": [
      "Model for POL PITTU 1PC saved successfully.\n",
      "Model for PONDS LIGHT MOISTURISER 24.5G saved successfully.\n"
     ]
    },
    {
     "name": "stderr",
     "output_type": "stream",
     "text": [
      "14:00:43 - cmdstanpy - INFO - Chain [1] start processing\n",
      "14:00:43 - cmdstanpy - INFO - Chain [1] done processing\n",
      "14:00:43 - cmdstanpy - INFO - Chain [1] start processing\n",
      "14:00:44 - cmdstanpy - INFO - Chain [1] done processing\n"
     ]
    },
    {
     "name": "stdout",
     "output_type": "stream",
     "text": [
      "Model for POTATOES saved successfully.\n",
      "Model for PRAWNS MEDIUM saved successfully.\n"
     ]
    },
    {
     "name": "stderr",
     "output_type": "stream",
     "text": [
      "14:00:44 - cmdstanpy - INFO - Chain [1] start processing\n",
      "14:00:44 - cmdstanpy - INFO - Chain [1] done processing\n",
      "14:00:44 - cmdstanpy - INFO - Chain [1] start processing\n",
      "14:00:44 - cmdstanpy - INFO - Chain [1] done processing\n"
     ]
    },
    {
     "name": "stdout",
     "output_type": "stream",
     "text": [
      "Model for PRE-PACKED BIG ONIONS saved successfully.\n",
      "Model for PRE-PACKED GARLIC saved successfully.\n"
     ]
    },
    {
     "name": "stderr",
     "output_type": "stream",
     "text": [
      "14:00:44 - cmdstanpy - INFO - Chain [1] start processing\n",
      "14:00:44 - cmdstanpy - INFO - Chain [1] done processing\n",
      "14:00:44 - cmdstanpy - INFO - Chain [1] start processing\n",
      "14:00:44 - cmdstanpy - INFO - Chain [1] done processing\n"
     ]
    },
    {
     "name": "stdout",
     "output_type": "stream",
     "text": [
      "Model for PRE-PACKED POTATOES saved successfully.\n",
      "Model for PRE-PACKED RED ONIONS saved successfully.\n"
     ]
    },
    {
     "name": "stderr",
     "output_type": "stream",
     "text": [
      "14:00:44 - cmdstanpy - INFO - Chain [1] start processing\n",
      "14:00:44 - cmdstanpy - INFO - Chain [1] done processing\n",
      "14:00:45 - cmdstanpy - INFO - Chain [1] start processing\n",
      "14:00:45 - cmdstanpy - INFO - Chain [1] done processing\n"
     ]
    },
    {
     "name": "stdout",
     "output_type": "stream",
     "text": [
      "Model for PRIMA CRUST TOP BREAD 400G saved successfully.\n",
      "Model for PRIMA FAMILY FLOUR 1KG saved successfully.\n"
     ]
    },
    {
     "name": "stderr",
     "output_type": "stream",
     "text": [
      "14:00:45 - cmdstanpy - INFO - Chain [1] start processing\n",
      "14:00:45 - cmdstanpy - INFO - Chain [1] done processing\n",
      "14:00:45 - cmdstanpy - INFO - Chain [1] start processing\n",
      "14:00:45 - cmdstanpy - INFO - Chain [1] done processing\n"
     ]
    },
    {
     "name": "stdout",
     "output_type": "stream",
     "text": [
      "Model for PRIMA KOTTU MEE CHEESE & ONION 80G saved successfully.\n",
      "Model for PRIMA KOTTU MEE CHICKEN 78G saved successfully.\n"
     ]
    },
    {
     "name": "stderr",
     "output_type": "stream",
     "text": [
      "14:00:45 - cmdstanpy - INFO - Chain [1] start processing\n",
      "14:00:45 - cmdstanpy - INFO - Chain [1] done processing\n",
      "14:00:45 - cmdstanpy - INFO - Chain [1] start processing\n",
      "14:00:45 - cmdstanpy - INFO - Chain [1] done processing\n"
     ]
    },
    {
     "name": "stdout",
     "output_type": "stream",
     "text": [
      "Model for PRIMA KOTTU MEE HOT & SPICY 80G saved successfully.\n",
      "Model for PRIMA KOTTU MEE MASALA FLAVOUR 78G saved successfully.\n"
     ]
    },
    {
     "name": "stderr",
     "output_type": "stream",
     "text": [
      "14:00:45 - cmdstanpy - INFO - Chain [1] start processing\n",
      "14:00:45 - cmdstanpy - INFO - Chain [1] done processing\n",
      "14:00:46 - cmdstanpy - INFO - Chain [1] start processing\n",
      "14:00:46 - cmdstanpy - INFO - Chain [1] done processing\n"
     ]
    },
    {
     "name": "stdout",
     "output_type": "stream",
     "text": [
      "Model for PRIMA KOTTUMEE NAI MIRIS 80G saved successfully.\n",
      "Model for PRIMA SAUSAGE CHICKEN 500G saved successfully.\n"
     ]
    },
    {
     "name": "stderr",
     "output_type": "stream",
     "text": [
      "14:00:46 - cmdstanpy - INFO - Chain [1] start processing\n",
      "14:00:46 - cmdstanpy - INFO - Chain [1] done processing\n",
      "14:00:46 - cmdstanpy - INFO - Chain [1] start processing\n",
      "14:00:46 - cmdstanpy - INFO - Chain [1] done processing\n"
     ]
    },
    {
     "name": "stdout",
     "output_type": "stream",
     "text": [
      "Model for PROMATE BOOK A5 SPIRAL 100 PGS LONG saved successfully.\n",
      "Model for PUMPKIN saved successfully.\n"
     ]
    },
    {
     "name": "stderr",
     "output_type": "stream",
     "text": [
      "14:00:46 - cmdstanpy - INFO - Chain [1] start processing\n",
      "14:00:47 - cmdstanpy - INFO - Chain [1] done processing\n"
     ]
    },
    {
     "name": "stdout",
     "output_type": "stream",
     "text": [
      "Model for RAIGAM ISI PURE COOKING SALT 400G saved successfully.\n"
     ]
    },
    {
     "name": "stderr",
     "output_type": "stream",
     "text": [
      "14:00:47 - cmdstanpy - INFO - Chain [1] start processing\n",
      "14:00:47 - cmdstanpy - INFO - Chain [1] done processing\n",
      "14:00:47 - cmdstanpy - INFO - Chain [1] start processing\n"
     ]
    },
    {
     "name": "stdout",
     "output_type": "stream",
     "text": [
      "Model for RAIGAM SOYA CHICKEN DEVEL 110G saved successfully.\n"
     ]
    },
    {
     "name": "stderr",
     "output_type": "stream",
     "text": [
      "14:00:47 - cmdstanpy - INFO - Chain [1] done processing\n",
      "14:00:47 - cmdstanpy - INFO - Chain [1] start processing\n",
      "14:00:47 - cmdstanpy - INFO - Chain [1] done processing\n"
     ]
    },
    {
     "name": "stdout",
     "output_type": "stream",
     "text": [
      "Model for RAIGAM SOYA CUTTLE FISH DEVEL 110G saved successfully.\n",
      "Model for RAIGAM SOYA FRIED&DEVLD PRAWN 110G saved successfully.\n"
     ]
    },
    {
     "name": "stderr",
     "output_type": "stream",
     "text": [
      "14:00:47 - cmdstanpy - INFO - Chain [1] start processing\n",
      "14:00:47 - cmdstanpy - INFO - Chain [1] done processing\n",
      "14:00:48 - cmdstanpy - INFO - Chain [1] start processing\n",
      "14:00:48 - cmdstanpy - INFO - Chain [1] done processing\n"
     ]
    },
    {
     "name": "stdout",
     "output_type": "stream",
     "text": [
      "Model for RANCRISP CASS CHIP N.RAL HOT&S 100G saved successfully.\n",
      "Model for RANCRISP CASS/CHIPS PEP. & SALT 100G saved successfully.\n"
     ]
    },
    {
     "name": "stderr",
     "output_type": "stream",
     "text": [
      "14:00:48 - cmdstanpy - INFO - Chain [1] start processing\n",
      "14:00:48 - cmdstanpy - INFO - Chain [1] done processing\n",
      "14:00:48 - cmdstanpy - INFO - Chain [1] start processing\n",
      "14:00:48 - cmdstanpy - INFO - Chain [1] done processing\n"
     ]
    },
    {
     "name": "stdout",
     "output_type": "stream",
     "text": [
      "Model for RANCRISP CASSAVA CHIP KOCHCHI 100G saved successfully.\n",
      "Model for RANCRISP P/CHIPS HOT & SPICY PKT 60G saved successfully.\n"
     ]
    },
    {
     "name": "stderr",
     "output_type": "stream",
     "text": [
      "14:00:48 - cmdstanpy - INFO - Chain [1] start processing\n",
      "14:00:48 - cmdstanpy - INFO - Chain [1] done processing\n",
      "14:00:48 - cmdstanpy - INFO - Chain [1] start processing\n",
      "14:00:48 - cmdstanpy - INFO - Chain [1] done processing\n"
     ]
    },
    {
     "name": "stdout",
     "output_type": "stream",
     "text": [
      "Model for RANCRISP POTATO CHIPS BBQ 60G saved successfully.\n",
      "Model for RATTHI 3 IN 1 KIRI THE 200G saved successfully.\n"
     ]
    },
    {
     "name": "stderr",
     "output_type": "stream",
     "text": [
      "14:00:49 - cmdstanpy - INFO - Chain [1] start processing\n",
      "14:00:49 - cmdstanpy - INFO - Chain [1] done processing\n",
      "14:00:49 - cmdstanpy - INFO - Chain [1] start processing\n",
      "14:00:49 - cmdstanpy - INFO - Chain [1] done processing\n"
     ]
    },
    {
     "name": "stdout",
     "output_type": "stream",
     "text": [
      "Model for RATTHI FULL CREAM MILK POWDER 200G saved successfully.\n",
      "Model for RATTHI MILK POWDER 400G saved successfully.\n"
     ]
    },
    {
     "name": "stderr",
     "output_type": "stream",
     "text": [
      "14:00:49 - cmdstanpy - INFO - Chain [1] start processing\n",
      "14:00:49 - cmdstanpy - INFO - Chain [1] done processing\n",
      "14:00:49 - cmdstanpy - INFO - Chain [1] start processing\n",
      "14:00:49 - cmdstanpy - INFO - Chain [1] done processing\n"
     ]
    },
    {
     "name": "stdout",
     "output_type": "stream",
     "text": [
      "Model for RATTHI THEA MUSUWA 250G saved successfully.\n",
      "Model for REBECAA LEE FLORAL SOAP ECO PACK saved successfully.\n"
     ]
    },
    {
     "name": "stderr",
     "output_type": "stream",
     "text": [
      "14:00:49 - cmdstanpy - INFO - Chain [1] start processing\n",
      "14:00:49 - cmdstanpy - INFO - Chain [1] done processing\n",
      "14:00:49 - cmdstanpy - INFO - Chain [1] start processing\n",
      "14:00:49 - cmdstanpy - INFO - Chain [1] done processing\n"
     ]
    },
    {
     "name": "stdout",
     "output_type": "stream",
     "text": [
      "Model for RED BULL ENERGY DRINK 250ML saved successfully.\n",
      "Model for RED KEKULU SAMBA BULK KG - LOCAL saved successfully.\n"
     ]
    },
    {
     "name": "stderr",
     "output_type": "stream",
     "text": [
      "14:00:50 - cmdstanpy - INFO - Chain [1] start processing\n",
      "14:00:50 - cmdstanpy - INFO - Chain [1] done processing\n",
      "14:00:50 - cmdstanpy - INFO - Chain [1] start processing\n",
      "14:00:50 - cmdstanpy - INFO - Chain [1] done processing\n"
     ]
    },
    {
     "name": "stdout",
     "output_type": "stream",
     "text": [
      "Model for RED NADU BULK - LOCAL saved successfully.\n",
      "Model for REEBONN SILICON CONDITIONER 50ML saved successfully.\n"
     ]
    },
    {
     "name": "stderr",
     "output_type": "stream",
     "text": [
      "14:00:50 - cmdstanpy - INFO - Chain [1] start processing\n",
      "14:00:50 - cmdstanpy - INFO - Chain [1] done processing\n",
      "14:00:50 - cmdstanpy - INFO - Chain [1] start processing\n",
      "14:00:50 - cmdstanpy - INFO - Chain [1] done processing\n"
     ]
    },
    {
     "name": "stdout",
     "output_type": "stream",
     "text": [
      "Model for RENUKA COCONUT MILK POWDER 300G saved successfully.\n",
      "Model for RIBBED GOURD saved successfully.\n"
     ]
    },
    {
     "name": "stderr",
     "output_type": "stream",
     "text": [
      "14:00:50 - cmdstanpy - INFO - Chain [1] start processing\n",
      "14:00:50 - cmdstanpy - INFO - Chain [1] done processing\n",
      "14:00:50 - cmdstanpy - INFO - Chain [1] start processing\n",
      "14:00:50 - cmdstanpy - INFO - Chain [1] done processing\n"
     ]
    },
    {
     "name": "stdout",
     "output_type": "stream",
     "text": [
      "Model for RICE & CURRY WITH CHICKEN saved successfully.\n",
      "Model for RICE RED KEKULU BULK KG - LOCAL saved successfully.\n"
     ]
    },
    {
     "name": "stderr",
     "output_type": "stream",
     "text": [
      "14:00:50 - cmdstanpy - INFO - Chain [1] start processing\n",
      "14:00:50 - cmdstanpy - INFO - Chain [1] done processing\n",
      "14:00:51 - cmdstanpy - INFO - Chain [1] start processing\n",
      "14:00:51 - cmdstanpy - INFO - Chain [1] done processing\n"
     ]
    },
    {
     "name": "stdout",
     "output_type": "stream",
     "text": [
      "Model for RICE WHITE KEKULU BULK KG - LOCAL saved successfully.\n",
      "Model for RICH TURMERIC POWDER 50G saved successfully.\n"
     ]
    },
    {
     "name": "stderr",
     "output_type": "stream",
     "text": [
      "14:00:51 - cmdstanpy - INFO - Chain [1] start processing\n",
      "14:00:51 - cmdstanpy - INFO - Chain [1] done processing\n",
      "14:00:51 - cmdstanpy - INFO - Chain [1] start processing\n"
     ]
    },
    {
     "name": "stdout",
     "output_type": "stream",
     "text": [
      "Model for RICHLIFE CHE WEDGES GREENCHILLI 120G saved successfully.\n"
     ]
    },
    {
     "name": "stderr",
     "output_type": "stream",
     "text": [
      "14:00:51 - cmdstanpy - INFO - Chain [1] done processing\n",
      "14:00:51 - cmdstanpy - INFO - Chain [1] start processing\n",
      "14:00:51 - cmdstanpy - INFO - Chain [1] done processing\n"
     ]
    },
    {
     "name": "stdout",
     "output_type": "stream",
     "text": [
      "Model for RICHLIFE CHEESE SLICES 5S 100G saved successfully.\n",
      "Model for RICHLIFE SET KIRI 900ML saved successfully.\n"
     ]
    },
    {
     "name": "stderr",
     "output_type": "stream",
     "text": [
      "14:00:51 - cmdstanpy - INFO - Chain [1] start processing\n",
      "14:00:51 - cmdstanpy - INFO - Chain [1] done processing\n",
      "14:00:52 - cmdstanpy - INFO - Chain [1] start processing\n",
      "14:00:52 - cmdstanpy - INFO - Chain [1] done processing\n"
     ]
    },
    {
     "name": "stdout",
     "output_type": "stream",
     "text": [
      "Model for RISANDU WICK SMALL saved successfully.\n"
     ]
    },
    {
     "name": "stderr",
     "output_type": "stream",
     "text": [
      "14:00:52 - cmdstanpy - INFO - Chain [1] start processing\n",
      "14:00:52 - cmdstanpy - INFO - Chain [1] done processing\n"
     ]
    },
    {
     "name": "stdout",
     "output_type": "stream",
     "text": [
      "Model for RITZBURY CHOCOLATE CHAMP 26G saved successfully.\n",
      "Model for RITZBURY CHOCOLATE TROPICA 26G saved successfully.\n"
     ]
    },
    {
     "name": "stderr",
     "output_type": "stream",
     "text": [
      "14:00:52 - cmdstanpy - INFO - Chain [1] start processing\n",
      "14:00:52 - cmdstanpy - INFO - Chain [1] done processing\n",
      "14:00:52 - cmdstanpy - INFO - Chain [1] start processing\n",
      "14:00:52 - cmdstanpy - INFO - Chain [1] done processing\n"
     ]
    },
    {
     "name": "stdout",
     "output_type": "stream",
     "text": [
      "Model for RITZBURY PEBBLES 25G saved successfully.\n",
      "Model for RITZBURY PEBBLES PARTY PACK 180G saved successfully.\n"
     ]
    },
    {
     "name": "stderr",
     "output_type": "stream",
     "text": [
      "14:00:52 - cmdstanpy - INFO - Chain [1] start processing\n",
      "14:00:52 - cmdstanpy - INFO - Chain [1] done processing\n",
      "14:00:52 - cmdstanpy - INFO - Chain [1] start processing\n",
      "14:00:52 - cmdstanpy - INFO - Chain [1] done processing\n"
     ]
    },
    {
     "name": "stdout",
     "output_type": "stream",
     "text": [
      "Model for RITZBURY POPIT CHO.COATED CRISPY 20G saved successfully.\n",
      "Model for RITZBURY REVELLO CASHEW CHOC 100G saved successfully.\n"
     ]
    },
    {
     "name": "stderr",
     "output_type": "stream",
     "text": [
      "14:00:53 - cmdstanpy - INFO - Chain [1] start processing\n",
      "14:00:53 - cmdstanpy - INFO - Chain [1] done processing\n",
      "14:00:53 - cmdstanpy - INFO - Chain [1] start processing\n",
      "14:00:53 - cmdstanpy - INFO - Chain [1] done processing\n"
     ]
    },
    {
     "name": "stdout",
     "output_type": "stream",
     "text": [
      "Model for RITZBURY REVELLO CHOCOLATE CASHEW 50G saved successfully.\n",
      "Model for RITZBURY REVELLO CRISPIES CHOC 100G saved successfully.\n"
     ]
    },
    {
     "name": "stderr",
     "output_type": "stream",
     "text": [
      "14:00:53 - cmdstanpy - INFO - Chain [1] start processing\n",
      "14:00:53 - cmdstanpy - INFO - Chain [1] done processing\n",
      "14:00:53 - cmdstanpy - INFO - Chain [1] start processing\n",
      "14:00:53 - cmdstanpy - INFO - Chain [1] done processing\n"
     ]
    },
    {
     "name": "stdout",
     "output_type": "stream",
     "text": [
      "Model for RITZBURY REVELLO FRUIT & NUT 100G saved successfully.\n",
      "Model for RITZBURY REVELLO MILK CHOCOALTE 100G saved successfully.\n"
     ]
    },
    {
     "name": "stderr",
     "output_type": "stream",
     "text": [
      "14:00:53 - cmdstanpy - INFO - Chain [1] start processing\n",
      "14:00:53 - cmdstanpy - INFO - Chain [1] done processing\n",
      "14:00:53 - cmdstanpy - INFO - Chain [1] start processing\n",
      "14:00:53 - cmdstanpy - INFO - Chain [1] done processing\n"
     ]
    },
    {
     "name": "stdout",
     "output_type": "stream",
     "text": [
      "Model for RITZBURY SUGAR FREE DARK CHOCOLATE 45G saved successfully.\n",
      "Model for ROAST BREAD WITH POL SAMBOL saved successfully.\n"
     ]
    },
    {
     "name": "stderr",
     "output_type": "stream",
     "text": [
      "14:00:53 - cmdstanpy - INFO - Chain [1] start processing\n",
      "14:00:53 - cmdstanpy - INFO - Chain [1] done processing\n",
      "14:00:53 - cmdstanpy - INFO - Chain [1] start processing\n",
      "14:00:54 - cmdstanpy - INFO - Chain [1] done processing\n"
     ]
    },
    {
     "name": "stdout",
     "output_type": "stream",
     "text": [
      "Model for ROZA PASTA CRESTE DI GALLI 400G saved successfully.\n",
      "Model for ROZA PASTA LUMACHINE 400G saved successfully.\n"
     ]
    },
    {
     "name": "stderr",
     "output_type": "stream",
     "text": [
      "14:00:54 - cmdstanpy - INFO - Chain [1] start processing\n",
      "14:00:54 - cmdstanpy - INFO - Chain [1] done processing\n",
      "14:00:54 - cmdstanpy - INFO - Chain [1] start processing\n"
     ]
    },
    {
     "name": "stdout",
     "output_type": "stream",
     "text": [
      "Model for RUHUNU CHILLIE PIECES 100G saved successfully.\n"
     ]
    },
    {
     "name": "stderr",
     "output_type": "stream",
     "text": [
      "14:00:54 - cmdstanpy - INFO - Chain [1] done processing\n",
      "14:00:54 - cmdstanpy - INFO - Chain [1] start processing\n",
      "14:00:54 - cmdstanpy - INFO - Chain [1] done processing\n"
     ]
    },
    {
     "name": "stdout",
     "output_type": "stream",
     "text": [
      "Model for RUSIRU SCRUBBER LARGE saved successfully.\n",
      "Model for SAMAPOSHA 200G saved successfully.\n"
     ]
    },
    {
     "name": "stderr",
     "output_type": "stream",
     "text": [
      "14:00:54 - cmdstanpy - INFO - Chain [1] start processing\n",
      "14:00:54 - cmdstanpy - INFO - Chain [1] done processing\n",
      "14:00:54 - cmdstanpy - INFO - Chain [1] start processing\n",
      "14:00:54 - cmdstanpy - INFO - Chain [1] done processing\n"
     ]
    },
    {
     "name": "stdout",
     "output_type": "stream",
     "text": [
      "Model for SAMAPOSHA 80G saved successfully.\n",
      "Model for SAN DELO PASTA FUSILLI 400G saved successfully.\n"
     ]
    },
    {
     "name": "stderr",
     "output_type": "stream",
     "text": [
      "14:00:54 - cmdstanpy - INFO - Chain [1] start processing\n",
      "14:00:54 - cmdstanpy - INFO - Chain [1] done processing\n",
      "14:00:55 - cmdstanpy - INFO - Chain [1] start processing\n",
      "14:00:55 - cmdstanpy - INFO - Chain [1] done processing\n"
     ]
    },
    {
     "name": "stdout",
     "output_type": "stream",
     "text": [
      "Model for SCAN CASSAVA CHIPS HOT & SPICY 50G saved successfully.\n",
      "Model for SECRET FLORAL DREAMS B/SPRAY 30ML saved successfully.\n"
     ]
    },
    {
     "name": "stderr",
     "output_type": "stream",
     "text": [
      "14:00:55 - cmdstanpy - INFO - Chain [1] start processing\n",
      "14:00:55 - cmdstanpy - INFO - Chain [1] done processing\n",
      "14:00:55 - cmdstanpy - INFO - Chain [1] start processing\n",
      "14:00:55 - cmdstanpy - INFO - Chain [1] done processing\n"
     ]
    },
    {
     "name": "stdout",
     "output_type": "stream",
     "text": [
      "Model for SECRETS B/SPRAY ROSE 50ML saved successfully.\n",
      "Model for SEEPET CUT TWISTS 250G saved successfully.\n"
     ]
    },
    {
     "name": "stderr",
     "output_type": "stream",
     "text": [
      "14:00:55 - cmdstanpy - INFO - Chain [1] start processing\n",
      "14:00:55 - cmdstanpy - INFO - Chain [1] done processing\n",
      "14:00:55 - cmdstanpy - INFO - Chain [1] start processing\n",
      "14:00:55 - cmdstanpy - INFO - Chain [1] done processing\n"
     ]
    },
    {
     "name": "stdout",
     "output_type": "stream",
     "text": [
      "Model for SEEPET DOG COMB A 124 saved successfully.\n",
      "Model for SEEPET DOG MUNCHIES 25 PIECES saved successfully.\n"
     ]
    },
    {
     "name": "stderr",
     "output_type": "stream",
     "text": [
      "14:00:55 - cmdstanpy - INFO - Chain [1] start processing\n",
      "14:00:55 - cmdstanpy - INFO - Chain [1] done processing\n",
      "14:00:56 - cmdstanpy - INFO - Chain [1] start processing\n"
     ]
    },
    {
     "name": "stdout",
     "output_type": "stream",
     "text": [
      "Model for SEEPET DOG TREATS 4” saved successfully.\n"
     ]
    },
    {
     "name": "stderr",
     "output_type": "stream",
     "text": [
      "14:00:56 - cmdstanpy - INFO - Chain [1] done processing\n",
      "14:00:56 - cmdstanpy - INFO - Chain [1] start processing\n",
      "14:00:56 - cmdstanpy - INFO - Chain [1] done processing\n",
      "14:00:56 - cmdstanpy - INFO - Chain [1] start processing\n"
     ]
    },
    {
     "name": "stdout",
     "output_type": "stream",
     "text": [
      "Model for SERA CHICKEN WITH SWEET CORN SOUP 50G saved successfully.\n",
      "Model for SIDDHALEPA ASAMODAGAM SPIRIT 350ML saved successfully.\n"
     ]
    },
    {
     "name": "stderr",
     "output_type": "stream",
     "text": [
      "14:00:56 - cmdstanpy - INFO - Chain [1] done processing\n",
      "14:00:56 - cmdstanpy - INFO - Chain [1] start processing\n",
      "14:00:56 - cmdstanpy - INFO - Chain [1] done processing\n"
     ]
    },
    {
     "name": "stdout",
     "output_type": "stream",
     "text": [
      "Model for SIDDHALEPA BALM 5G saved successfully.\n",
      "Model for SIGNAL STRONG TEETH TOOTHPASTE 120G saved successfully.\n"
     ]
    },
    {
     "name": "stderr",
     "output_type": "stream",
     "text": [
      "14:00:56 - cmdstanpy - INFO - Chain [1] start processing\n",
      "14:00:56 - cmdstanpy - INFO - Chain [1] done processing\n",
      "14:00:56 - cmdstanpy - INFO - Chain [1] start processing\n",
      "14:00:56 - cmdstanpy - INFO - Chain [1] done processing\n"
     ]
    },
    {
     "name": "stdout",
     "output_type": "stream",
     "text": [
      "Model for SIGNAL T/P STRONG TEETH 200G saved successfully.\n",
      "Model for SIGNAL T/P TRIPLE PROTECTION 70G saved successfully.\n"
     ]
    },
    {
     "name": "stderr",
     "output_type": "stream",
     "text": [
      "14:00:57 - cmdstanpy - INFO - Chain [1] start processing\n",
      "14:00:57 - cmdstanpy - INFO - Chain [1] done processing\n",
      "14:00:57 - cmdstanpy - INFO - Chain [1] start processing\n"
     ]
    },
    {
     "name": "stdout",
     "output_type": "stream",
     "text": [
      "Model for SIGNAL TOOTH BRUSH TRIPLE CLEAN saved successfully.\n"
     ]
    },
    {
     "name": "stderr",
     "output_type": "stream",
     "text": [
      "14:00:57 - cmdstanpy - INFO - Chain [1] done processing\n",
      "14:00:57 - cmdstanpy - INFO - Chain [1] start processing\n",
      "14:00:57 - cmdstanpy - INFO - Chain [1] done processing\n"
     ]
    },
    {
     "name": "stdout",
     "output_type": "stream",
     "text": [
      "Model for SIGNAL TOOTHPASTE STRONG TEETH 40G saved successfully.\n",
      "Model for SMAK CASSAVA CHIPS HOT N SPICY 100G saved successfully.\n"
     ]
    },
    {
     "name": "stderr",
     "output_type": "stream",
     "text": [
      "14:00:57 - cmdstanpy - INFO - Chain [1] start processing\n",
      "14:00:57 - cmdstanpy - INFO - Chain [1] done processing\n",
      "14:00:57 - cmdstanpy - INFO - Chain [1] start processing\n"
     ]
    },
    {
     "name": "stdout",
     "output_type": "stream",
     "text": [
      "Model for SMAK CHICK PEA 50G saved successfully.\n"
     ]
    },
    {
     "name": "stderr",
     "output_type": "stream",
     "text": [
      "14:00:57 - cmdstanpy - INFO - Chain [1] done processing\n",
      "14:00:58 - cmdstanpy - INFO - Chain [1] start processing\n",
      "14:00:58 - cmdstanpy - INFO - Chain [1] done processing\n"
     ]
    },
    {
     "name": "stdout",
     "output_type": "stream",
     "text": [
      "Model for SMAK ONION BITES 100G saved successfully.\n",
      "Model for SPINNER CAFFEINATED DRINK 250ML saved successfully.\n"
     ]
    },
    {
     "name": "stderr",
     "output_type": "stream",
     "text": [
      "14:00:58 - cmdstanpy - INFO - Chain [1] start processing\n",
      "14:00:58 - cmdstanpy - INFO - Chain [1] done processing\n",
      "14:00:58 - cmdstanpy - INFO - Chain [1] start processing\n",
      "14:00:58 - cmdstanpy - INFO - Chain [1] done processing\n",
      "14:00:58 - cmdstanpy - INFO - Chain [1] start processing\n"
     ]
    },
    {
     "name": "stdout",
     "output_type": "stream",
     "text": [
      "Model for SPRITE BOTTLE 400ML saved successfully.\n",
      "Model for STR RADIATOR COOLANT ENGINE 1L saved successfully.\n"
     ]
    },
    {
     "name": "stderr",
     "output_type": "stream",
     "text": [
      "14:00:58 - cmdstanpy - INFO - Chain [1] done processing\n",
      "14:00:58 - cmdstanpy - INFO - Chain [1] start processing\n",
      "14:00:58 - cmdstanpy - INFO - Chain [1] done processing\n"
     ]
    },
    {
     "name": "stdout",
     "output_type": "stream",
     "text": [
      "Model for SUDAYA saved successfully.\n",
      "Model for SUGAR & SPICE BROWN SUGAR 1 KG saved successfully.\n"
     ]
    },
    {
     "name": "stderr",
     "output_type": "stream",
     "text": [
      "14:00:58 - cmdstanpy - INFO - Chain [1] start processing\n",
      "14:00:58 - cmdstanpy - INFO - Chain [1] done processing\n",
      "14:00:58 - cmdstanpy - INFO - Chain [1] start processing\n",
      "14:00:58 - cmdstanpy - INFO - Chain [1] done processing\n"
     ]
    },
    {
     "name": "stdout",
     "output_type": "stream",
     "text": [
      "Model for SUGAR & SPICE WHITE SUGAR 1KG saved successfully.\n",
      "Model for SUN CRUSH SPARKLING GRAPE DRINK 250ML saved successfully.\n"
     ]
    },
    {
     "name": "stderr",
     "output_type": "stream",
     "text": [
      "14:00:58 - cmdstanpy - INFO - Chain [1] start processing\n",
      "14:00:59 - cmdstanpy - INFO - Chain [1] done processing\n",
      "14:00:59 - cmdstanpy - INFO - Chain [1] start processing\n",
      "14:00:59 - cmdstanpy - INFO - Chain [1] done processing\n"
     ]
    },
    {
     "name": "stdout",
     "output_type": "stream",
     "text": [
      "Model for SUN CRUSH SPARKLING GRE. APPLE 250ML saved successfully.\n",
      "Model for SUN CRUSH SPARKLING LEMON DRINK 250ML saved successfully.\n"
     ]
    },
    {
     "name": "stderr",
     "output_type": "stream",
     "text": [
      "14:00:59 - cmdstanpy - INFO - Chain [1] start processing\n",
      "14:00:59 - cmdstanpy - INFO - Chain [1] done processing\n",
      "14:00:59 - cmdstanpy - INFO - Chain [1] start processing\n",
      "14:00:59 - cmdstanpy - INFO - Chain [1] done processing\n"
     ]
    },
    {
     "name": "stdout",
     "output_type": "stream",
     "text": [
      "Model for SUN CRUSH SPARKLING ORANGE 250ML saved successfully.\n",
      "Model for SUN CRUSH SPARKLING RED APPLE 250ML saved successfully.\n"
     ]
    },
    {
     "name": "stderr",
     "output_type": "stream",
     "text": [
      "14:00:59 - cmdstanpy - INFO - Chain [1] start processing\n",
      "14:00:59 - cmdstanpy - INFO - Chain [1] done processing\n",
      "14:00:59 - cmdstanpy - INFO - Chain [1] start processing\n"
     ]
    },
    {
     "name": "stdout",
     "output_type": "stream",
     "text": [
      "Model for SUNFLOWER DISPOSABLE FACE MASK 5S saved successfully.\n"
     ]
    },
    {
     "name": "stderr",
     "output_type": "stream",
     "text": [
      "14:01:00 - cmdstanpy - INFO - Chain [1] done processing\n",
      "14:01:00 - cmdstanpy - INFO - Chain [1] start processing\n"
     ]
    },
    {
     "name": "stdout",
     "output_type": "stream",
     "text": [
      "Model for SUNLIGHT CARE LIQUID 1 LITER saved successfully.\n"
     ]
    },
    {
     "name": "stderr",
     "output_type": "stream",
     "text": [
      "14:01:00 - cmdstanpy - INFO - Chain [1] done processing\n",
      "14:01:00 - cmdstanpy - INFO - Chain [1] start processing\n",
      "14:01:00 - cmdstanpy - INFO - Chain [1] done processing\n",
      "14:01:00 - cmdstanpy - INFO - Chain [1] start processing\n"
     ]
    },
    {
     "name": "stdout",
     "output_type": "stream",
     "text": [
      "Model for SUNQUICK ORANGE FLAV DRINK 200ML saved successfully.\n",
      "Model for SURF EXCEL W/POWDER COMFORT X 500G saved successfully.\n"
     ]
    },
    {
     "name": "stderr",
     "output_type": "stream",
     "text": [
      "14:01:00 - cmdstanpy - INFO - Chain [1] done processing\n",
      "14:01:00 - cmdstanpy - INFO - Chain [1] start processing\n",
      "14:01:00 - cmdstanpy - INFO - Chain [1] done processing\n"
     ]
    },
    {
     "name": "stdout",
     "output_type": "stream",
     "text": [
      "Model for TAMARIND saved successfully.\n",
      "Model for TASOTTI COOL BALLS ICE AQUA 25G saved successfully.\n"
     ]
    },
    {
     "name": "stderr",
     "output_type": "stream",
     "text": [
      "14:01:00 - cmdstanpy - INFO - Chain [1] start processing\n",
      "14:01:00 - cmdstanpy - INFO - Chain [1] done processing\n",
      "14:01:00 - cmdstanpy - INFO - Chain [1] start processing\n",
      "14:01:01 - cmdstanpy - INFO - Chain [1] done processing\n"
     ]
    },
    {
     "name": "stdout",
     "output_type": "stream",
     "text": [
      "Model for TEASER MIXED BERRIES MOCKTAIL 250G saved successfully.\n",
      "Model for TEASER PEACH MOCKTAIL 250ML saved successfully.\n"
     ]
    },
    {
     "name": "stderr",
     "output_type": "stream",
     "text": [
      "14:01:01 - cmdstanpy - INFO - Chain [1] start processing\n",
      "14:01:01 - cmdstanpy - INFO - Chain [1] done processing\n",
      "14:01:01 - cmdstanpy - INFO - Chain [1] start processing\n",
      "14:01:01 - cmdstanpy - INFO - Chain [1] done processing\n"
     ]
    },
    {
     "name": "stdout",
     "output_type": "stream",
     "text": [
      "Model for TEN QT BALL PEN 3 BLU/BLK/RED saved successfully.\n",
      "Model for THAI SUMEDA OIL LAMP WICKS saved successfully.\n"
     ]
    },
    {
     "name": "stderr",
     "output_type": "stream",
     "text": [
      "14:01:01 - cmdstanpy - INFO - Chain [1] start processing\n",
      "14:01:01 - cmdstanpy - INFO - Chain [1] done processing\n",
      "14:01:01 - cmdstanpy - INFO - Chain [1] start processing\n"
     ]
    },
    {
     "name": "stdout",
     "output_type": "stream",
     "text": [
      "Model for THALAPATH SMALL saved successfully.\n"
     ]
    },
    {
     "name": "stderr",
     "output_type": "stream",
     "text": [
      "14:01:01 - cmdstanpy - INFO - Chain [1] done processing\n",
      "14:01:01 - cmdstanpy - INFO - Chain [1] start processing\n"
     ]
    },
    {
     "name": "stdout",
     "output_type": "stream",
     "text": [
      "Model for THROW EASY GARBAGE BAGS MEDIUM saved successfully.\n"
     ]
    },
    {
     "name": "stderr",
     "output_type": "stream",
     "text": [
      "14:01:01 - cmdstanpy - INFO - Chain [1] done processing\n",
      "14:01:02 - cmdstanpy - INFO - Chain [1] start processing\n",
      "14:01:02 - cmdstanpy - INFO - Chain [1] done processing\n"
     ]
    },
    {
     "name": "stdout",
     "output_type": "stream",
     "text": [
      "Model for THROW EASY GARBAGE BAGS SMALL saved successfully.\n",
      "Model for TOMATOES saved successfully.\n"
     ]
    },
    {
     "name": "stderr",
     "output_type": "stream",
     "text": [
      "14:01:02 - cmdstanpy - INFO - Chain [1] start processing\n",
      "14:01:02 - cmdstanpy - INFO - Chain [1] done processing\n",
      "14:01:02 - cmdstanpy - INFO - Chain [1] start processing\n",
      "14:01:02 - cmdstanpy - INFO - Chain [1] done processing\n"
     ]
    },
    {
     "name": "stdout",
     "output_type": "stream",
     "text": [
      "Model for TOP CRUST BREAD saved successfully.\n",
      "Model for TUNA FISH saved successfully.\n"
     ]
    },
    {
     "name": "stderr",
     "output_type": "stream",
     "text": [
      "14:01:02 - cmdstanpy - INFO - Chain [1] start processing\n",
      "14:01:02 - cmdstanpy - INFO - Chain [1] done processing\n",
      "14:01:02 - cmdstanpy - INFO - Chain [1] start processing\n",
      "14:01:02 - cmdstanpy - INFO - Chain [1] done processing\n"
     ]
    },
    {
     "name": "stdout",
     "output_type": "stream",
     "text": [
      "Model for USWATTE TIPI TIP TOMATO 18G saved successfully.\n",
      "Model for VIM D/WASH BAR 100G MULTIPACK saved successfully.\n"
     ]
    },
    {
     "name": "stderr",
     "output_type": "stream",
     "text": [
      "14:01:02 - cmdstanpy - INFO - Chain [1] start processing\n",
      "14:01:02 - cmdstanpy - INFO - Chain [1] done processing\n",
      "14:01:03 - cmdstanpy - INFO - Chain [1] start processing\n",
      "14:01:03 - cmdstanpy - INFO - Chain [1] done processing\n"
     ]
    },
    {
     "name": "stdout",
     "output_type": "stream",
     "text": [
      "Model for VIM DISHWASH LIQUID LIME 500ML saved successfully.\n",
      "Model for VIVYA FACE CREAM ADVANCE RADIANCE 25G saved successfully.\n"
     ]
    },
    {
     "name": "stderr",
     "output_type": "stream",
     "text": [
      "14:01:03 - cmdstanpy - INFO - Chain [1] start processing\n",
      "14:01:03 - cmdstanpy - INFO - Chain [1] done processing\n"
     ]
    },
    {
     "name": "stdout",
     "output_type": "stream",
     "text": [
      "Model for VIVYA FACE SCRUB 100ML saved successfully.\n"
     ]
    },
    {
     "name": "stderr",
     "output_type": "stream",
     "text": [
      "14:01:03 - cmdstanpy - INFO - Chain [1] start processing\n",
      "14:01:03 - cmdstanpy - INFO - Chain [1] done processing\n",
      "14:01:03 - cmdstanpy - INFO - Chain [1] start processing\n",
      "14:01:03 - cmdstanpy - INFO - Chain [1] done processing\n"
     ]
    },
    {
     "name": "stdout",
     "output_type": "stream",
     "text": [
      "Model for VIVYA NIGHT CREAM INTENSE RESTORE 30G saved successfully.\n",
      "Model for VIVYA UNDER EYE GEL 15G saved successfully.\n"
     ]
    },
    {
     "name": "stderr",
     "output_type": "stream",
     "text": [
      "14:01:03 - cmdstanpy - INFO - Chain [1] start processing\n",
      "14:01:03 - cmdstanpy - INFO - Chain [1] done processing\n",
      "14:01:03 - cmdstanpy - INFO - Chain [1] start processing\n",
      "14:01:03 - cmdstanpy - INFO - Chain [1] done processing\n"
     ]
    },
    {
     "name": "stdout",
     "output_type": "stream",
     "text": [
      "Model for VIVYASERUM SKIN REVITALISING 30ML saved successfully.\n",
      "Model for WATAWALA TEA 200G saved successfully.\n"
     ]
    },
    {
     "name": "stderr",
     "output_type": "stream",
     "text": [
      "14:01:04 - cmdstanpy - INFO - Chain [1] start processing\n",
      "14:01:04 - cmdstanpy - INFO - Chain [1] done processing\n",
      "14:01:04 - cmdstanpy - INFO - Chain [1] start processing\n",
      "14:01:04 - cmdstanpy - INFO - Chain [1] done processing\n"
     ]
    },
    {
     "name": "stdout",
     "output_type": "stream",
     "text": [
      "Model for WATAWALA TEA POUCH 100G saved successfully.\n",
      "Model for WATERMELON�JUICE saved successfully.\n"
     ]
    },
    {
     "name": "stderr",
     "output_type": "stream",
     "text": [
      "14:01:04 - cmdstanpy - INFO - Chain [1] start processing\n",
      "14:01:04 - cmdstanpy - INFO - Chain [1] done processing\n",
      "14:01:04 - cmdstanpy - INFO - Chain [1] start processing\n",
      "14:01:04 - cmdstanpy - INFO - Chain [1] done processing\n"
     ]
    },
    {
     "name": "stdout",
     "output_type": "stream",
     "text": [
      "Model for WIJAYA CHILLIE PIECES 100G saved successfully.\n",
      "Model for WIJAYA CHILLIE POWDER 100G saved successfully.\n"
     ]
    },
    {
     "name": "stderr",
     "output_type": "stream",
     "text": [
      "14:01:04 - cmdstanpy - INFO - Chain [1] start processing\n",
      "14:01:04 - cmdstanpy - INFO - Chain [1] done processing\n",
      "14:01:04 - cmdstanpy - INFO - Chain [1] start processing\n",
      "14:01:04 - cmdstanpy - INFO - Chain [1] done processing\n"
     ]
    },
    {
     "name": "stdout",
     "output_type": "stream",
     "text": [
      "Model for WIJAYA CHILLIE POWDER 250G saved successfully.\n",
      "Model for WIJAYA CURRY POWDER 100G saved successfully.\n"
     ]
    },
    {
     "name": "stderr",
     "output_type": "stream",
     "text": [
      "14:01:04 - cmdstanpy - INFO - Chain [1] start processing\n",
      "14:01:05 - cmdstanpy - INFO - Chain [1] done processing\n",
      "14:01:05 - cmdstanpy - INFO - Chain [1] start processing\n",
      "14:01:05 - cmdstanpy - INFO - Chain [1] done processing\n"
     ]
    },
    {
     "name": "stdout",
     "output_type": "stream",
     "text": [
      "Model for WIJAYA TURMERIC POWDER 50G saved successfully.\n",
      "Model for WONDER WIPE MICROFIBER CLOTH CAR saved successfully.\n"
     ]
    },
    {
     "name": "stderr",
     "output_type": "stream",
     "text": [
      "14:01:05 - cmdstanpy - INFO - Chain [1] start processing\n",
      "14:01:05 - cmdstanpy - INFO - Chain [1] done processing\n",
      "14:01:05 - cmdstanpy - INFO - Chain [1] start processing\n",
      "14:01:05 - cmdstanpy - INFO - Chain [1] done processing\n"
     ]
    },
    {
     "name": "stdout",
     "output_type": "stream",
     "text": [
      "Model for YETI ISO BL 500ML 2S + FREE ISO POW 25G saved successfully.\n",
      "Model for ANLENE MILK LOW FAT HI CALCIUM 400G saved successfully.\n"
     ]
    },
    {
     "name": "stderr",
     "output_type": "stream",
     "text": [
      "14:01:05 - cmdstanpy - INFO - Chain [1] start processing\n",
      "14:01:05 - cmdstanpy - INFO - Chain [1] done processing\n",
      "14:01:05 - cmdstanpy - INFO - Chain [1] start processing\n",
      "14:01:05 - cmdstanpy - INFO - Chain [1] done processing\n",
      "14:01:05 - cmdstanpy - INFO - Chain [1] start processing\n"
     ]
    },
    {
     "name": "stdout",
     "output_type": "stream",
     "text": [
      "Model for ATLAS RULER CLEAR 6 saved successfully.\n",
      "Model for BLACK & GOLD ROASTED GRAM 100G saved successfully.\n"
     ]
    },
    {
     "name": "stderr",
     "output_type": "stream",
     "text": [
      "14:01:05 - cmdstanpy - INFO - Chain [1] done processing\n",
      "14:01:05 - cmdstanpy - INFO - Chain [1] start processing\n",
      "14:01:05 - cmdstanpy - INFO - Chain [1] done processing\n"
     ]
    },
    {
     "name": "stdout",
     "output_type": "stream",
     "text": [
      "Model for BROWN SUGAR BULK saved successfully.\n",
      "Model for CRESCENT CHICKEN KOCHCHI BITE 14 PCS saved successfully.\n"
     ]
    },
    {
     "name": "stderr",
     "output_type": "stream",
     "text": [
      "14:01:06 - cmdstanpy - INFO - Chain [1] start processing\n",
      "14:01:06 - cmdstanpy - INFO - Chain [1] done processing\n",
      "14:01:06 - cmdstanpy - INFO - Chain [1] start processing\n",
      "14:01:06 - cmdstanpy - INFO - Chain [1] done processing\n"
     ]
    },
    {
     "name": "stdout",
     "output_type": "stream",
     "text": [
      "Model for DATE CROWN DATES KHALAS THERMO 250G saved successfully.\n",
      "Model for KANDOS BAR CASHEW NUT 45G saved successfully.\n"
     ]
    },
    {
     "name": "stderr",
     "output_type": "stream",
     "text": [
      "14:01:06 - cmdstanpy - INFO - Chain [1] start processing\n",
      "14:01:06 - cmdstanpy - INFO - Chain [1] done processing\n",
      "14:01:06 - cmdstanpy - INFO - Chain [1] start processing\n",
      "14:01:06 - cmdstanpy - INFO - Chain [1] done processing\n"
     ]
    },
    {
     "name": "stdout",
     "output_type": "stream",
     "text": [
      "Model for KEELLS CHICKEN STOCK POWDER 100G saved successfully.\n",
      "Model for KOTMALE LASSI WITH MANGO PULP 180ML saved successfully.\n"
     ]
    },
    {
     "name": "stderr",
     "output_type": "stream",
     "text": [
      "14:01:06 - cmdstanpy - INFO - Chain [1] start processing\n",
      "14:01:06 - cmdstanpy - INFO - Chain [1] done processing\n",
      "14:01:06 - cmdstanpy - INFO - Chain [1] start processing\n",
      "14:01:06 - cmdstanpy - INFO - Chain [1] done processing\n"
     ]
    },
    {
     "name": "stdout",
     "output_type": "stream",
     "text": [
      "Model for MARINA REFINED COCONUT OIL 350ML saved successfully.\n",
      "Model for MARINA VEGETABLE OIL PACK 500ML saved successfully.\n"
     ]
    },
    {
     "name": "stderr",
     "output_type": "stream",
     "text": [
      "14:01:06 - cmdstanpy - INFO - Chain [1] start processing\n",
      "14:01:06 - cmdstanpy - INFO - Chain [1] done processing\n",
      "14:01:07 - cmdstanpy - INFO - Chain [1] start processing\n",
      "14:01:07 - cmdstanpy - INFO - Chain [1] done processing\n"
     ]
    },
    {
     "name": "stdout",
     "output_type": "stream",
     "text": [
      "Model for PELWATTA BUTTER UNSALTED 200G saved successfully.\n",
      "Model for PRIMA SUNRISE HOT DOG BUN 2S saved successfully.\n"
     ]
    },
    {
     "name": "stderr",
     "output_type": "stream",
     "text": [
      "14:01:07 - cmdstanpy - INFO - Chain [1] start processing\n",
      "14:01:07 - cmdstanpy - INFO - Chain [1] done processing\n",
      "14:01:07 - cmdstanpy - INFO - Chain [1] start processing\n",
      "14:01:07 - cmdstanpy - INFO - Chain [1] done processing\n"
     ]
    },
    {
     "name": "stdout",
     "output_type": "stream",
     "text": [
      "Model for RATTHI MILK POWDER 1KG PKT saved successfully.\n",
      "Model for RICHLIFE KIRIPANI CUP 82G saved successfully.\n"
     ]
    },
    {
     "name": "stderr",
     "output_type": "stream",
     "text": [
      "14:01:07 - cmdstanpy - INFO - Chain [1] start processing\n",
      "14:01:07 - cmdstanpy - INFO - Chain [1] done processing\n",
      "14:01:07 - cmdstanpy - INFO - Chain [1] start processing\n",
      "14:01:07 - cmdstanpy - INFO - Chain [1] done processing\n"
     ]
    },
    {
     "name": "stdout",
     "output_type": "stream",
     "text": [
      "Model for STARLIGHT CANDLES 3 PCS 8 saved successfully.\n",
      "Model for SUDANTHA PLAQUE FIGHTER T/BRUSH M/S saved successfully.\n"
     ]
    },
    {
     "name": "stderr",
     "output_type": "stream",
     "text": [
      "14:01:08 - cmdstanpy - INFO - Chain [1] start processing\n",
      "14:01:08 - cmdstanpy - INFO - Chain [1] done processing\n"
     ]
    },
    {
     "name": "stdout",
     "output_type": "stream",
     "text": [
      "Model for VASELINE LOTION HEALTHY BRIGHT 100ML saved successfully.\n"
     ]
    }
   ],
   "source": [
    "# Get unique products\n",
    "products = data['productname'].unique()\n",
    "\n",
    "def sanitize_filename(name):\n",
    "    return \"\".join([c if c.isalnum() else \"_\" for c in name])\n",
    "\n",
    "# Ensure the directory to save models exists\n",
    "models_dir = 'models'\n",
    "if not os.path.exists(models_dir):\n",
    "    os.makedirs(models_dir)\n",
    "\n",
    "# Process each product\n",
    "for product in products:\n",
    "    # Filter data for the current product\n",
    "    product_data = data[data['productname'] == product][['ds', 'y']]\n",
    "    \n",
    "    # Only proceed if there are more than 10 records\n",
    "    if len(product_data) > 10:\n",
    "        # Split data into train and test sets\n",
    "        train_data, test_data = train_test_split(product_data, test_size=0.2, random_state=42)\n",
    "\n",
    "        # Initialize and fit the Prophet model\n",
    "        model = Prophet()\n",
    "        model.fit(train_data)\n",
    "\n",
    "        # Sanitize the product name for use in file paths\n",
    "        sanitized_product = sanitize_filename(product)\n",
    "\n",
    "        # Save the model\n",
    "        model_path = os.path.join(models_dir, f'{sanitized_product}_model.pkl')\n",
    "        with open(model_path, 'wb') as f:\n",
    "            pickle.dump(model, f)\n",
    "\n",
    "        print(f'Model for {product} saved successfully.')\n",
    "    else:\n",
    "        print(f\"Not enough data to train model for {product}.\")"
   ]
  },
  {
   "cell_type": "code",
   "execution_count": null,
   "id": "31ac033c-d370-46b8-943b-ea9ac1ea7719",
   "metadata": {},
   "outputs": [],
   "source": [
    "#testing--------------"
   ]
  },
  {
   "cell_type": "code",
   "execution_count": 27,
   "id": "66092e25-f9db-4107-912b-fcfbefd84427",
   "metadata": {},
   "outputs": [
    {
     "name": "stdout",
     "output_type": "stream",
     "text": [
      "7_UP_500ML_PET - Empty DataFrame\n",
      "Columns: [userid, productname, ds, y]\n",
      "Index: []\n",
      "Not enough data to evaluate 7_UP_500ML_PET.\n",
      "7_UP_MEGA_PET_1_5L - Empty DataFrame\n",
      "Columns: [userid, productname, ds, y]\n",
      "Index: []\n",
      "Not enough data to evaluate 7_UP_MEGA_PET_1_5L.\n",
      "ALERICS_I_C_ROCKY_ROAD_1LTR - Empty DataFrame\n",
      "Columns: [userid, productname, ds, y]\n",
      "Index: []\n",
      "Not enough data to evaluate ALERICS_I_C_ROCKY_ROAD_1LTR.\n",
      "ALLI_APPALAM_60G - Empty DataFrame\n",
      "Columns: [userid, productname, ds, y]\n",
      "Index: []\n",
      "Not enough data to evaluate ALLI_APPALAM_60G.\n",
      "ALLI_PAPADAM_SPECIAL_60G - Empty DataFrame\n",
      "Columns: [userid, productname, ds, y]\n",
      "Index: []\n",
      "Not enough data to evaluate ALLI_PAPADAM_SPECIAL_60G.\n",
      "ALLI_SPECIAL_DRY_NOODLES_400G - Empty DataFrame\n",
      "Columns: [userid, productname, ds, y]\n",
      "Index: []\n",
      "Not enough data to evaluate ALLI_SPECIAL_DRY_NOODLES_400G.\n",
      "ALL_OUT_LIQ_DETERGENT_F_LOAD_1L - Empty DataFrame\n",
      "Columns: [userid, productname, ds, y]\n",
      "Index: []\n",
      "Not enough data to evaluate ALL_OUT_LIQ_DETERGENT_F_LOAD_1L.\n",
      "AMBEWELA_UHT_MILK_1L - Empty DataFrame\n",
      "Columns: [userid, productname, ds, y]\n",
      "Index: []\n",
      "Not enough data to evaluate AMBEWELA_UHT_MILK_1L.\n",
      "ANCHOR_FULL_CREAM_MILK_POWDER_200G - Empty DataFrame\n",
      "Columns: [userid, productname, ds, y]\n",
      "Index: []\n",
      "Not enough data to evaluate ANCHOR_FULL_CREAM_MILK_POWDER_200G.\n",
      "ANCHOR_MILK_POWDER_1KG_PKT - Empty DataFrame\n",
      "Columns: [userid, productname, ds, y]\n",
      "Index: []\n",
      "Not enough data to evaluate ANCHOR_MILK_POWDER_1KG_PKT.\n",
      "ANCHOR_MILK_POWDER_400G_ - Empty DataFrame\n",
      "Columns: [userid, productname, ds, y]\n",
      "Index: []\n",
      "Not enough data to evaluate ANCHOR_MILK_POWDER_400G_.\n",
      "ANLENE_MILK_LOW_FAT_HI_CALCIUM_400G - Empty DataFrame\n",
      "Columns: [userid, productname, ds, y]\n",
      "Index: []\n",
      "Not enough data to evaluate ANLENE_MILK_LOW_FAT_HI_CALCIUM_400G.\n",
      "APPLE___FUJI - Empty DataFrame\n",
      "Columns: [userid, productname, ds, y]\n",
      "Index: []\n",
      "Not enough data to evaluate APPLE___FUJI.\n",
      "APPLE___GREEN - Empty DataFrame\n",
      "Columns: [userid, productname, ds, y]\n",
      "Index: []\n",
      "Not enough data to evaluate APPLE___GREEN.\n",
      "APPLE___RED - Empty DataFrame\n",
      "Columns: [userid, productname, ds, y]\n",
      "Index: []\n",
      "Not enough data to evaluate APPLE___RED.\n",
      "AQUAFINA_BOTTLED_DRINKIN_WATER_1_5L - Empty DataFrame\n",
      "Columns: [userid, productname, ds, y]\n",
      "Index: []\n",
      "Not enough data to evaluate AQUAFINA_BOTTLED_DRINKIN_WATER_1_5L.\n",
      "ARALIYA_NADU_RICE_1KG__5U_ - Empty DataFrame\n",
      "Columns: [userid, productname, ds, y]\n",
      "Index: []\n",
      "Not enough data to evaluate ARALIYA_NADU_RICE_1KG__5U_.\n",
      "ARALIYA_WHITE_RAW_RICE_1KG__5U_ - Empty DataFrame\n",
      "Columns: [userid, productname, ds, y]\n",
      "Index: []\n",
      "Not enough data to evaluate ARALIYA_WHITE_RAW_RICE_1KG__5U_.\n",
      "ASTRA_FAT_SPREAD_100G - Empty DataFrame\n",
      "Columns: [userid, productname, ds, y]\n",
      "Index: []\n",
      "Not enough data to evaluate ASTRA_FAT_SPREAD_100G.\n",
      "ASTRA_FAT_SPREAD_250G_TUB - Empty DataFrame\n",
      "Columns: [userid, productname, ds, y]\n",
      "Index: []\n",
      "Not enough data to evaluate ASTRA_FAT_SPREAD_250G_TUB.\n",
      "ATLAS_CHOOTY_11_3IN_PAC_ASSORTED - Empty DataFrame\n",
      "Columns: [userid, productname, ds, y]\n",
      "Index: []\n",
      "Not enough data to evaluate ATLAS_CHOOTY_11_3IN_PAC_ASSORTED.\n",
      "ATLAS_CHOOTY_11_3IN_PAC_BLUE - Empty DataFrame\n",
      "Columns: [userid, productname, ds, y]\n",
      "Index: []\n",
      "Not enough data to evaluate ATLAS_CHOOTY_11_3IN_PAC_BLUE.\n",
      "ATLAS_CR_BOOK_120_PGS_SINGLE - Empty DataFrame\n",
      "Columns: [userid, productname, ds, y]\n",
      "Index: []\n",
      "Not enough data to evaluate ATLAS_CR_BOOK_120_PGS_SINGLE.\n",
      "ATLAS_CR_BOOK_80_PGS - Empty DataFrame\n",
      "Columns: [userid, productname, ds, y]\n",
      "Index: []\n",
      "Not enough data to evaluate ATLAS_CR_BOOK_80_PGS.\n",
      "ATLAS_RULER_CLEAR_6 - Empty DataFrame\n",
      "Columns: [userid, productname, ds, y]\n",
      "Index: []\n",
      "Not enough data to evaluate ATLAS_RULER_CLEAR_6.\n",
      "ATLAS_TAPE_EASY_LARGE - Empty DataFrame\n",
      "Columns: [userid, productname, ds, y]\n",
      "Index: []\n",
      "Not enough data to evaluate ATLAS_TAPE_EASY_LARGE.\n",
      "AVOCADO_JUICE - Empty DataFrame\n",
      "Columns: [userid, productname, ds, y]\n",
      "Index: []\n",
      "Not enough data to evaluate AVOCADO_JUICE.\n",
      "AXE_OIL_5ML - Empty DataFrame\n",
      "Columns: [userid, productname, ds, y]\n",
      "Index: []\n",
      "Not enough data to evaluate AXE_OIL_5ML.\n",
      "BABY_CHERAMY_HERBAL_CREAM_100ML - Empty DataFrame\n",
      "Columns: [userid, productname, ds, y]\n",
      "Index: []\n",
      "Not enough data to evaluate BABY_CHERAMY_HERBAL_CREAM_100ML.\n",
      "BABY_CHERAMY_PAPER_COTTON_BUDS_100S - Empty DataFrame\n",
      "Columns: [userid, productname, ds, y]\n",
      "Index: []\n",
      "Not enough data to evaluate BABY_CHERAMY_PAPER_COTTON_BUDS_100S.\n",
      "BABY_CHERAMY_SOAP_FLORAL_5_75G - Empty DataFrame\n",
      "Columns: [userid, productname, ds, y]\n",
      "Index: []\n",
      "Not enough data to evaluate BABY_CHERAMY_SOAP_FLORAL_5_75G.\n",
      "BABY_CHERAMY_SOAP_POKURUWA_SADUN_5IN1 - Empty DataFrame\n",
      "Columns: [userid, productname, ds, y]\n",
      "Index: []\n",
      "Not enough data to evaluate BABY_CHERAMY_SOAP_POKURUWA_SADUN_5IN1.\n",
      "BAIRAHA_WHOLE_CHICKEN_SKINLESS - Empty DataFrame\n",
      "Columns: [userid, productname, ds, y]\n",
      "Index: []\n",
      "Not enough data to evaluate BAIRAHA_WHOLE_CHICKEN_SKINLESS.\n",
      "BANANA___CAVENDISH - Empty DataFrame\n",
      "Columns: [userid, productname, ds, y]\n",
      "Index: []\n",
      "Not enough data to evaluate BANANA___CAVENDISH.\n",
      "BARAKA_ACT_FAST_5ML - Empty DataFrame\n",
      "Columns: [userid, productname, ds, y]\n",
      "Index: []\n",
      "Not enough data to evaluate BARAKA_ACT_FAST_5ML.\n",
      "BEAM_PAAWATTA_SYRUP_100ML - Empty DataFrame\n",
      "Columns: [userid, productname, ds, y]\n",
      "Index: []\n",
      "Not enough data to evaluate BEAM_PAAWATTA_SYRUP_100ML.\n",
      "BEETROOT -        userid productname         ds  y\n",
      "127         1    BEETROOT 2022-04-30  1\n",
      "128         1    BEETROOT 2023-10-19  2\n",
      "1679        2    BEETROOT 2023-12-25  1\n",
      "3287        3    BEETROOT 2022-05-13  2\n",
      "3288        3    BEETROOT 2022-08-30  3\n",
      "...       ...         ...        ... ..\n",
      "76815      49    BEETROOT 2023-03-13  2\n",
      "78388      50    BEETROOT 2022-01-26  1\n",
      "78389      50    BEETROOT 2023-01-11  3\n",
      "78390      50    BEETROOT 2023-06-09  3\n",
      "78391      50    BEETROOT 2023-07-31  1\n",
      "\n",
      "[189 rows x 4 columns]\n",
      "No overlapping data for forecast and test data for BEETROOT.\n",
      "BFRESH_DRINK_NARANG_200ML - Empty DataFrame\n",
      "Columns: [userid, productname, ds, y]\n",
      "Index: []\n",
      "Not enough data to evaluate BFRESH_DRINK_NARANG_200ML.\n",
      "BIC_EASY_2_PRECISION_RAZOR - Empty DataFrame\n",
      "Columns: [userid, productname, ds, y]\n",
      "Index: []\n",
      "Not enough data to evaluate BIC_EASY_2_PRECISION_RAZOR.\n",
      "BIC_EASY_2_RAZOR_POUCH_4_1_FREE - Empty DataFrame\n",
      "Columns: [userid, productname, ds, y]\n",
      "Index: []\n",
      "Not enough data to evaluate BIC_EASY_2_RAZOR_POUCH_4_1_FREE.\n",
      "BIG_ONIONS - Empty DataFrame\n",
      "Columns: [userid, productname, ds, y]\n",
      "Index: []\n",
      "Not enough data to evaluate BIG_ONIONS.\n",
      "BIO_CLEAN_SURFACE_CLEANER_FLORAL_500ML - Empty DataFrame\n",
      "Columns: [userid, productname, ds, y]\n",
      "Index: []\n",
      "Not enough data to evaluate BIO_CLEAN_SURFACE_CLEANER_FLORAL_500ML.\n",
      "BLACK___GOLD_ROASTED_GRAM_100G - Empty DataFrame\n",
      "Columns: [userid, productname, ds, y]\n",
      "Index: []\n",
      "Not enough data to evaluate BLACK___GOLD_ROASTED_GRAM_100G.\n",
      "BRITOL_ARI_FRESHENER_PINK_DREAM_150ML - Empty DataFrame\n",
      "Columns: [userid, productname, ds, y]\n",
      "Index: []\n",
      "Not enough data to evaluate BRITOL_ARI_FRESHENER_PINK_DREAM_150ML.\n",
      "BROWN_SUGAR_BULK - Empty DataFrame\n",
      "Columns: [userid, productname, ds, y]\n",
      "Index: []\n",
      "Not enough data to evaluate BROWN_SUGAR_BULK.\n",
      "BUBBLE_ALOE_VERA_WASHING_POWDER_500G - Empty DataFrame\n",
      "Columns: [userid, productname, ds, y]\n",
      "Index: []\n",
      "Not enough data to evaluate BUBBLE_ALOE_VERA_WASHING_POWDER_500G.\n",
      "BUBBLE_MATIC_DETERGENT_POWDER_500G - Empty DataFrame\n",
      "Columns: [userid, productname, ds, y]\n",
      "Index: []\n",
      "Not enough data to evaluate BUBBLE_MATIC_DETERGENT_POWDER_500G.\n",
      "CABBAGE -        userid productname         ds  y\n",
      "161         1     CABBAGE 2022-05-05  1\n",
      "162         1     CABBAGE 2022-06-12  1\n",
      "163         1     CABBAGE 2022-07-27  4\n",
      "164         1     CABBAGE 2022-09-02  4\n",
      "165         1     CABBAGE 2022-12-12  1\n",
      "...       ...         ...        ... ..\n",
      "73635      47     CABBAGE 2023-03-19  1\n",
      "73636      47     CABBAGE 2023-05-29  3\n",
      "75222      48     CABBAGE 2022-12-03  3\n",
      "76851      49     CABBAGE 2022-12-28  2\n",
      "76852      49     CABBAGE 2022-12-31  1\n",
      "\n",
      "[170 rows x 4 columns]\n",
      "No overlapping data for forecast and test data for CABBAGE.\n",
      "CARROT -        userid productname         ds  y\n",
      "167         1      CARROT 2022-03-25  4\n",
      "168         1      CARROT 2023-04-26  3\n",
      "1714        2      CARROT 2023-07-17  2\n",
      "3335        3      CARROT 2022-01-05  1\n",
      "3336        3      CARROT 2022-04-11  1\n",
      "...       ...         ...        ... ..\n",
      "73643      47      CARROT 2023-12-01  4\n",
      "76853      49      CARROT 2022-03-14  4\n",
      "76854      49      CARROT 2023-09-11  1\n",
      "78426      50      CARROT 2023-04-15  2\n",
      "78427      50      CARROT 2023-10-22  4\n",
      "\n",
      "[128 rows x 4 columns]\n",
      "No overlapping data for forecast and test data for CARROT.\n",
      "CATCH_CHILLI_PIECES_100G - Empty DataFrame\n",
      "Columns: [userid, productname, ds, y]\n",
      "Index: []\n",
      "Not enough data to evaluate CATCH_CHILLI_PIECES_100G.\n",
      "CATCH_CHILLI_POWDER_100G - Empty DataFrame\n",
      "Columns: [userid, productname, ds, y]\n",
      "Index: []\n",
      "Not enough data to evaluate CATCH_CHILLI_POWDER_100G.\n",
      "CATCH_PEPPER_POWDER_100G - Empty DataFrame\n",
      "Columns: [userid, productname, ds, y]\n",
      "Index: []\n",
      "Not enough data to evaluate CATCH_PEPPER_POWDER_100G.\n",
      "CATCH_ROASTED_CHILLIE_POWDER_100G - Empty DataFrame\n",
      "Columns: [userid, productname, ds, y]\n",
      "Index: []\n",
      "Not enough data to evaluate CATCH_ROASTED_CHILLIE_POWDER_100G.\n",
      "CATCH_ROASTED_CURRY_POWDER_100G - Empty DataFrame\n",
      "Columns: [userid, productname, ds, y]\n",
      "Index: []\n",
      "Not enough data to evaluate CATCH_ROASTED_CURRY_POWDER_100G.\n",
      "CENTER_FRESH_CRUNCH_28G - Empty DataFrame\n",
      "Columns: [userid, productname, ds, y]\n",
      "Index: []\n",
      "Not enough data to evaluate CENTER_FRESH_CRUNCH_28G.\n",
      "CHEESY_CHICKEN_SAUSAGE_PASTA - Empty DataFrame\n",
      "Columns: [userid, productname, ds, y]\n",
      "Index: []\n",
      "Not enough data to evaluate CHEESY_CHICKEN_SAUSAGE_PASTA.\n",
      "CHELLO_PASTURIZED_MILK_1L - Empty DataFrame\n",
      "Columns: [userid, productname, ds, y]\n",
      "Index: []\n",
      "Not enough data to evaluate CHELLO_PASTURIZED_MILK_1L.\n",
      "CHELSEA_BUN - Empty DataFrame\n",
      "Columns: [userid, productname, ds, y]\n",
      "Index: []\n",
      "Not enough data to evaluate CHELSEA_BUN.\n",
      "CHICKEN_BOCKWURST_HOT_DOG - Empty DataFrame\n",
      "Columns: [userid, productname, ds, y]\n",
      "Index: []\n",
      "Not enough data to evaluate CHICKEN_BOCKWURST_HOT_DOG.\n",
      "CHICKEN_CURRY - Empty DataFrame\n",
      "Columns: [userid, productname, ds, y]\n",
      "Index: []\n",
      "Not enough data to evaluate CHICKEN_CURRY.\n",
      "CHICKEN_DRUMSTICKS_SKIN_ON - Empty DataFrame\n",
      "Columns: [userid, productname, ds, y]\n",
      "Index: []\n",
      "Not enough data to evaluate CHICKEN_DRUMSTICKS_SKIN_ON.\n",
      "CHICKEN_FRIED_RICE_WITH_CHOP_SUEY - Empty DataFrame\n",
      "Columns: [userid, productname, ds, y]\n",
      "Index: []\n",
      "Not enough data to evaluate CHICKEN_FRIED_RICE_WITH_CHOP_SUEY.\n",
      "CHICKEN_FULL_BREAST_SKINLESS - Empty DataFrame\n",
      "Columns: [userid, productname, ds, y]\n",
      "Index: []\n",
      "Not enough data to evaluate CHICKEN_FULL_BREAST_SKINLESS.\n",
      "CHICKEN_KOCHCHI_BITE_HOT_DOG - Empty DataFrame\n",
      "Columns: [userid, productname, ds, y]\n",
      "Index: []\n",
      "Not enough data to evaluate CHICKEN_KOCHCHI_BITE_HOT_DOG.\n",
      "CHICKEN_LASAGNA - Empty DataFrame\n",
      "Columns: [userid, productname, ds, y]\n",
      "Index: []\n",
      "Not enough data to evaluate CHICKEN_LASAGNA.\n",
      "CHICKEN_NECK - Empty DataFrame\n",
      "Columns: [userid, productname, ds, y]\n",
      "Index: []\n",
      "Not enough data to evaluate CHICKEN_NECK.\n",
      "CHICKEN_SAMOSA - Empty DataFrame\n",
      "Columns: [userid, productname, ds, y]\n",
      "Index: []\n",
      "Not enough data to evaluate CHICKEN_SAMOSA.\n",
      "CHICKEN_SANDWICH_BAGUETTE - Empty DataFrame\n",
      "Columns: [userid, productname, ds, y]\n",
      "Index: []\n",
      "Not enough data to evaluate CHICKEN_SANDWICH_BAGUETTE.\n",
      "CHICKEN_THIGH_SKINLESS - Empty DataFrame\n",
      "Columns: [userid, productname, ds, y]\n",
      "Index: []\n",
      "Not enough data to evaluate CHICKEN_THIGH_SKINLESS.\n",
      "CHILLED_PIZZA_LARGE___ROAST_CHICKEN - Empty DataFrame\n",
      "Columns: [userid, productname, ds, y]\n",
      "Index: []\n",
      "Not enough data to evaluate CHILLED_PIZZA_LARGE___ROAST_CHICKEN.\n",
      "CHILLED_PIZZA_LARGE___TANDOORI_CHICKEN - Empty DataFrame\n",
      "Columns: [userid, productname, ds, y]\n",
      "Index: []\n",
      "Not enough data to evaluate CHILLED_PIZZA_LARGE___TANDOORI_CHICKEN.\n",
      "CIC_BASMATHI_RICE_BULK - Empty DataFrame\n",
      "Columns: [userid, productname, ds, y]\n",
      "Index: []\n",
      "Not enough data to evaluate CIC_BASMATHI_RICE_BULK.\n",
      "CIC_FARM_FRESH_CURD_800ML - Empty DataFrame\n",
      "Columns: [userid, productname, ds, y]\n",
      "Index: []\n",
      "Not enough data to evaluate CIC_FARM_FRESH_CURD_800ML.\n",
      "CIC_PRE_CUT_WHOLE_CHICKEN_SKINLESS - Empty DataFrame\n",
      "Columns: [userid, productname, ds, y]\n",
      "Index: []\n",
      "Not enough data to evaluate CIC_PRE_CUT_WHOLE_CHICKEN_SKINLESS.\n",
      "CIC_SKIN_LESS_WHOLE_CHICKEN - Empty DataFrame\n",
      "Columns: [userid, productname, ds, y]\n",
      "Index: []\n",
      "Not enough data to evaluate CIC_SKIN_LESS_WHOLE_CHICKEN.\n",
      "CLOGARD_FRESH_GEL_TOOTHPASTE_MINT_40G - Empty DataFrame\n",
      "Columns: [userid, productname, ds, y]\n",
      "Index: []\n",
      "Not enough data to evaluate CLOGARD_FRESH_GEL_TOOTHPASTE_MINT_40G.\n",
      "CLOGARD_FRESH_GEL_T_P_LEMONGRASS_120G - Empty DataFrame\n",
      "Columns: [userid, productname, ds, y]\n",
      "Index: []\n",
      "Not enough data to evaluate CLOGARD_FRESH_GEL_T_P_LEMONGRASS_120G.\n",
      "CLOGARD_FRESH_MINT_NS_TOOTH_PASTE_70G - Empty DataFrame\n",
      "Columns: [userid, productname, ds, y]\n",
      "Index: []\n",
      "Not enough data to evaluate CLOGARD_FRESH_MINT_NS_TOOTH_PASTE_70G.\n",
      "CLOGARD_FRESH_T_P_GEL_MINT_120G - Empty DataFrame\n",
      "Columns: [userid, productname, ds, y]\n",
      "Index: []\n",
      "Not enough data to evaluate CLOGARD_FRESH_T_P_GEL_MINT_120G.\n",
      "CLOGARD_SMART_PLUS_TOOTHBRUSH - Empty DataFrame\n",
      "Columns: [userid, productname, ds, y]\n",
      "Index: []\n",
      "Not enough data to evaluate CLOGARD_SMART_PLUS_TOOTHBRUSH.\n",
      "COCA_COLA_BOTTLE_400ML - Empty DataFrame\n",
      "Columns: [userid, productname, ds, y]\n",
      "Index: []\n",
      "Not enough data to evaluate COCA_COLA_BOTTLE_400ML.\n",
      "COCONUT -        userid productname         ds  y\n",
      "277         1     COCONUT 2022-01-08  4\n",
      "278         1     COCONUT 2022-06-14  4\n",
      "279         1     COCONUT 2022-11-28  3\n",
      "280         1     COCONUT 2023-04-18  4\n",
      "1828        2     COCONUT 2022-02-01  3\n",
      "...       ...         ...        ... ..\n",
      "76963      49     COCONUT 2023-10-22  4\n",
      "78513      50     COCONUT 2022-06-06  3\n",
      "78514      50     COCONUT 2023-03-24  3\n",
      "78515      50     COCONUT 2023-04-22  3\n",
      "78516      50     COCONUT 2023-10-12  2\n",
      "\n",
      "[178 rows x 4 columns]\n",
      "No overlapping data for forecast and test data for COCONUT.\n",
      "COLMANS_N_COCONUT_WATER_VINEGR_350ML - Empty DataFrame\n",
      "Columns: [userid, productname, ds, y]\n",
      "Index: []\n",
      "Not enough data to evaluate COLMANS_N_COCONUT_WATER_VINEGR_350ML.\n",
      "CRESCENT_CHICKEN_KOCHCHI_BITE_14_PCS - Empty DataFrame\n",
      "Columns: [userid, productname, ds, y]\n",
      "Index: []\n",
      "Not enough data to evaluate CRESCENT_CHICKEN_KOCHCHI_BITE_14_PCS.\n",
      "CUCUMBER -        userid productname         ds  y\n",
      "283         1    CUCUMBER 2022-12-17  4\n",
      "284         1    CUCUMBER 2023-05-13  2\n",
      "285         1    CUCUMBER 2023-06-29  3\n",
      "1836        2    CUCUMBER 2022-02-26  1\n",
      "1837        2    CUCUMBER 2022-03-22  3\n",
      "...       ...         ...        ... ..\n",
      "76972      49    CUCUMBER 2022-09-15  3\n",
      "76973      49    CUCUMBER 2022-12-15  4\n",
      "76974      49    CUCUMBER 2022-12-17  3\n",
      "76975      49    CUCUMBER 2023-01-11  1\n",
      "76976      49    CUCUMBER 2023-12-20  2\n",
      "\n",
      "[143 rows x 4 columns]\n",
      "No overlapping data for forecast and test data for CUCUMBER.\n",
      "DATE_CROWN_DATES_KHALAS_THERMO_250G - Empty DataFrame\n",
      "Columns: [userid, productname, ds, y]\n",
      "Index: []\n",
      "Not enough data to evaluate DATE_CROWN_DATES_KHALAS_THERMO_250G.\n",
      "DELMEGE_SOYA_MEAT_MUTTON_90G - Empty DataFrame\n",
      "Columns: [userid, productname, ds, y]\n",
      "Index: []\n",
      "Not enough data to evaluate DELMEGE_SOYA_MEAT_MUTTON_90G.\n",
      "DETTOL_SOAP_ORIGINAL_100G - Empty DataFrame\n",
      "Columns: [userid, productname, ds, y]\n",
      "Index: []\n",
      "Not enough data to evaluate DETTOL_SOAP_ORIGINAL_100G.\n",
      "DIABETASOL_NUTRI_POWDER_VANILLA_180G - Empty DataFrame\n",
      "Columns: [userid, productname, ds, y]\n",
      "Index: []\n",
      "Not enough data to evaluate DIABETASOL_NUTRI_POWDER_VANILLA_180G.\n",
      "DIMO_12W_DAY_PIN_BUY_2_SAVE_300 - Empty DataFrame\n",
      "Columns: [userid, productname, ds, y]\n",
      "Index: []\n",
      "Not enough data to evaluate DIMO_12W_DAY_PIN_BUY_2_SAVE_300.\n",
      "DIMO_LUMIN_LED_7W_DAY_PIN - Empty DataFrame\n",
      "Columns: [userid, productname, ds, y]\n",
      "Index: []\n",
      "Not enough data to evaluate DIMO_LUMIN_LED_7W_DAY_PIN.\n",
      "DIVA_PWER_C_GUARD_L_DETERGENT_600MLG - Empty DataFrame\n",
      "Columns: [userid, productname, ds, y]\n",
      "Index: []\n",
      "Not enough data to evaluate DIVA_PWER_C_GUARD_L_DETERGENT_600MLG.\n",
      "DOUBLEACE_SUPER_SCRUBBER - Empty DataFrame\n",
      "Columns: [userid, productname, ds, y]\n",
      "Index: []\n",
      "Not enough data to evaluate DOUBLEACE_SUPER_SCRUBBER.\n",
      "DOVE_CONDITIONER_OXYGEN_MOISTU_180ML - Empty DataFrame\n",
      "Columns: [userid, productname, ds, y]\n",
      "Index: []\n",
      "Not enough data to evaluate DOVE_CONDITIONER_OXYGEN_MOISTU_180ML.\n",
      "DOVE_DANDRUFF_CARE_CONDITIONER_180ML - Empty DataFrame\n",
      "Columns: [userid, productname, ds, y]\n",
      "Index: []\n",
      "Not enough data to evaluate DOVE_DANDRUFF_CARE_CONDITIONER_180ML.\n",
      "DOVE_DANDRUFF_CARE_SHAMPOO_180ML - Empty DataFrame\n",
      "Columns: [userid, productname, ds, y]\n",
      "Index: []\n",
      "Not enough data to evaluate DOVE_DANDRUFF_CARE_SHAMPOO_180ML.\n",
      "DOVE_HEALTHY_RITUAL_GROW_SHAMP_180ML - Empty DataFrame\n",
      "Columns: [userid, productname, ds, y]\n",
      "Index: []\n",
      "Not enough data to evaluate DOVE_HEALTHY_RITUAL_GROW_SHAMP_180ML.\n",
      "DOVE_SHAMPO_OXYGEN_MOISTURE_180ML - Empty DataFrame\n",
      "Columns: [userid, productname, ds, y]\n",
      "Index: []\n",
      "Not enough data to evaluate DOVE_SHAMPO_OXYGEN_MOISTURE_180ML.\n",
      "EDINBOROUGH_GARLIC_MAYONNAISE_170G - Empty DataFrame\n",
      "Columns: [userid, productname, ds, y]\n",
      "Index: []\n",
      "Not enough data to evaluate EDINBOROUGH_GARLIC_MAYONNAISE_170G.\n",
      "EDINBOROUGH_SOY_SAUCE_SQU__385G - Empty DataFrame\n",
      "Columns: [userid, productname, ds, y]\n",
      "Index: []\n",
      "Not enough data to evaluate EDINBOROUGH_SOY_SAUCE_SQU__385G.\n",
      "EGG_PLANTS - Empty DataFrame\n",
      "Columns: [userid, productname, ds, y]\n",
      "Index: []\n",
      "Not enough data to evaluate EGG_PLANTS.\n",
      "EH_GINGER_BEER_1_5L - Empty DataFrame\n",
      "Columns: [userid, productname, ds, y]\n",
      "Index: []\n",
      "Not enough data to evaluate EH_GINGER_BEER_1_5L.\n",
      "EH_GINGER_BEER_500ML - Empty DataFrame\n",
      "Columns: [userid, productname, ds, y]\n",
      "Index: []\n",
      "Not enough data to evaluate EH_GINGER_BEER_500ML.\n",
      "EH_I_C_FRUIT___NUT_TUB_80ML - Empty DataFrame\n",
      "Columns: [userid, productname, ds, y]\n",
      "Index: []\n",
      "Not enough data to evaluate EH_I_C_FRUIT___NUT_TUB_80ML.\n",
      "EH_I_C_PANI_CADJU_TUB_80ML - Empty DataFrame\n",
      "Columns: [userid, productname, ds, y]\n",
      "Index: []\n",
      "Not enough data to evaluate EH_I_C_PANI_CADJU_TUB_80ML.\n",
      "EH_LEMONADE_1L - Empty DataFrame\n",
      "Columns: [userid, productname, ds, y]\n",
      "Index: []\n",
      "Not enough data to evaluate EH_LEMONADE_1L.\n",
      "EH_LEMONADE_1_5L - Empty DataFrame\n",
      "Columns: [userid, productname, ds, y]\n",
      "Index: []\n",
      "Not enough data to evaluate EH_LEMONADE_1_5L.\n",
      "EH_STRAWBERRY_MILK_190ML - Empty DataFrame\n",
      "Columns: [userid, productname, ds, y]\n",
      "Index: []\n",
      "Not enough data to evaluate EH_STRAWBERRY_MILK_190ML.\n",
      "EH_TWISTEE_APPLE_200ML - Empty DataFrame\n",
      "Columns: [userid, productname, ds, y]\n",
      "Index: []\n",
      "Not enough data to evaluate EH_TWISTEE_APPLE_200ML.\n",
      "ELECTRICAL_INSULATING_TAPE_2INCH - Empty DataFrame\n",
      "Columns: [userid, productname, ds, y]\n",
      "Index: []\n",
      "Not enough data to evaluate ELECTRICAL_INSULATING_TAPE_2INCH.\n",
      "ELEGANT_NON_MEDICAL_KN95_FACE_MASK - Empty DataFrame\n",
      "Columns: [userid, productname, ds, y]\n",
      "Index: []\n",
      "Not enough data to evaluate ELEGANT_NON_MEDICAL_KN95_FACE_MASK.\n",
      "ELEPHANT_PAPADAM_60G - Empty DataFrame\n",
      "Columns: [userid, productname, ds, y]\n",
      "Index: []\n",
      "Not enough data to evaluate ELEPHANT_PAPADAM_60G.\n",
      "ENCHANTEUR_EDC_SENSATIONAL_100ML - Empty DataFrame\n",
      "Columns: [userid, productname, ds, y]\n",
      "Index: []\n",
      "Not enough data to evaluate ENCHANTEUR_EDC_SENSATIONAL_100ML.\n",
      "EVANGELINE_HOLY_EDP_PERFUME_60ML - Empty DataFrame\n",
      "Columns: [userid, productname, ds, y]\n",
      "Index: []\n",
      "Not enough data to evaluate EVANGELINE_HOLY_EDP_PERFUME_60ML.\n",
      "EVA_COTTON_FEEL_WINGS_16 - Empty DataFrame\n",
      "Columns: [userid, productname, ds, y]\n",
      "Index: []\n",
      "Not enough data to evaluate EVA_COTTON_FEEL_WINGS_16.\n",
      "EVA_PADS_DRITEX_WINGS_10S - Empty DataFrame\n",
      "Columns: [userid, productname, ds, y]\n",
      "Index: []\n",
      "Not enough data to evaluate EVA_PADS_DRITEX_WINGS_10S.\n",
      "EVA_SANITARY_NAPKINS_DRYTEX_WINGS_16S - Empty DataFrame\n",
      "Columns: [userid, productname, ds, y]\n",
      "Index: []\n",
      "Not enough data to evaluate EVA_SANITARY_NAPKINS_DRYTEX_WINGS_16S.\n",
      "FADNA_TUMMY_TEA_15S_30G - Empty DataFrame\n",
      "Columns: [userid, productname, ds, y]\n",
      "Index: []\n",
      "Not enough data to evaluate FADNA_TUMMY_TEA_15S_30G.\n",
      "FALUDA -        userid productname         ds  y\n",
      "387         1      FALUDA 2022-06-20  4\n",
      "388         1      FALUDA 2023-03-10  2\n",
      "389         1      FALUDA 2023-07-24  2\n",
      "390         1      FALUDA 2023-08-05  4\n",
      "391         1      FALUDA 2023-09-01  1\n",
      "...       ...         ...        ... ..\n",
      "77084      49      FALUDA 2022-01-28  4\n",
      "77085      49      FALUDA 2023-03-02  3\n",
      "77086      49      FALUDA 2023-06-28  1\n",
      "78633      50      FALUDA 2022-08-20  2\n",
      "78634      50      FALUDA 2023-06-22  3\n",
      "\n",
      "[188 rows x 4 columns]\n",
      "No overlapping data for forecast and test data for FALUDA.\n",
      "FANTA_PORTELLO_BOTTLE_400ML - Empty DataFrame\n",
      "Columns: [userid, productname, ds, y]\n",
      "Index: []\n",
      "Not enough data to evaluate FANTA_PORTELLO_BOTTLE_400ML.\n",
      "FINAGLE_CRUST_TOP_BREAD_400G - Empty DataFrame\n",
      "Columns: [userid, productname, ds, y]\n",
      "Index: []\n",
      "Not enough data to evaluate FINAGLE_CRUST_TOP_BREAD_400G.\n",
      "FINAGLE_SANDWICH_BREAD_500G - Empty DataFrame\n",
      "Columns: [userid, productname, ds, y]\n",
      "Index: []\n",
      "Not enough data to evaluate FINAGLE_SANDWICH_BREAD_500G.\n",
      "FINEX_FACIAL_TISSUES_100_SHEETS - Empty DataFrame\n",
      "Columns: [userid, productname, ds, y]\n",
      "Index: []\n",
      "Not enough data to evaluate FINEX_FACIAL_TISSUES_100_SHEETS.\n",
      "FISH_ROLL - Empty DataFrame\n",
      "Columns: [userid, productname, ds, y]\n",
      "Index: []\n",
      "Not enough data to evaluate FISH_ROLL.\n",
      "FISH_SALAD_TWIST - Empty DataFrame\n",
      "Columns: [userid, productname, ds, y]\n",
      "Index: []\n",
      "Not enough data to evaluate FISH_SALAD_TWIST.\n",
      "FLORA_FACIAL_TISSUES_BOX_100S - Empty DataFrame\n",
      "Columns: [userid, productname, ds, y]\n",
      "Index: []\n",
      "Not enough data to evaluate FLORA_FACIAL_TISSUES_BOX_100S.\n",
      "FLORA_FACIAL_TISSUES_BOX_50S - Empty DataFrame\n",
      "Columns: [userid, productname, ds, y]\n",
      "Index: []\n",
      "Not enough data to evaluate FLORA_FACIAL_TISSUES_BOX_50S.\n",
      "FLORA_FACIAL_TISSUE_BOX_70S - Empty DataFrame\n",
      "Columns: [userid, productname, ds, y]\n",
      "Index: []\n",
      "Not enough data to evaluate FLORA_FACIAL_TISSUE_BOX_70S.\n",
      "FLORA_PAPER_SERVIETTES_1_PLY_25S - Empty DataFrame\n",
      "Columns: [userid, productname, ds, y]\n",
      "Index: []\n",
      "Not enough data to evaluate FLORA_PAPER_SERVIETTES_1_PLY_25S.\n",
      "FLORA_PAPER_SERVIETTES_WHI_2_PLY_50S - Empty DataFrame\n",
      "Columns: [userid, productname, ds, y]\n",
      "Index: []\n",
      "Not enough data to evaluate FLORA_PAPER_SERVIETTES_WHI_2_PLY_50S.\n",
      "FLORA_TOOTH_PICKS_PLASTIC_JAR_200S - Empty DataFrame\n",
      "Columns: [userid, productname, ds, y]\n",
      "Index: []\n",
      "Not enough data to evaluate FLORA_TOOTH_PICKS_PLASTIC_JAR_200S.\n",
      "FOGG_B_SPRAY_PARADISE___WOMEN_120ML - Empty DataFrame\n",
      "Columns: [userid, productname, ds, y]\n",
      "Index: []\n",
      "Not enough data to evaluate FOGG_B_SPRAY_PARADISE___WOMEN_120ML.\n",
      "FORTUNE_COCONUT_OIL_500ML - Empty DataFrame\n",
      "Columns: [userid, productname, ds, y]\n",
      "Index: []\n",
      "Not enough data to evaluate FORTUNE_COCONUT_OIL_500ML.\n",
      "FREELAN_MEAT_CURRY_POWDER_100G - Empty DataFrame\n",
      "Columns: [userid, productname, ds, y]\n",
      "Index: []\n",
      "Not enough data to evaluate FREELAN_MEAT_CURRY_POWDER_100G.\n",
      "FRESH_LEAF_CHOPPED_MUKUNUWENNA_150G - Empty DataFrame\n",
      "Columns: [userid, productname, ds, y]\n",
      "Index: []\n",
      "Not enough data to evaluate FRESH_LEAF_CHOPPED_MUKUNUWENNA_150G.\n",
      "GARLIC -        userid productname         ds  y\n",
      "447         1      GARLIC 2022-03-11  3\n",
      "448         1      GARLIC 2022-03-31  1\n",
      "449         1      GARLIC 2022-04-25  1\n",
      "450         1      GARLIC 2022-05-13  3\n",
      "451         1      GARLIC 2022-05-25  2\n",
      "...       ...         ...        ... ..\n",
      "78684      50      GARLIC 2022-04-01  4\n",
      "78685      50      GARLIC 2022-09-14  4\n",
      "78686      50      GARLIC 2023-03-31  4\n",
      "78687      50      GARLIC 2023-07-02  4\n",
      "78688      50      GARLIC 2023-08-14  4\n",
      "\n",
      "[201 rows x 4 columns]\n",
      "GILLETTE_BLUE_11_PLUS_SINGLES - Empty DataFrame\n",
      "Columns: [userid, productname, ds, y]\n",
      "Index: []\n",
      "Not enough data to evaluate GILLETTE_BLUE_11_PLUS_SINGLES.\n",
      "GINGER -        userid productname         ds  y\n",
      "458         1      GINGER 2022-01-16  4\n",
      "459         1      GINGER 2022-10-31  4\n",
      "460         1      GINGER 2023-03-03  2\n",
      "461         1      GINGER 2023-11-09  2\n",
      "2022        2      GINGER 2022-05-18  1\n",
      "...       ...         ...        ... ..\n",
      "77147      49      GINGER 2023-12-04  4\n",
      "78692      50      GINGER 2023-02-06  1\n",
      "78693      50      GINGER 2023-06-03  3\n",
      "78694      50      GINGER 2023-07-13  1\n",
      "78695      50      GINGER 2023-09-02  3\n",
      "\n",
      "[210 rows x 4 columns]\n",
      "No overlapping data for forecast and test data for GINGER.\n",
      "GLOBLE_GREEN_ORGANIC_OYS_MUSHRM_200G - Empty DataFrame\n",
      "Columns: [userid, productname, ds, y]\n",
      "Index: []\n",
      "Not enough data to evaluate GLOBLE_GREEN_ORGANIC_OYS_MUSHRM_200G.\n",
      "GOLDI_CHICKEN_SAUSAGE_SUPEME_250G - Empty DataFrame\n",
      "Columns: [userid, productname, ds, y]\n",
      "Index: []\n",
      "Not enough data to evaluate GOLDI_CHICKEN_SAUSAGE_SUPEME_250G.\n",
      "GOLDI_CHICKEN_SAUSAGE_SUPEME_500G - Empty DataFrame\n",
      "Columns: [userid, productname, ds, y]\n",
      "Index: []\n",
      "Not enough data to evaluate GOLDI_CHICKEN_SAUSAGE_SUPEME_500G.\n",
      "GOVI_ARUNA_CHILLI_POWDER_100G - Empty DataFrame\n",
      "Columns: [userid, productname, ds, y]\n",
      "Index: []\n",
      "Not enough data to evaluate GOVI_ARUNA_CHILLI_POWDER_100G.\n",
      "GRAPES___RED - Empty DataFrame\n",
      "Columns: [userid, productname, ds, y]\n",
      "Index: []\n",
      "Not enough data to evaluate GRAPES___RED.\n",
      "GREEN_BEANS - Empty DataFrame\n",
      "Columns: [userid, productname, ds, y]\n",
      "Index: []\n",
      "Not enough data to evaluate GREEN_BEANS.\n",
      "GREEN_CHILIES - Empty DataFrame\n",
      "Columns: [userid, productname, ds, y]\n",
      "Index: []\n",
      "Not enough data to evaluate GREEN_CHILIES.\n",
      "GW_FRESH_QUAIL_EGGS_110G - Empty DataFrame\n",
      "Columns: [userid, productname, ds, y]\n",
      "Index: []\n",
      "Not enough data to evaluate GW_FRESH_QUAIL_EGGS_110G.\n",
      "HAPPY_DENT_CHEWING_GUM_MINT_WHITE_10_2G - Empty DataFrame\n",
      "Columns: [userid, productname, ds, y]\n",
      "Index: []\n",
      "Not enough data to evaluate HAPPY_DENT_CHEWING_GUM_MINT_WHITE_10_2G.\n",
      "HAPPY_HEN_BROWN_EGG_LARGE_10S - Empty DataFrame\n",
      "Columns: [userid, productname, ds, y]\n",
      "Index: []\n",
      "Not enough data to evaluate HAPPY_HEN_BROWN_EGG_LARGE_10S.\n",
      "HARISCHANDRA_MASALA_PAPPADAM_70G - Empty DataFrame\n",
      "Columns: [userid, productname, ds, y]\n",
      "Index: []\n",
      "Not enough data to evaluate HARISCHANDRA_MASALA_PAPPADAM_70G.\n",
      "HARISCHANDRA_NOODLES_400G - Empty DataFrame\n",
      "Columns: [userid, productname, ds, y]\n",
      "Index: []\n",
      "Not enough data to evaluate HARISCHANDRA_NOODLES_400G.\n",
      "HARISCHANDRA_PAPADAM_70G - Empty DataFrame\n",
      "Columns: [userid, productname, ds, y]\n",
      "Index: []\n",
      "Not enough data to evaluate HARISCHANDRA_PAPADAM_70G.\n",
      "HARISCHANDRA_PLAIN_NOODLES_400G - Empty DataFrame\n",
      "Columns: [userid, productname, ds, y]\n",
      "Index: []\n",
      "Not enough data to evaluate HARISCHANDRA_PLAIN_NOODLES_400G.\n",
      "HIGHLAND_YOGHURT_SET_PLAIN_80G - Empty DataFrame\n",
      "Columns: [userid, productname, ds, y]\n",
      "Index: []\n",
      "Not enough data to evaluate HIGHLAND_YOGHURT_SET_PLAIN_80G.\n",
      "IMORICH_BLACK_FOREST_CONE_120ML - Empty DataFrame\n",
      "Columns: [userid, productname, ds, y]\n",
      "Index: []\n",
      "Not enough data to evaluate IMORICH_BLACK_FOREST_CONE_120ML.\n",
      "IMORICH_COOKIE_CREAM_CONE_120ML - Empty DataFrame\n",
      "Columns: [userid, productname, ds, y]\n",
      "Index: []\n",
      "Not enough data to evaluate IMORICH_COOKIE_CREAM_CONE_120ML.\n",
      "IRESHA_MASALA_REMIX_PAPADAM_60G - Empty DataFrame\n",
      "Columns: [userid, productname, ds, y]\n",
      "Index: []\n",
      "Not enough data to evaluate IRESHA_MASALA_REMIX_PAPADAM_60G.\n",
      "ISLAND_COFFEE_VANILA_100G - Empty DataFrame\n",
      "Columns: [userid, productname, ds, y]\n",
      "Index: []\n",
      "Not enough data to evaluate ISLAND_COFFEE_VANILA_100G.\n",
      "JIGGLES_B_RRY_BITES_GUMMIES_25G - Empty DataFrame\n",
      "Columns: [userid, productname, ds, y]\n",
      "Index: []\n",
      "Not enough data to evaluate JIGGLES_B_RRY_BITES_GUMMIES_25G.\n",
      "KANDAWATTA_CURD_900_ml - Empty DataFrame\n",
      "Columns: [userid, productname, ds, y]\n",
      "Index: []\n",
      "Not enough data to evaluate KANDAWATTA_CURD_900_ml.\n",
      "KANDOS_BAR_CASHEW_NUT_45G - Empty DataFrame\n",
      "Columns: [userid, productname, ds, y]\n",
      "Index: []\n",
      "Not enough data to evaluate KANDOS_BAR_CASHEW_NUT_45G.\n",
      "KANDOS_CASHEWNUT_CHOCOLATE_45G - Empty DataFrame\n",
      "Columns: [userid, productname, ds, y]\n",
      "Index: []\n",
      "Not enough data to evaluate KANDOS_CASHEWNUT_CHOCOLATE_45G.\n",
      "KANDOS_CHOCOLATE_COATED_CHOCONUT_115G - Empty DataFrame\n",
      "Columns: [userid, productname, ds, y]\n",
      "Index: []\n",
      "Not enough data to evaluate KANDOS_CHOCOLATE_COATED_CHOCONUT_115G.\n",
      "KANDOS_CHOCONUTS_65G - Empty DataFrame\n",
      "Columns: [userid, productname, ds, y]\n",
      "Index: []\n",
      "Not enough data to evaluate KANDOS_CHOCONUTS_65G.\n",
      "KANDOS_COCOMATE_100G - Empty DataFrame\n",
      "Columns: [userid, productname, ds, y]\n",
      "Index: []\n",
      "Not enough data to evaluate KANDOS_COCOMATE_100G.\n",
      "KANDOS_LARGE_CASHEWNUT_CHOCO_100G - Empty DataFrame\n",
      "Columns: [userid, productname, ds, y]\n",
      "Index: []\n",
      "Not enough data to evaluate KANDOS_LARGE_CASHEWNUT_CHOCO_100G.\n",
      "KANDOS_STD_NUT_MILK_CHOCOCOLATE_30G - Empty DataFrame\n",
      "Columns: [userid, productname, ds, y]\n",
      "Index: []\n",
      "Not enough data to evaluate KANDOS_STD_NUT_MILK_CHOCOCOLATE_30G.\n",
      "KEELLS_BAG_LARGE - Empty DataFrame\n",
      "Columns: [userid, productname, ds, y]\n",
      "Index: []\n",
      "Not enough data to evaluate KEELLS_BAG_LARGE.\n",
      "KEELLS_CHICKEN_STOCK_POWDER_100G - Empty DataFrame\n",
      "Columns: [userid, productname, ds, y]\n",
      "Index: []\n",
      "Not enough data to evaluate KEELLS_CHICKEN_STOCK_POWDER_100G.\n",
      "KEELLS_CHICK_PEAS_500G - Empty DataFrame\n",
      "Columns: [userid, productname, ds, y]\n",
      "Index: []\n",
      "Not enough data to evaluate KEELLS_CHICK_PEAS_500G.\n",
      "KEELLS_CHILLIE_PIECES_100G - Empty DataFrame\n",
      "Columns: [userid, productname, ds, y]\n",
      "Index: []\n",
      "Not enough data to evaluate KEELLS_CHILLIE_PIECES_100G.\n",
      "KEELLS_CHILLIE_POWDER_100G - Empty DataFrame\n",
      "Columns: [userid, productname, ds, y]\n",
      "Index: []\n",
      "Not enough data to evaluate KEELLS_CHILLIE_POWDER_100G.\n",
      "KEELLS_CINNAMON_STICKS_25G - Empty DataFrame\n",
      "Columns: [userid, productname, ds, y]\n",
      "Index: []\n",
      "Not enough data to evaluate KEELLS_CINNAMON_STICKS_25G.\n",
      "KEELLS_COMPOSTABLE_LUNCH_SHEETS_50S - Empty DataFrame\n",
      "Columns: [userid, productname, ds, y]\n",
      "Index: []\n",
      "Not enough data to evaluate KEELLS_COMPOSTABLE_LUNCH_SHEETS_50S.\n",
      "KEELLS_CREAM_BUN_2S - Empty DataFrame\n",
      "Columns: [userid, productname, ds, y]\n",
      "Index: []\n",
      "Not enough data to evaluate KEELLS_CREAM_BUN_2S.\n",
      "KEELLS_CRYSTAL_SALT_1KG - Empty DataFrame\n",
      "Columns: [userid, productname, ds, y]\n",
      "Index: []\n",
      "Not enough data to evaluate KEELLS_CRYSTAL_SALT_1KG.\n",
      "KEELLS_CURRY_POWDER_ROASTED_100G - Empty DataFrame\n",
      "Columns: [userid, productname, ds, y]\n",
      "Index: []\n",
      "Not enough data to evaluate KEELLS_CURRY_POWDER_ROASTED_100G.\n",
      "KEELLS_CUSTARD_CREAM_BISCUIT_100G - Empty DataFrame\n",
      "Columns: [userid, productname, ds, y]\n",
      "Index: []\n",
      "Not enough data to evaluate KEELLS_CUSTARD_CREAM_BISCUIT_100G.\n",
      "KEELLS_DILL_SEEDS_100G - Empty DataFrame\n",
      "Columns: [userid, productname, ds, y]\n",
      "Index: []\n",
      "Not enough data to evaluate KEELLS_DILL_SEEDS_100G.\n",
      "KEELLS_DISH_WASH_BAR_200G - Empty DataFrame\n",
      "Columns: [userid, productname, ds, y]\n",
      "Index: []\n",
      "Not enough data to evaluate KEELLS_DISH_WASH_BAR_200G.\n",
      "KEELLS_FRIED_RICE_MIX_50G - Empty DataFrame\n",
      "Columns: [userid, productname, ds, y]\n",
      "Index: []\n",
      "Not enough data to evaluate KEELLS_FRIED_RICE_MIX_50G.\n",
      "KEELLS_LUNCH_BOX - Empty DataFrame\n",
      "Columns: [userid, productname, ds, y]\n",
      "Index: []\n",
      "Not enough data to evaluate KEELLS_LUNCH_BOX.\n",
      "KEELLS_MALDIVE_FISH_100G - Empty DataFrame\n",
      "Columns: [userid, productname, ds, y]\n",
      "Index: []\n",
      "Not enough data to evaluate KEELLS_MALDIVE_FISH_100G.\n",
      "KEELLS_NUMERAL_BDAY_CANDLE_RED___2 - Empty DataFrame\n",
      "Columns: [userid, productname, ds, y]\n",
      "Index: []\n",
      "Not enough data to evaluate KEELLS_NUMERAL_BDAY_CANDLE_RED___2.\n",
      "KEELLS_NUMERAL_BDAY_CANDLE_RED___5 - Empty DataFrame\n",
      "Columns: [userid, productname, ds, y]\n",
      "Index: []\n",
      "Not enough data to evaluate KEELLS_NUMERAL_BDAY_CANDLE_RED___5.\n",
      "KEELLS_PASTA_ROTELLE_400G - Empty DataFrame\n",
      "Columns: [userid, productname, ds, y]\n",
      "Index: []\n",
      "Not enough data to evaluate KEELLS_PASTA_ROTELLE_400G.\n",
      "KEELLS_PEPPER_POWDER_100G - Empty DataFrame\n",
      "Columns: [userid, productname, ds, y]\n",
      "Index: []\n",
      "Not enough data to evaluate KEELLS_PEPPER_POWDER_100G.\n",
      "KEELLS_RAW_CURRY_POWDER_RAW_100G - Empty DataFrame\n",
      "Columns: [userid, productname, ds, y]\n",
      "Index: []\n",
      "Not enough data to evaluate KEELLS_RAW_CURRY_POWDER_RAW_100G.\n",
      "KEELLS_RED_DHALL_1KG - Empty DataFrame\n",
      "Columns: [userid, productname, ds, y]\n",
      "Index: []\n",
      "Not enough data to evaluate KEELLS_RED_DHALL_1KG.\n",
      "KEELLS_RED_DHALL_500G - Empty DataFrame\n",
      "Columns: [userid, productname, ds, y]\n",
      "Index: []\n",
      "Not enough data to evaluate KEELLS_RED_DHALL_500G.\n",
      "KEELLS_SAGO_250G - Empty DataFrame\n",
      "Columns: [userid, productname, ds, y]\n",
      "Index: []\n",
      "Not enough data to evaluate KEELLS_SAGO_250G.\n",
      "KEELLS_SOYA_MEAT_CHICKEN_90G - Empty DataFrame\n",
      "Columns: [userid, productname, ds, y]\n",
      "Index: []\n",
      "Not enough data to evaluate KEELLS_SOYA_MEAT_CHICKEN_90G.\n",
      "KEELLS_SPONGE_SCRUBBER_SMALL - Empty DataFrame\n",
      "Columns: [userid, productname, ds, y]\n",
      "Index: []\n",
      "Not enough data to evaluate KEELLS_SPONGE_SCRUBBER_SMALL.\n",
      "KEELLS_SPORTS_BOTTLE_1000ML - Empty DataFrame\n",
      "Columns: [userid, productname, ds, y]\n",
      "Index: []\n",
      "Not enough data to evaluate KEELLS_SPORTS_BOTTLE_1000ML.\n",
      "KEELLS_TABLE_SALT_400G - Empty DataFrame\n",
      "Columns: [userid, productname, ds, y]\n",
      "Index: []\n",
      "Not enough data to evaluate KEELLS_TABLE_SALT_400G.\n",
      "KEELLS_TURMERIC_POWDER_100G - Empty DataFrame\n",
      "Columns: [userid, productname, ds, y]\n",
      "Index: []\n",
      "Not enough data to evaluate KEELLS_TURMERIC_POWDER_100G.\n",
      "KEELLS_T_BOWL_CLEANER_PINE_500ML - Empty DataFrame\n",
      "Columns: [userid, productname, ds, y]\n",
      "Index: []\n",
      "Not enough data to evaluate KEELLS_T_BOWL_CLEANER_PINE_500ML.\n",
      "KEELLS_WAFERS_CHOCOLATE_100G - Empty DataFrame\n",
      "Columns: [userid, productname, ds, y]\n",
      "Index: []\n",
      "Not enough data to evaluate KEELLS_WAFERS_CHOCOLATE_100G.\n",
      "KEELLS_WATTALAPPAN_80G - Empty DataFrame\n",
      "Columns: [userid, productname, ds, y]\n",
      "Index: []\n",
      "Not enough data to evaluate KEELLS_WATTALAPPAN_80G.\n",
      "KEELLS_WHEAT_FLOUR_1KG - Empty DataFrame\n",
      "Columns: [userid, productname, ds, y]\n",
      "Index: []\n",
      "Not enough data to evaluate KEELLS_WHEAT_FLOUR_1KG.\n",
      "KEELLS_WHITE_SUGAR_1KG - Empty DataFrame\n",
      "Columns: [userid, productname, ds, y]\n",
      "Index: []\n",
      "Not enough data to evaluate KEELLS_WHITE_SUGAR_1KG.\n",
      "KELLOGGS_C_FLAKES_SBERRY_FLV_300G - Empty DataFrame\n",
      "Columns: [userid, productname, ds, y]\n",
      "Index: []\n",
      "Not enough data to evaluate KELLOGGS_C_FLAKES_SBERRY_FLV_300G.\n",
      "KHOMBA_BABY_COLOGNE_VENIVEL_100ML - Empty DataFrame\n",
      "Columns: [userid, productname, ds, y]\n",
      "Index: []\n",
      "Not enough data to evaluate KHOMBA_BABY_COLOGNE_VENIVEL_100ML.\n",
      "KHOMBA_BABY_SOAP_AVOCADO_4_IN_1 - Empty DataFrame\n",
      "Columns: [userid, productname, ds, y]\n",
      "Index: []\n",
      "Not enough data to evaluate KHOMBA_BABY_SOAP_AVOCADO_4_IN_1.\n",
      "KIMBULA_BUN - Empty DataFrame\n",
      "Columns: [userid, productname, ds, y]\n",
      "Index: []\n",
      "Not enough data to evaluate KIMBULA_BUN.\n",
      "KIST_KITHUL_TREACLE_170ML - Empty DataFrame\n",
      "Columns: [userid, productname, ds, y]\n",
      "Index: []\n",
      "Not enough data to evaluate KIST_KITHUL_TREACLE_170ML.\n",
      "KIST_NECTAR_MANGO_200ML - Empty DataFrame\n",
      "Columns: [userid, productname, ds, y]\n",
      "Index: []\n",
      "Not enough data to evaluate KIST_NECTAR_MANGO_200ML.\n",
      "KIST_NECTAR_WOODAPPLE_200ML - Empty DataFrame\n",
      "Columns: [userid, productname, ds, y]\n",
      "Index: []\n",
      "Not enough data to evaluate KIST_NECTAR_WOODAPPLE_200ML.\n",
      "KIZZ_SPARKLING_APPLE_DRINK_215ML - Empty DataFrame\n",
      "Columns: [userid, productname, ds, y]\n",
      "Index: []\n",
      "Not enough data to evaluate KIZZ_SPARKLING_APPLE_DRINK_215ML.\n",
      "KNORR_SEASONING_CUBE_15_20G - Empty DataFrame\n",
      "Columns: [userid, productname, ds, y]\n",
      "Index: []\n",
      "Not enough data to evaluate KNORR_SEASONING_CUBE_15_20G.\n",
      "KNORR_SEASONING_CUBE_60G - Empty DataFrame\n",
      "Columns: [userid, productname, ds, y]\n",
      "Index: []\n",
      "Not enough data to evaluate KNORR_SEASONING_CUBE_60G.\n",
      "KOPPARA_MID_CUT - Empty DataFrame\n",
      "Columns: [userid, productname, ds, y]\n",
      "Index: []\n",
      "Not enough data to evaluate KOPPARA_MID_CUT.\n",
      "KOTMALE_BUTTER_SALTED_200G - Empty DataFrame\n",
      "Columns: [userid, productname, ds, y]\n",
      "Index: []\n",
      "Not enough data to evaluate KOTMALE_BUTTER_SALTED_200G.\n",
      "KOTMALE_LASSI_WITH_MANGO_PULP_180ML - Empty DataFrame\n",
      "Columns: [userid, productname, ds, y]\n",
      "Index: []\n",
      "Not enough data to evaluate KOTMALE_LASSI_WITH_MANGO_PULP_180ML.\n",
      "KOTMALE_OATS_MILK_180ML - Empty DataFrame\n",
      "Columns: [userid, productname, ds, y]\n",
      "Index: []\n",
      "Not enough data to evaluate KOTMALE_OATS_MILK_180ML.\n",
      "KREST_CHICKEN_SAUSAGES_S_LESS_500G - Empty DataFrame\n",
      "Columns: [userid, productname, ds, y]\n",
      "Index: []\n",
      "Not enough data to evaluate KREST_CHICKEN_SAUSAGES_S_LESS_500G.\n",
      "KREST_CHI_MEAT_BALL_KIRA_MIRI_200G - Empty DataFrame\n",
      "Columns: [userid, productname, ds, y]\n",
      "Index: []\n",
      "Not enough data to evaluate KREST_CHI_MEAT_BALL_KIRA_MIRI_200G.\n",
      "KREST_EZY_INSTANT_CHICKEN_RICE_95G - Empty DataFrame\n",
      "Columns: [userid, productname, ds, y]\n",
      "Index: []\n",
      "Not enough data to evaluate KREST_EZY_INSTANT_CHICKEN_RICE_95G.\n",
      "KREST_SOYA_MEAT_CHICKEN_90G - Empty DataFrame\n",
      "Columns: [userid, productname, ds, y]\n",
      "Index: []\n",
      "Not enough data to evaluate KREST_SOYA_MEAT_CHICKEN_90G.\n",
      "KUMARIKA_SHAMPOO_LONG___BLACK_180ML - Empty DataFrame\n",
      "Columns: [userid, productname, ds, y]\n",
      "Index: []\n",
      "Not enough data to evaluate KUMARIKA_SHAMPOO_LONG___BLACK_180ML.\n",
      "KUMBALAWA -        userid productname         ds  y\n",
      "733         1   KUMBALAWA 2022-04-27  5\n",
      "734         1   KUMBALAWA 2023-05-24  1\n",
      "2301        2   KUMBALAWA 2022-05-15  3\n",
      "3930        3   KUMBALAWA 2022-04-01  3\n",
      "3931        3   KUMBALAWA 2022-04-05  4\n",
      "...       ...         ...        ... ..\n",
      "77433      49   KUMBALAWA 2023-03-22  2\n",
      "78964      50   KUMBALAWA 2022-06-12  1\n",
      "78965      50   KUMBALAWA 2022-07-21  2\n",
      "78966      50   KUMBALAWA 2022-12-12  4\n",
      "78967      50   KUMBALAWA 2023-12-29  1\n",
      "\n",
      "[164 rows x 4 columns]\n",
      "No overlapping data for forecast and test data for KUMBALAWA.\n",
      "LADIES_FINGERS - Empty DataFrame\n",
      "Columns: [userid, productname, ds, y]\n",
      "Index: []\n",
      "Not enough data to evaluate LADIES_FINGERS.\n",
      "LANKA_SOY_CUTTLE_FISH_90G - Empty DataFrame\n",
      "Columns: [userid, productname, ds, y]\n",
      "Index: []\n",
      "Not enough data to evaluate LANKA_SOY_CUTTLE_FISH_90G.\n",
      "LANKA_SOY_MALU_CUTTLE_FISH_90G - Empty DataFrame\n",
      "Columns: [userid, productname, ds, y]\n",
      "Index: []\n",
      "Not enough data to evaluate LANKA_SOY_MALU_CUTTLE_FISH_90G.\n",
      "LANKA_SOY_SOYA_MEAT_MUTTON_90G - Empty DataFrame\n",
      "Columns: [userid, productname, ds, y]\n",
      "Index: []\n",
      "Not enough data to evaluate LANKA_SOY_SOYA_MEAT_MUTTON_90G.\n",
      "LANKA_SUMEDA_AIR_FRESHNER___RUBY_5G - Empty DataFrame\n",
      "Columns: [userid, productname, ds, y]\n",
      "Index: []\n",
      "Not enough data to evaluate LANKA_SUMEDA_AIR_FRESHNER___RUBY_5G.\n",
      "LANKA_S__INCENSE_STICKS_4_IN_1 - Empty DataFrame\n",
      "Columns: [userid, productname, ds, y]\n",
      "Index: []\n",
      "Not enough data to evaluate LANKA_S__INCENSE_STICKS_4_IN_1.\n",
      "LEEKS -        userid productname         ds  y\n",
      "753         1       LEEKS 2022-08-31  4\n",
      "754         1       LEEKS 2022-09-05  4\n",
      "755         1       LEEKS 2023-12-08  4\n",
      "756         1       LEEKS 2023-12-18  1\n",
      "2328        2       LEEKS 2022-01-28  4\n",
      "...       ...         ...        ... ..\n",
      "75868      48       LEEKS 2023-11-02  1\n",
      "77454      49       LEEKS 2022-07-28  4\n",
      "77455      49       LEEKS 2023-05-01  1\n",
      "77456      49       LEEKS 2023-08-05  2\n",
      "77457      49       LEEKS 2023-12-11  4\n",
      "\n",
      "[182 rows x 4 columns]\n",
      "No overlapping data for forecast and test data for LEEKS.\n",
      "LEMON -        userid productname         ds  y\n",
      "757         1       LEMON 2022-07-08  3\n",
      "758         1       LEMON 2022-11-02  2\n",
      "759         1       LEMON 2023-06-20  3\n",
      "760         1       LEMON 2023-07-10  4\n",
      "2336        2       LEMON 2023-01-12  4\n",
      "...       ...         ...        ... ..\n",
      "77459      49       LEMON 2023-03-22  3\n",
      "79003      50       LEMON 2022-07-04  3\n",
      "79004      50       LEMON 2023-01-03  4\n",
      "79005      50       LEMON 2023-03-22  1\n",
      "79006      50       LEMON 2023-06-27  2\n",
      "\n",
      "[201 rows x 4 columns]\n",
      "No overlapping data for forecast and test data for LEMON.\n",
      "LIFEBUOY_HW_GREN_TEA___ALO_REFILL_180ML - Empty DataFrame\n",
      "Columns: [userid, productname, ds, y]\n",
      "Index: []\n",
      "Not enough data to evaluate LIFEBUOY_HW_GREN_TEA___ALO_REFILL_180ML.\n",
      "LIME_JUICE - Empty DataFrame\n",
      "Columns: [userid, productname, ds, y]\n",
      "Index: []\n",
      "Not enough data to evaluate LIME_JUICE.\n",
      "LIME -        userid productname         ds  y\n",
      "766         1        LIME 2022-04-12  1\n",
      "767         1        LIME 2023-06-19  1\n",
      "768         1        LIME 2023-08-19  3\n",
      "2340        2        LIME 2022-01-14  3\n",
      "2341        2        LIME 2022-08-18  1\n",
      "...       ...         ...        ... ..\n",
      "79011      50        LIME 2022-09-20  4\n",
      "79012      50        LIME 2023-05-02  2\n",
      "79013      50        LIME 2023-05-20  2\n",
      "79014      50        LIME 2023-06-06  1\n",
      "79015      50        LIME 2023-11-03  2\n",
      "\n",
      "[162 rows x 4 columns]\n",
      "No overlapping data for forecast and test data for LIME.\n",
      "LINK_IODISED_TABLE_SALT_400G - Empty DataFrame\n",
      "Columns: [userid, productname, ds, y]\n",
      "Index: []\n",
      "Not enough data to evaluate LINK_IODISED_TABLE_SALT_400G.\n",
      "LIPTON_LAOJEE_TEA_100G - Empty DataFrame\n",
      "Columns: [userid, productname, ds, y]\n",
      "Index: []\n",
      "Not enough data to evaluate LIPTON_LAOJEE_TEA_100G.\n",
      "LITTLE_LION_BATTER_CAROL_95G - Empty DataFrame\n",
      "Columns: [userid, productname, ds, y]\n",
      "Index: []\n",
      "Not enough data to evaluate LITTLE_LION_BATTER_CAROL_95G.\n",
      "LITTLE_LION_GINGER_COOKIES_175G - Empty DataFrame\n",
      "Columns: [userid, productname, ds, y]\n",
      "Index: []\n",
      "Not enough data to evaluate LITTLE_LION_GINGER_COOKIES_175G.\n",
      "LYSOL_FLORAL_500ML - Empty DataFrame\n",
      "Columns: [userid, productname, ds, y]\n",
      "Index: []\n",
      "Not enough data to evaluate LYSOL_FLORAL_500ML.\n",
      "MAGGI_CHICKEN_NOODLES_2S_146G - Empty DataFrame\n",
      "Columns: [userid, productname, ds, y]\n",
      "Index: []\n",
      "Not enough data to evaluate MAGGI_CHICKEN_NOODLES_2S_146G.\n",
      "MAGGI_COCONUT_MILK_POWDER_300G - Empty DataFrame\n",
      "Columns: [userid, productname, ds, y]\n",
      "Index: []\n",
      "Not enough data to evaluate MAGGI_COCONUT_MILK_POWDER_300G.\n",
      "MAGGI_COCONUT_MILK_POWDER_336G - Empty DataFrame\n",
      "Columns: [userid, productname, ds, y]\n",
      "Index: []\n",
      "Not enough data to evaluate MAGGI_COCONUT_MILK_POWDER_336G.\n",
      "MAGGI_NDLS_CHICKEN__4_PROMO_PACK_292G - Empty DataFrame\n",
      "Columns: [userid, productname, ds, y]\n",
      "Index: []\n",
      "Not enough data to evaluate MAGGI_NDLS_CHICKEN__4_PROMO_PACK_292G.\n",
      "MAGIC_I_C_CONE_CHOCOLATE_120ML - Empty DataFrame\n",
      "Columns: [userid, productname, ds, y]\n",
      "Index: []\n",
      "Not enough data to evaluate MAGIC_I_C_CONE_CHOCOLATE_120ML.\n",
      "MAGNA_CHEEZY_ONION_BITE_100G - Empty DataFrame\n",
      "Columns: [userid, productname, ds, y]\n",
      "Index: []\n",
      "Not enough data to evaluate MAGNA_CHEEZY_ONION_BITE_100G.\n",
      "MALIBAN_BISCUIT_KRISCO_170G - Empty DataFrame\n",
      "Columns: [userid, productname, ds, y]\n",
      "Index: []\n",
      "Not enough data to evaluate MALIBAN_BISCUIT_KRISCO_170G.\n",
      "MALIBAN_CHOCOLATE_CREAM_400G - Empty DataFrame\n",
      "Columns: [userid, productname, ds, y]\n",
      "Index: []\n",
      "Not enough data to evaluate MALIBAN_CHOCOLATE_CREAM_400G.\n",
      "MALIBAN_CRM_CRACKER_POCKET_PACK_85G - Empty DataFrame\n",
      "Columns: [userid, productname, ds, y]\n",
      "Index: []\n",
      "Not enough data to evaluate MALIBAN_CRM_CRACKER_POCKET_PACK_85G.\n",
      "MALIBAN_GEM_BISCUITS_100G - Empty DataFrame\n",
      "Columns: [userid, productname, ds, y]\n",
      "Index: []\n",
      "Not enough data to evaluate MALIBAN_GEM_BISCUITS_100G.\n",
      "MALIBAN_GOLD_MARIE_240G - Empty DataFrame\n",
      "Columns: [userid, productname, ds, y]\n",
      "Index: []\n",
      "Not enough data to evaluate MALIBAN_GOLD_MARIE_240G.\n",
      "MALIBAN_GOLD_MARIE_350G - Empty DataFrame\n",
      "Columns: [userid, productname, ds, y]\n",
      "Index: []\n",
      "Not enough data to evaluate MALIBAN_GOLD_MARIE_350G.\n",
      "MALIBAN_GOLD_MARIE_80G - Empty DataFrame\n",
      "Columns: [userid, productname, ds, y]\n",
      "Index: []\n",
      "Not enough data to evaluate MALIBAN_GOLD_MARIE_80G.\n",
      "MALIBAN_MILK_POWDER_WELFARE_1KG - Empty DataFrame\n",
      "Columns: [userid, productname, ds, y]\n",
      "Index: []\n",
      "Not enough data to evaluate MALIBAN_MILK_POWDER_WELFARE_1KG.\n",
      "MALIBAN_MILK_POWDER_WELFARE_400G - Empty DataFrame\n",
      "Columns: [userid, productname, ds, y]\n",
      "Index: []\n",
      "Not enough data to evaluate MALIBAN_MILK_POWDER_WELFARE_400G.\n",
      "MALIBAN_SNACKERS_CHEESE___CHILI_25G - Empty DataFrame\n",
      "Columns: [userid, productname, ds, y]\n",
      "Index: []\n",
      "Not enough data to evaluate MALIBAN_SNACKERS_CHEESE___CHILI_25G.\n",
      "MALIBAN_SNACKERS_SPICY_25G - Empty DataFrame\n",
      "Columns: [userid, productname, ds, y]\n",
      "Index: []\n",
      "Not enough data to evaluate MALIBAN_SNACKERS_SPICY_25G.\n",
      "MARINA_COCONUT_OIL_PACK_500ML - Empty DataFrame\n",
      "Columns: [userid, productname, ds, y]\n",
      "Index: []\n",
      "Not enough data to evaluate MARINA_COCONUT_OIL_PACK_500ML.\n",
      "MARINA_COOKING_OIL_500ML - Empty DataFrame\n",
      "Columns: [userid, productname, ds, y]\n",
      "Index: []\n",
      "Not enough data to evaluate MARINA_COOKING_OIL_500ML.\n",
      "MARINA_REFINED_COCONUT_OIL_350ML - Empty DataFrame\n",
      "Columns: [userid, productname, ds, y]\n",
      "Index: []\n",
      "Not enough data to evaluate MARINA_REFINED_COCONUT_OIL_350ML.\n",
      "MARINA_VEGETABLE_OIL_PACK_500ML - Empty DataFrame\n",
      "Columns: [userid, productname, ds, y]\n",
      "Index: []\n",
      "Not enough data to evaluate MARINA_VEGETABLE_OIL_PACK_500ML.\n",
      "MAS_U_RSTD_CURRY_POWDER_100G - Empty DataFrame\n",
      "Columns: [userid, productname, ds, y]\n",
      "Index: []\n",
      "Not enough data to evaluate MAS_U_RSTD_CURRY_POWDER_100G.\n",
      "MAS_YELLOW_RICE_MIX_50G - Empty DataFrame\n",
      "Columns: [userid, productname, ds, y]\n",
      "Index: []\n",
      "Not enough data to evaluate MAS_YELLOW_RICE_MIX_50G.\n",
      "MAYURA_CRYSTAL_IODISED_SALT_800G - Empty DataFrame\n",
      "Columns: [userid, productname, ds, y]\n",
      "Index: []\n",
      "Not enough data to evaluate MAYURA_CRYSTAL_IODISED_SALT_800G.\n",
      "MAY_NON_ALCO__SPARKLING_WHITE_750ML - Empty DataFrame\n",
      "Columns: [userid, productname, ds, y]\n",
      "Index: []\n",
      "Not enough data to evaluate MAY_NON_ALCO__SPARKLING_WHITE_750ML.\n",
      "MCCURRIE_CRUSHED_CHILLIE_100G - Empty DataFrame\n",
      "Columns: [userid, productname, ds, y]\n",
      "Index: []\n",
      "Not enough data to evaluate MCCURRIE_CRUSHED_CHILLIE_100G.\n",
      "MCCURRIE_FENUGREEK_100G - Empty DataFrame\n",
      "Columns: [userid, productname, ds, y]\n",
      "Index: []\n",
      "Not enough data to evaluate MCCURRIE_FENUGREEK_100G.\n",
      "MCCURRIE_MALDIVE_FISH_CHIPS_100G - Empty DataFrame\n",
      "Columns: [userid, productname, ds, y]\n",
      "Index: []\n",
      "Not enough data to evaluate MCCURRIE_MALDIVE_FISH_CHIPS_100G.\n",
      "MCCURRIE_PEPPER_POWDER_100G - Empty DataFrame\n",
      "Columns: [userid, productname, ds, y]\n",
      "Index: []\n",
      "Not enough data to evaluate MCCURRIE_PEPPER_POWDER_100G.\n",
      "MCCURRIE_ROASTED_CURRY_POWDER_100G - Empty DataFrame\n",
      "Columns: [userid, productname, ds, y]\n",
      "Index: []\n",
      "Not enough data to evaluate MCCURRIE_ROASTED_CURRY_POWDER_100G.\n",
      "MCCURRIE_UNROASTED_CHILLIE_POWDER_100G - Empty DataFrame\n",
      "Columns: [userid, productname, ds, y]\n",
      "Index: []\n",
      "Not enough data to evaluate MCCURRIE_UNROASTED_CHILLIE_POWDER_100G.\n",
      "MCCURRIE_UNROASTED_CURRY_POWDER_100G - Empty DataFrame\n",
      "Columns: [userid, productname, ds, y]\n",
      "Index: []\n",
      "Not enough data to evaluate MCCURRIE_UNROASTED_CURRY_POWDER_100G.\n",
      "MEADOW_LEA_FAT_SPREAD_100G - Empty DataFrame\n",
      "Columns: [userid, productname, ds, y]\n",
      "Index: []\n",
      "Not enough data to evaluate MEADOW_LEA_FAT_SPREAD_100G.\n",
      "MEATBALL_PASTA - Empty DataFrame\n",
      "Columns: [userid, productname, ds, y]\n",
      "Index: []\n",
      "Not enough data to evaluate MEATBALL_PASTA.\n",
      "MENTOS_FRUIT_33_8G - Empty DataFrame\n",
      "Columns: [userid, productname, ds, y]\n",
      "Index: []\n",
      "Not enough data to evaluate MENTOS_FRUIT_33_8G.\n",
      "MENTOS_MARBLE_CHEWY_CANDY_19_8G - Empty DataFrame\n",
      "Columns: [userid, productname, ds, y]\n",
      "Index: []\n",
      "Not enough data to evaluate MENTOS_MARBLE_CHEWY_CANDY_19_8G.\n",
      "MENTOS_MINT_33_8G - Empty DataFrame\n",
      "Columns: [userid, productname, ds, y]\n",
      "Index: []\n",
      "Not enough data to evaluate MENTOS_MINT_33_8G.\n",
      "MENTOS_SOUR_MARBLE_CHEWY_CANDY_19_8G - Empty DataFrame\n",
      "Columns: [userid, productname, ds, y]\n",
      "Index: []\n",
      "Not enough data to evaluate MENTOS_SOUR_MARBLE_CHEWY_CANDY_19_8G.\n",
      "MILMA_INSTANT_SHAWARMA_350G_8PCS - Empty DataFrame\n",
      "Columns: [userid, productname, ds, y]\n",
      "Index: []\n",
      "Not enough data to evaluate MILMA_INSTANT_SHAWARMA_350G_8PCS.\n",
      "MILO_CHOCOLATE_FOOD_DRINK_180ML - Empty DataFrame\n",
      "Columns: [userid, productname, ds, y]\n",
      "Index: []\n",
      "Not enough data to evaluate MILO_CHOCOLATE_FOOD_DRINK_180ML.\n",
      "MINCE_PIE___3_PIECES - Empty DataFrame\n",
      "Columns: [userid, productname, ds, y]\n",
      "Index: []\n",
      "Not enough data to evaluate MINCE_PIE___3_PIECES.\n",
      "MOTHA_ESSENCE_VANILLA_28ML - Empty DataFrame\n",
      "Columns: [userid, productname, ds, y]\n",
      "Index: []\n",
      "Not enough data to evaluate MOTHA_ESSENCE_VANILLA_28ML.\n",
      "MR_POP_CLASSIC_25G - Empty DataFrame\n",
      "Columns: [userid, productname, ds, y]\n",
      "Index: []\n",
      "Not enough data to evaluate MR_POP_CLASSIC_25G.\n",
      "MUNCHEE_BISCUITS_SAYOGA_80G - Empty DataFrame\n",
      "Columns: [userid, productname, ds, y]\n",
      "Index: []\n",
      "Not enough data to evaluate MUNCHEE_BISCUITS_SAYOGA_80G.\n",
      "MUNCHEE_KOME_BITE_CHS___CHIL_40G - Empty DataFrame\n",
      "Columns: [userid, productname, ds, y]\n",
      "Index: []\n",
      "Not enough data to evaluate MUNCHEE_KOME_BITE_CHS___CHIL_40G.\n",
      "MUNCHEE_KOME_R_CRACKER_CHE_CHIL_45G - Empty DataFrame\n",
      "Columns: [userid, productname, ds, y]\n",
      "Index: []\n",
      "Not enough data to evaluate MUNCHEE_KOME_R_CRACKER_CHE_CHIL_45G.\n",
      "MUNCHEE_LEMON_PUFF_100G - Empty DataFrame\n",
      "Columns: [userid, productname, ds, y]\n",
      "Index: []\n",
      "Not enough data to evaluate MUNCHEE_LEMON_PUFF_100G.\n",
      "MUNCHEE_SNACK_CRACKER_170G - Empty DataFrame\n",
      "Columns: [userid, productname, ds, y]\n",
      "Index: []\n",
      "Not enough data to evaluate MUNCHEE_SNACK_CRACKER_170G.\n",
      "MUNCHEE_S_CREAM_CRACKER_H_PACK_230G - Empty DataFrame\n",
      "Columns: [userid, productname, ds, y]\n",
      "Index: []\n",
      "Not enough data to evaluate MUNCHEE_S_CREAM_CRACKER_H_PACK_230G.\n",
      "MUNCHEE_TIKIRI_MARIE_80G - Empty DataFrame\n",
      "Columns: [userid, productname, ds, y]\n",
      "Index: []\n",
      "Not enough data to evaluate MUNCHEE_TIKIRI_MARIE_80G.\n",
      "MUNCHEE_WAFER_ROLLZ_CHOCOLATE_100G - Empty DataFrame\n",
      "Columns: [userid, productname, ds, y]\n",
      "Index: []\n",
      "Not enough data to evaluate MUNCHEE_WAFER_ROLLZ_CHOCOLATE_100G.\n",
      "MYSOORE_DHAL_BULK_KG - Empty DataFrame\n",
      "Columns: [userid, productname, ds, y]\n",
      "Index: []\n",
      "Not enough data to evaluate MYSOORE_DHAL_BULK_KG.\n",
      "NATURES_S_PANDA_BABY_SHAM_HONEY_100ML - Empty DataFrame\n",
      "Columns: [userid, productname, ds, y]\n",
      "Index: []\n",
      "Not enough data to evaluate NATURES_S_PANDA_BABY_SHAM_HONEY_100ML.\n",
      "NATURE_CARDAMOM_25G - Empty DataFrame\n",
      "Columns: [userid, productname, ds, y]\n",
      "Index: []\n",
      "Not enough data to evaluate NATURE_CARDAMOM_25G.\n",
      "NATURE_CHILLIE_PIECES_100G - Empty DataFrame\n",
      "Columns: [userid, productname, ds, y]\n",
      "Index: []\n",
      "Not enough data to evaluate NATURE_CHILLIE_PIECES_100G.\n",
      "NATURE_CHILLIE_POWDER_100G - Empty DataFrame\n",
      "Columns: [userid, productname, ds, y]\n",
      "Index: []\n",
      "Not enough data to evaluate NATURE_CHILLIE_POWDER_100G.\n",
      "NATURE_MUSTARD_SEED_100G - Empty DataFrame\n",
      "Columns: [userid, productname, ds, y]\n",
      "Index: []\n",
      "Not enough data to evaluate NATURE_MUSTARD_SEED_100G.\n",
      "NATURE_PEPPER_POWDER_100G - Empty DataFrame\n",
      "Columns: [userid, productname, ds, y]\n",
      "Index: []\n",
      "Not enough data to evaluate NATURE_PEPPER_POWDER_100G.\n",
      "NATURE_S__P_BABY_RATHMAL_SOAP_E_PACK - Empty DataFrame\n",
      "Columns: [userid, productname, ds, y]\n",
      "Index: []\n",
      "Not enough data to evaluate NATURE_S__P_BABY_RATHMAL_SOAP_E_PACK.\n",
      "NATURE_TURMERIC_POWDER_100G - Empty DataFrame\n",
      "Columns: [userid, productname, ds, y]\n",
      "Index: []\n",
      "Not enough data to evaluate NATURE_TURMERIC_POWDER_100G.\n",
      "NEL_FARM_BROWN_EGG_10S - Empty DataFrame\n",
      "Columns: [userid, productname, ds, y]\n",
      "Index: []\n",
      "Not enough data to evaluate NEL_FARM_BROWN_EGG_10S.\n",
      "NEL_FARM_MEDIUM_EGGS_10S - Empty DataFrame\n",
      "Columns: [userid, productname, ds, y]\n",
      "Index: []\n",
      "Not enough data to evaluate NEL_FARM_MEDIUM_EGGS_10S.\n",
      "NESCAFE_ICE_COLD_COFFEE_180ML - Empty DataFrame\n",
      "Columns: [userid, productname, ds, y]\n",
      "Index: []\n",
      "Not enough data to evaluate NESCAFE_ICE_COLD_COFFEE_180ML.\n",
      "NESPRAY_E_DAY_POUCH_1KG - Empty DataFrame\n",
      "Columns: [userid, productname, ds, y]\n",
      "Index: []\n",
      "Not enough data to evaluate NESPRAY_E_DAY_POUCH_1KG.\n",
      "NEWDALE_SET_YOGHURT_STRAWBERRY_80G - Empty DataFrame\n",
      "Columns: [userid, productname, ds, y]\n",
      "Index: []\n",
      "Not enough data to evaluate NEWDALE_SET_YOGHURT_STRAWBERRY_80G.\n",
      "NEWDALE_UHT_MILK_STRAWBERRY_180ML - Empty DataFrame\n",
      "Columns: [userid, productname, ds, y]\n",
      "Index: []\n",
      "Not enough data to evaluate NEWDALE_UHT_MILK_STRAWBERRY_180ML.\n",
      "NEW_ANTHONY_S_PRE_CUT_CHICKEN_S_L - Empty DataFrame\n",
      "Columns: [userid, productname, ds, y]\n",
      "Index: []\n",
      "Not enough data to evaluate NEW_ANTHONY_S_PRE_CUT_CHICKEN_S_L.\n",
      "NEW_RATHNA_NADU_RICE_1KG__5U_ - Empty DataFrame\n",
      "Columns: [userid, productname, ds, y]\n",
      "Index: []\n",
      "Not enough data to evaluate NEW_RATHNA_NADU_RICE_1KG__5U_.\n",
      "NEW_RATHNA_ROSE_RAW_RICE_1KG__5U_ - Empty DataFrame\n",
      "Columns: [userid, productname, ds, y]\n",
      "Index: []\n",
      "Not enough data to evaluate NEW_RATHNA_ROSE_RAW_RICE_1KG__5U_.\n",
      "NEW_RATHNA_SAMBA_RICE_1KG__5U_ - Empty DataFrame\n",
      "Columns: [userid, productname, ds, y]\n",
      "Index: []\n",
      "Not enough data to evaluate NEW_RATHNA_SAMBA_RICE_1KG__5U_.\n",
      "NEW_RATHNA_WHITE_RAW_RICE_1KG__5U_ - Empty DataFrame\n",
      "Columns: [userid, productname, ds, y]\n",
      "Index: []\n",
      "Not enough data to evaluate NEW_RATHNA_WHITE_RAW_RICE_1KG__5U_.\n",
      "NIMEX_FACIAL_TISSUES_BOX_100S - Empty DataFrame\n",
      "Columns: [userid, productname, ds, y]\n",
      "Index: []\n",
      "Not enough data to evaluate NIMEX_FACIAL_TISSUES_BOX_100S.\n",
      "NIPUNA_NADU_RICE_1KG__5U_ - Empty DataFrame\n",
      "Columns: [userid, productname, ds, y]\n",
      "Index: []\n",
      "Not enough data to evaluate NIPUNA_NADU_RICE_1KG__5U_.\n",
      "NIPUNA_WHITE_RAW_RICE_1KG__5U_ - Empty DataFrame\n",
      "Columns: [userid, productname, ds, y]\n",
      "Index: []\n",
      "Not enough data to evaluate NIPUNA_WHITE_RAW_RICE_1KG__5U_.\n",
      "NUTRILINE_CEREAL_CHOCO_BLOBS_20G - Empty DataFrame\n",
      "Columns: [userid, productname, ds, y]\n",
      "Index: []\n",
      "Not enough data to evaluate NUTRILINE_CEREAL_CHOCO_BLOBS_20G.\n",
      "OATEO_INSTANT_OATS_1KG - Empty DataFrame\n",
      "Columns: [userid, productname, ds, y]\n",
      "Index: []\n",
      "Not enough data to evaluate OATEO_INSTANT_OATS_1KG.\n",
      "OPERA_CAKE - Empty DataFrame\n",
      "Columns: [userid, productname, ds, y]\n",
      "Index: []\n",
      "Not enough data to evaluate OPERA_CAKE.\n",
      "ORANGE_IMPORTED - Empty DataFrame\n",
      "Columns: [userid, productname, ds, y]\n",
      "Index: []\n",
      "Not enough data to evaluate ORANGE_IMPORTED.\n",
      "PACIFIC_GREEN_CHILLI___MI_2_2G - Empty DataFrame\n",
      "Columns: [userid, productname, ds, y]\n",
      "Index: []\n",
      "Not enough data to evaluate PACIFIC_GREEN_CHILLI___MI_2_2G.\n",
      "PANADOL_TAB_500_MG_144S - Empty DataFrame\n",
      "Columns: [userid, productname, ds, y]\n",
      "Index: []\n",
      "Not enough data to evaluate PANADOL_TAB_500_MG_144S.\n",
      "PANASONIC_BATTERIES_NEO_R6NT_4B_AA - Empty DataFrame\n",
      "Columns: [userid, productname, ds, y]\n",
      "Index: []\n",
      "Not enough data to evaluate PANASONIC_BATTERIES_NEO_R6NT_4B_AA.\n",
      "PANASONIC_BATTERIES_NEO_RO3NT_2B_AAA - Empty DataFrame\n",
      "Columns: [userid, productname, ds, y]\n",
      "Index: []\n",
      "Not enough data to evaluate PANASONIC_BATTERIES_NEO_RO3NT_2B_AAA.\n",
      "PANASONIC_LED_BULB_7W_C_D_SCREW - Empty DataFrame\n",
      "Columns: [userid, productname, ds, y]\n",
      "Index: []\n",
      "Not enough data to evaluate PANASONIC_LED_BULB_7W_C_D_SCREW.\n",
      "PAPAYA_JUICE - Empty DataFrame\n",
      "Columns: [userid, productname, ds, y]\n",
      "Index: []\n",
      "Not enough data to evaluate PAPAYA_JUICE.\n",
      "PAPAYA -        userid productname         ds  y\n",
      "1055        1      PAPAYA 2022-08-16  2\n",
      "1056        1      PAPAYA 2023-06-16  3\n",
      "2620        2      PAPAYA 2022-09-24  2\n",
      "4281        3      PAPAYA 2022-06-01  4\n",
      "4282        3      PAPAYA 2023-04-15  3\n",
      "...       ...         ...        ... ..\n",
      "77766      49      PAPAYA 2023-04-27  1\n",
      "77767      49      PAPAYA 2023-11-22  4\n",
      "79299      50      PAPAYA 2022-07-29  1\n",
      "79300      50      PAPAYA 2022-12-22  3\n",
      "79301      50      PAPAYA 2023-01-07  4\n",
      "\n",
      "[182 rows x 4 columns]\n",
      "No overlapping data for forecast and test data for PAPAYA.\n",
      "PASTARINA_VITE_400G - Empty DataFrame\n",
      "Columns: [userid, productname, ds, y]\n",
      "Index: []\n",
      "Not enough data to evaluate PASTARINA_VITE_400G.\n",
      "PEARS_ACTIVE_FLORAL_MULTIPACK_350G - Empty DataFrame\n",
      "Columns: [userid, productname, ds, y]\n",
      "Index: []\n",
      "Not enough data to evaluate PEARS_ACTIVE_FLORAL_MULTIPACK_350G.\n",
      "PEARS_BEDTIME_BABY_COLOGNE_100ML - Empty DataFrame\n",
      "Columns: [userid, productname, ds, y]\n",
      "Index: []\n",
      "Not enough data to evaluate PEARS_BEDTIME_BABY_COLOGNE_100ML.\n",
      "PEARS_PURE___GENTLE_MULTIPACK_350G - Empty DataFrame\n",
      "Columns: [userid, productname, ds, y]\n",
      "Index: []\n",
      "Not enough data to evaluate PEARS_PURE___GENTLE_MULTIPACK_350G.\n",
      "PELWATTA_BUTTER_200G - Empty DataFrame\n",
      "Columns: [userid, productname, ds, y]\n",
      "Index: []\n",
      "Not enough data to evaluate PELWATTA_BUTTER_200G.\n",
      "PELWATTA_BUTTER_UNSALTED_200G - Empty DataFrame\n",
      "Columns: [userid, productname, ds, y]\n",
      "Index: []\n",
      "Not enough data to evaluate PELWATTA_BUTTER_UNSALTED_200G.\n",
      "PELWATTE_FULL_CREAM_MILK_POWDER_400G - Empty DataFrame\n",
      "Columns: [userid, productname, ds, y]\n",
      "Index: []\n",
      "Not enough data to evaluate PELWATTE_FULL_CREAM_MILK_POWDER_400G.\n",
      "PERFECTLY_IMPERFECT_GARLIC - Empty DataFrame\n",
      "Columns: [userid, productname, ds, y]\n",
      "Index: []\n",
      "Not enough data to evaluate PERFECTLY_IMPERFECT_GARLIC.\n",
      "PERFECTLY_IMPERFECT_POTATOES - Empty DataFrame\n",
      "Columns: [userid, productname, ds, y]\n",
      "Index: []\n",
      "Not enough data to evaluate PERFECTLY_IMPERFECT_POTATOES.\n",
      "PERFECTLY_IMPERFECT_TOMATOES - Empty DataFrame\n",
      "Columns: [userid, productname, ds, y]\n",
      "Index: []\n",
      "Not enough data to evaluate PERFECTLY_IMPERFECT_TOMATOES.\n",
      "PH_HAPPY_BIRTHDAY_BANNER_FLAG_TYPE - Empty DataFrame\n",
      "Columns: [userid, productname, ds, y]\n",
      "Index: []\n",
      "Not enough data to evaluate PH_HAPPY_BIRTHDAY_BANNER_FLAG_TYPE.\n",
      "PLANTAIN_FLOWER - Empty DataFrame\n",
      "Columns: [userid, productname, ds, y]\n",
      "Index: []\n",
      "Not enough data to evaluate PLANTAIN_FLOWER.\n",
      "POL_PITTU_1PC - Empty DataFrame\n",
      "Columns: [userid, productname, ds, y]\n",
      "Index: []\n",
      "Not enough data to evaluate POL_PITTU_1PC.\n",
      "PONDS_LIGHT_MOISTURISER_24_5G - Empty DataFrame\n",
      "Columns: [userid, productname, ds, y]\n",
      "Index: []\n",
      "Not enough data to evaluate PONDS_LIGHT_MOISTURISER_24_5G.\n",
      "POTATOES -        userid productname         ds  y\n",
      "1111        1    POTATOES 2022-02-28  2\n",
      "1112        1    POTATOES 2022-03-15  3\n",
      "1113        1    POTATOES 2022-03-19  4\n",
      "1114        1    POTATOES 2022-11-13  2\n",
      "1115        1    POTATOES 2023-11-06  2\n",
      "...       ...         ...        ... ..\n",
      "77816      49    POTATOES 2023-06-25  4\n",
      "79350      50    POTATOES 2022-10-24  4\n",
      "79351      50    POTATOES 2023-04-22  4\n",
      "79352      50    POTATOES 2023-06-18  3\n",
      "79353      50    POTATOES 2024-01-01  4\n",
      "\n",
      "[161 rows x 4 columns]\n",
      "No overlapping data for forecast and test data for POTATOES.\n",
      "PRAWNS_MEDIUM - Empty DataFrame\n",
      "Columns: [userid, productname, ds, y]\n",
      "Index: []\n",
      "Not enough data to evaluate PRAWNS_MEDIUM.\n",
      "PRE_PACKED_BIG_ONIONS - Empty DataFrame\n",
      "Columns: [userid, productname, ds, y]\n",
      "Index: []\n",
      "Not enough data to evaluate PRE_PACKED_BIG_ONIONS.\n",
      "PRE_PACKED_GARLIC - Empty DataFrame\n",
      "Columns: [userid, productname, ds, y]\n",
      "Index: []\n",
      "Not enough data to evaluate PRE_PACKED_GARLIC.\n",
      "PRE_PACKED_POTATOES - Empty DataFrame\n",
      "Columns: [userid, productname, ds, y]\n",
      "Index: []\n",
      "Not enough data to evaluate PRE_PACKED_POTATOES.\n",
      "PRE_PACKED_RED_ONIONS - Empty DataFrame\n",
      "Columns: [userid, productname, ds, y]\n",
      "Index: []\n",
      "Not enough data to evaluate PRE_PACKED_RED_ONIONS.\n",
      "PRIMA_CRUST_TOP_BREAD_400G - Empty DataFrame\n",
      "Columns: [userid, productname, ds, y]\n",
      "Index: []\n",
      "Not enough data to evaluate PRIMA_CRUST_TOP_BREAD_400G.\n",
      "PRIMA_FAMILY_FLOUR_1KG - Empty DataFrame\n",
      "Columns: [userid, productname, ds, y]\n",
      "Index: []\n",
      "Not enough data to evaluate PRIMA_FAMILY_FLOUR_1KG.\n",
      "PRIMA_KOTTUMEE_NAI_MIRIS_80G - Empty DataFrame\n",
      "Columns: [userid, productname, ds, y]\n",
      "Index: []\n",
      "Not enough data to evaluate PRIMA_KOTTUMEE_NAI_MIRIS_80G.\n",
      "PRIMA_KOTTU_MEE_CHEESE___ONION_80G - Empty DataFrame\n",
      "Columns: [userid, productname, ds, y]\n",
      "Index: []\n",
      "Not enough data to evaluate PRIMA_KOTTU_MEE_CHEESE___ONION_80G.\n",
      "PRIMA_KOTTU_MEE_CHICKEN_78G - Empty DataFrame\n",
      "Columns: [userid, productname, ds, y]\n",
      "Index: []\n",
      "Not enough data to evaluate PRIMA_KOTTU_MEE_CHICKEN_78G.\n",
      "PRIMA_KOTTU_MEE_HOT___SPICY_80G - Empty DataFrame\n",
      "Columns: [userid, productname, ds, y]\n",
      "Index: []\n",
      "Not enough data to evaluate PRIMA_KOTTU_MEE_HOT___SPICY_80G.\n",
      "PRIMA_KOTTU_MEE_MASALA_FLAVOUR_78G - Empty DataFrame\n",
      "Columns: [userid, productname, ds, y]\n",
      "Index: []\n",
      "Not enough data to evaluate PRIMA_KOTTU_MEE_MASALA_FLAVOUR_78G.\n",
      "PRIMA_SAUSAGE_CHICKEN_500G - Empty DataFrame\n",
      "Columns: [userid, productname, ds, y]\n",
      "Index: []\n",
      "Not enough data to evaluate PRIMA_SAUSAGE_CHICKEN_500G.\n",
      "PRIMA_SUNRISE_HOT_DOG_BUN_2S - Empty DataFrame\n",
      "Columns: [userid, productname, ds, y]\n",
      "Index: []\n",
      "Not enough data to evaluate PRIMA_SUNRISE_HOT_DOG_BUN_2S.\n",
      "PROMATE_BOOK_A5_SPIRAL_100_PGS_LONG - Empty DataFrame\n",
      "Columns: [userid, productname, ds, y]\n",
      "Index: []\n",
      "Not enough data to evaluate PROMATE_BOOK_A5_SPIRAL_100_PGS_LONG.\n",
      "PUMPKIN -        userid productname         ds  y\n",
      "1156        1     PUMPKIN 2022-01-06  1\n",
      "1157        1     PUMPKIN 2022-11-25  1\n",
      "1158        1     PUMPKIN 2022-12-25  1\n",
      "1159        1     PUMPKIN 2023-01-10  4\n",
      "2750        2     PUMPKIN 2022-03-07  3\n",
      "...       ...         ...        ... ..\n",
      "77874      49     PUMPKIN 2023-05-09  3\n",
      "77875      49     PUMPKIN 2023-05-16  1\n",
      "79403      50     PUMPKIN 2022-05-14  2\n",
      "79404      50     PUMPKIN 2022-07-18  2\n",
      "79405      50     PUMPKIN 2023-12-06  2\n",
      "\n",
      "[149 rows x 4 columns]\n",
      "No overlapping data for forecast and test data for PUMPKIN.\n",
      "RAIGAM_ISI_PURE_COOKING_SALT_400G - Empty DataFrame\n",
      "Columns: [userid, productname, ds, y]\n",
      "Index: []\n",
      "Not enough data to evaluate RAIGAM_ISI_PURE_COOKING_SALT_400G.\n",
      "RAIGAM_SOYA_CHICKEN_DEVEL_110G - Empty DataFrame\n",
      "Columns: [userid, productname, ds, y]\n",
      "Index: []\n",
      "Not enough data to evaluate RAIGAM_SOYA_CHICKEN_DEVEL_110G.\n",
      "RAIGAM_SOYA_CUTTLE_FISH_DEVEL_110G - Empty DataFrame\n",
      "Columns: [userid, productname, ds, y]\n",
      "Index: []\n",
      "Not enough data to evaluate RAIGAM_SOYA_CUTTLE_FISH_DEVEL_110G.\n",
      "RAIGAM_SOYA_FRIED_DEVLD_PRAWN_110G - Empty DataFrame\n",
      "Columns: [userid, productname, ds, y]\n",
      "Index: []\n",
      "Not enough data to evaluate RAIGAM_SOYA_FRIED_DEVLD_PRAWN_110G.\n",
      "RANCRISP_CASSAVA_CHIP_KOCHCHI_100G - Empty DataFrame\n",
      "Columns: [userid, productname, ds, y]\n",
      "Index: []\n",
      "Not enough data to evaluate RANCRISP_CASSAVA_CHIP_KOCHCHI_100G.\n",
      "RANCRISP_CASS_CHIPS_PEP____SALT_100G - Empty DataFrame\n",
      "Columns: [userid, productname, ds, y]\n",
      "Index: []\n",
      "Not enough data to evaluate RANCRISP_CASS_CHIPS_PEP____SALT_100G.\n",
      "RANCRISP_CASS_CHIP_N_RAL_HOT_S_100G - Empty DataFrame\n",
      "Columns: [userid, productname, ds, y]\n",
      "Index: []\n",
      "Not enough data to evaluate RANCRISP_CASS_CHIP_N_RAL_HOT_S_100G.\n",
      "RANCRISP_POTATO_CHIPS_BBQ_60G - Empty DataFrame\n",
      "Columns: [userid, productname, ds, y]\n",
      "Index: []\n",
      "Not enough data to evaluate RANCRISP_POTATO_CHIPS_BBQ_60G.\n",
      "RANCRISP_P_CHIPS_HOT___SPICY_PKT_60G - Empty DataFrame\n",
      "Columns: [userid, productname, ds, y]\n",
      "Index: []\n",
      "Not enough data to evaluate RANCRISP_P_CHIPS_HOT___SPICY_PKT_60G.\n",
      "RATTHI_3_IN_1_KIRI_THE_200G - Empty DataFrame\n",
      "Columns: [userid, productname, ds, y]\n",
      "Index: []\n",
      "Not enough data to evaluate RATTHI_3_IN_1_KIRI_THE_200G.\n",
      "RATTHI_FULL_CREAM_MILK_POWDER_200G - Empty DataFrame\n",
      "Columns: [userid, productname, ds, y]\n",
      "Index: []\n",
      "Not enough data to evaluate RATTHI_FULL_CREAM_MILK_POWDER_200G.\n",
      "RATTHI_MILK_POWDER_1KG_PKT - Empty DataFrame\n",
      "Columns: [userid, productname, ds, y]\n",
      "Index: []\n",
      "Not enough data to evaluate RATTHI_MILK_POWDER_1KG_PKT.\n",
      "RATTHI_MILK_POWDER_400G - Empty DataFrame\n",
      "Columns: [userid, productname, ds, y]\n",
      "Index: []\n",
      "Not enough data to evaluate RATTHI_MILK_POWDER_400G.\n",
      "RATTHI_THEA_MUSUWA_250G - Empty DataFrame\n",
      "Columns: [userid, productname, ds, y]\n",
      "Index: []\n",
      "Not enough data to evaluate RATTHI_THEA_MUSUWA_250G.\n",
      "REBECAA_LEE_FLORAL_SOAP_ECO_PACK - Empty DataFrame\n",
      "Columns: [userid, productname, ds, y]\n",
      "Index: []\n",
      "Not enough data to evaluate REBECAA_LEE_FLORAL_SOAP_ECO_PACK.\n",
      "RED_BULL_ENERGY_DRINK_250ML - Empty DataFrame\n",
      "Columns: [userid, productname, ds, y]\n",
      "Index: []\n",
      "Not enough data to evaluate RED_BULL_ENERGY_DRINK_250ML.\n",
      "RED_KEKULU_SAMBA_BULK_KG___LOCAL - Empty DataFrame\n",
      "Columns: [userid, productname, ds, y]\n",
      "Index: []\n",
      "Not enough data to evaluate RED_KEKULU_SAMBA_BULK_KG___LOCAL.\n",
      "RED_NADU_BULK___LOCAL - Empty DataFrame\n",
      "Columns: [userid, productname, ds, y]\n",
      "Index: []\n",
      "Not enough data to evaluate RED_NADU_BULK___LOCAL.\n",
      "REEBONN_SILICON_CONDITIONER_50ML - Empty DataFrame\n",
      "Columns: [userid, productname, ds, y]\n",
      "Index: []\n",
      "Not enough data to evaluate REEBONN_SILICON_CONDITIONER_50ML.\n",
      "RENUKA_COCONUT_MILK_POWDER_300G - Empty DataFrame\n",
      "Columns: [userid, productname, ds, y]\n",
      "Index: []\n",
      "Not enough data to evaluate RENUKA_COCONUT_MILK_POWDER_300G.\n",
      "RIBBED_GOURD - Empty DataFrame\n",
      "Columns: [userid, productname, ds, y]\n",
      "Index: []\n",
      "Not enough data to evaluate RIBBED_GOURD.\n",
      "RICE_RED_KEKULU_BULK_KG___LOCAL - Empty DataFrame\n",
      "Columns: [userid, productname, ds, y]\n",
      "Index: []\n",
      "Not enough data to evaluate RICE_RED_KEKULU_BULK_KG___LOCAL.\n",
      "RICE_WHITE_KEKULU_BULK_KG___LOCAL - Empty DataFrame\n",
      "Columns: [userid, productname, ds, y]\n",
      "Index: []\n",
      "Not enough data to evaluate RICE_WHITE_KEKULU_BULK_KG___LOCAL.\n",
      "RICE___CURRY_WITH_CHICKEN - Empty DataFrame\n",
      "Columns: [userid, productname, ds, y]\n",
      "Index: []\n",
      "Not enough data to evaluate RICE___CURRY_WITH_CHICKEN.\n",
      "RICHLIFE_CHEESE_SLICES_5S_100G - Empty DataFrame\n",
      "Columns: [userid, productname, ds, y]\n",
      "Index: []\n",
      "Not enough data to evaluate RICHLIFE_CHEESE_SLICES_5S_100G.\n",
      "RICHLIFE_CHE_WEDGES_GREENCHILLI_120G - Empty DataFrame\n",
      "Columns: [userid, productname, ds, y]\n",
      "Index: []\n",
      "Not enough data to evaluate RICHLIFE_CHE_WEDGES_GREENCHILLI_120G.\n",
      "RICHLIFE_KIRIPANI_CUP_82G - Empty DataFrame\n",
      "Columns: [userid, productname, ds, y]\n",
      "Index: []\n",
      "Not enough data to evaluate RICHLIFE_KIRIPANI_CUP_82G.\n",
      "RICHLIFE_SET_KIRI_900ML - Empty DataFrame\n",
      "Columns: [userid, productname, ds, y]\n",
      "Index: []\n",
      "Not enough data to evaluate RICHLIFE_SET_KIRI_900ML.\n",
      "RICH_TURMERIC_POWDER_50G - Empty DataFrame\n",
      "Columns: [userid, productname, ds, y]\n",
      "Index: []\n",
      "Not enough data to evaluate RICH_TURMERIC_POWDER_50G.\n",
      "RISANDU_WICK_SMALL - Empty DataFrame\n",
      "Columns: [userid, productname, ds, y]\n",
      "Index: []\n",
      "Not enough data to evaluate RISANDU_WICK_SMALL.\n",
      "RITZBURY_CHOCOLATE_CHAMP_26G - Empty DataFrame\n",
      "Columns: [userid, productname, ds, y]\n",
      "Index: []\n",
      "Not enough data to evaluate RITZBURY_CHOCOLATE_CHAMP_26G.\n",
      "RITZBURY_CHOCOLATE_TROPICA_26G - Empty DataFrame\n",
      "Columns: [userid, productname, ds, y]\n",
      "Index: []\n",
      "Not enough data to evaluate RITZBURY_CHOCOLATE_TROPICA_26G.\n",
      "RITZBURY_PEBBLES_25G - Empty DataFrame\n",
      "Columns: [userid, productname, ds, y]\n",
      "Index: []\n",
      "Not enough data to evaluate RITZBURY_PEBBLES_25G.\n",
      "RITZBURY_PEBBLES_PARTY_PACK_180G - Empty DataFrame\n",
      "Columns: [userid, productname, ds, y]\n",
      "Index: []\n",
      "Not enough data to evaluate RITZBURY_PEBBLES_PARTY_PACK_180G.\n",
      "RITZBURY_POPIT_CHO_COATED_CRISPY_20G - Empty DataFrame\n",
      "Columns: [userid, productname, ds, y]\n",
      "Index: []\n",
      "Not enough data to evaluate RITZBURY_POPIT_CHO_COATED_CRISPY_20G.\n",
      "RITZBURY_REVELLO_CASHEW_CHOC_100G - Empty DataFrame\n",
      "Columns: [userid, productname, ds, y]\n",
      "Index: []\n",
      "Not enough data to evaluate RITZBURY_REVELLO_CASHEW_CHOC_100G.\n",
      "RITZBURY_REVELLO_CHOCOLATE_CASHEW_50G - Empty DataFrame\n",
      "Columns: [userid, productname, ds, y]\n",
      "Index: []\n",
      "Not enough data to evaluate RITZBURY_REVELLO_CHOCOLATE_CASHEW_50G.\n",
      "RITZBURY_REVELLO_CRISPIES_CHOC_100G - Empty DataFrame\n",
      "Columns: [userid, productname, ds, y]\n",
      "Index: []\n",
      "Not enough data to evaluate RITZBURY_REVELLO_CRISPIES_CHOC_100G.\n",
      "RITZBURY_REVELLO_FRUIT___NUT_100G - Empty DataFrame\n",
      "Columns: [userid, productname, ds, y]\n",
      "Index: []\n",
      "Not enough data to evaluate RITZBURY_REVELLO_FRUIT___NUT_100G.\n",
      "RITZBURY_REVELLO_MILK_CHOCOALTE_100G - Empty DataFrame\n",
      "Columns: [userid, productname, ds, y]\n",
      "Index: []\n",
      "Not enough data to evaluate RITZBURY_REVELLO_MILK_CHOCOALTE_100G.\n",
      "RITZBURY_SUGAR_FREE_DARK_CHOCOLATE_45G - Empty DataFrame\n",
      "Columns: [userid, productname, ds, y]\n",
      "Index: []\n",
      "Not enough data to evaluate RITZBURY_SUGAR_FREE_DARK_CHOCOLATE_45G.\n",
      "ROAST_BREAD_WITH_POL_SAMBOL - Empty DataFrame\n",
      "Columns: [userid, productname, ds, y]\n",
      "Index: []\n",
      "Not enough data to evaluate ROAST_BREAD_WITH_POL_SAMBOL.\n",
      "ROZA_PASTA_CRESTE_DI_GALLI_400G - Empty DataFrame\n",
      "Columns: [userid, productname, ds, y]\n",
      "Index: []\n",
      "Not enough data to evaluate ROZA_PASTA_CRESTE_DI_GALLI_400G.\n",
      "ROZA_PASTA_LUMACHINE_400G - Empty DataFrame\n",
      "Columns: [userid, productname, ds, y]\n",
      "Index: []\n",
      "Not enough data to evaluate ROZA_PASTA_LUMACHINE_400G.\n",
      "RUHUNU_CHILLIE_PIECES_100G - Empty DataFrame\n",
      "Columns: [userid, productname, ds, y]\n",
      "Index: []\n",
      "Not enough data to evaluate RUHUNU_CHILLIE_PIECES_100G.\n",
      "RUSIRU_SCRUBBER_LARGE - Empty DataFrame\n",
      "Columns: [userid, productname, ds, y]\n",
      "Index: []\n",
      "Not enough data to evaluate RUSIRU_SCRUBBER_LARGE.\n",
      "SAMAPOSHA_200G - Empty DataFrame\n",
      "Columns: [userid, productname, ds, y]\n",
      "Index: []\n",
      "Not enough data to evaluate SAMAPOSHA_200G.\n",
      "SAMAPOSHA_80G - Empty DataFrame\n",
      "Columns: [userid, productname, ds, y]\n",
      "Index: []\n",
      "Not enough data to evaluate SAMAPOSHA_80G.\n",
      "SAN_DELO_PASTA_FUSILLI_400G - Empty DataFrame\n",
      "Columns: [userid, productname, ds, y]\n",
      "Index: []\n",
      "Not enough data to evaluate SAN_DELO_PASTA_FUSILLI_400G.\n",
      "SCAN_CASSAVA_CHIPS_HOT___SPICY_50G - Empty DataFrame\n",
      "Columns: [userid, productname, ds, y]\n",
      "Index: []\n",
      "Not enough data to evaluate SCAN_CASSAVA_CHIPS_HOT___SPICY_50G.\n",
      "SECRETS_B_SPRAY_ROSE_50ML - Empty DataFrame\n",
      "Columns: [userid, productname, ds, y]\n",
      "Index: []\n",
      "Not enough data to evaluate SECRETS_B_SPRAY_ROSE_50ML.\n",
      "SECRET_FLORAL_DREAMS_B_SPRAY_30ML - Empty DataFrame\n",
      "Columns: [userid, productname, ds, y]\n",
      "Index: []\n",
      "Not enough data to evaluate SECRET_FLORAL_DREAMS_B_SPRAY_30ML.\n",
      "SEEPET_CUT_TWISTS_250G - Empty DataFrame\n",
      "Columns: [userid, productname, ds, y]\n",
      "Index: []\n",
      "Not enough data to evaluate SEEPET_CUT_TWISTS_250G.\n",
      "SEEPET_DOG_COMB_A_124 - Empty DataFrame\n",
      "Columns: [userid, productname, ds, y]\n",
      "Index: []\n",
      "Not enough data to evaluate SEEPET_DOG_COMB_A_124.\n",
      "SEEPET_DOG_MUNCHIES_25_PIECES - Empty DataFrame\n",
      "Columns: [userid, productname, ds, y]\n",
      "Index: []\n",
      "Not enough data to evaluate SEEPET_DOG_MUNCHIES_25_PIECES.\n",
      "SEEPET_DOG_TREATS_4_ - Empty DataFrame\n",
      "Columns: [userid, productname, ds, y]\n",
      "Index: []\n",
      "Not enough data to evaluate SEEPET_DOG_TREATS_4_.\n",
      "SERA_CHICKEN_WITH_SWEET_CORN_SOUP_50G - Empty DataFrame\n",
      "Columns: [userid, productname, ds, y]\n",
      "Index: []\n",
      "Not enough data to evaluate SERA_CHICKEN_WITH_SWEET_CORN_SOUP_50G.\n",
      "SIDDHALEPA_ASAMODAGAM_SPIRIT_350ML - Empty DataFrame\n",
      "Columns: [userid, productname, ds, y]\n",
      "Index: []\n",
      "Not enough data to evaluate SIDDHALEPA_ASAMODAGAM_SPIRIT_350ML.\n",
      "SIDDHALEPA_BALM_5G - Empty DataFrame\n",
      "Columns: [userid, productname, ds, y]\n",
      "Index: []\n",
      "Not enough data to evaluate SIDDHALEPA_BALM_5G.\n",
      "SIGNAL_STRONG_TEETH_TOOTHPASTE_120G - Empty DataFrame\n",
      "Columns: [userid, productname, ds, y]\n",
      "Index: []\n",
      "Not enough data to evaluate SIGNAL_STRONG_TEETH_TOOTHPASTE_120G.\n",
      "SIGNAL_TOOTHPASTE_STRONG_TEETH_40G - Empty DataFrame\n",
      "Columns: [userid, productname, ds, y]\n",
      "Index: []\n",
      "Not enough data to evaluate SIGNAL_TOOTHPASTE_STRONG_TEETH_40G.\n",
      "SIGNAL_TOOTH_BRUSH_TRIPLE_CLEAN - Empty DataFrame\n",
      "Columns: [userid, productname, ds, y]\n",
      "Index: []\n",
      "Not enough data to evaluate SIGNAL_TOOTH_BRUSH_TRIPLE_CLEAN.\n",
      "SIGNAL_T_P_STRONG_TEETH_200G - Empty DataFrame\n",
      "Columns: [userid, productname, ds, y]\n",
      "Index: []\n",
      "Not enough data to evaluate SIGNAL_T_P_STRONG_TEETH_200G.\n",
      "SIGNAL_T_P_TRIPLE_PROTECTION_70G - Empty DataFrame\n",
      "Columns: [userid, productname, ds, y]\n",
      "Index: []\n",
      "Not enough data to evaluate SIGNAL_T_P_TRIPLE_PROTECTION_70G.\n",
      "SMAK_CASSAVA_CHIPS_HOT_N_SPICY_100G - Empty DataFrame\n",
      "Columns: [userid, productname, ds, y]\n",
      "Index: []\n",
      "Not enough data to evaluate SMAK_CASSAVA_CHIPS_HOT_N_SPICY_100G.\n",
      "SMAK_CHICK_PEA_50G - Empty DataFrame\n",
      "Columns: [userid, productname, ds, y]\n",
      "Index: []\n",
      "Not enough data to evaluate SMAK_CHICK_PEA_50G.\n",
      "SMAK_ONION_BITES_100G - Empty DataFrame\n",
      "Columns: [userid, productname, ds, y]\n",
      "Index: []\n",
      "Not enough data to evaluate SMAK_ONION_BITES_100G.\n",
      "SPINNER_CAFFEINATED_DRINK_250ML - Empty DataFrame\n",
      "Columns: [userid, productname, ds, y]\n",
      "Index: []\n",
      "Not enough data to evaluate SPINNER_CAFFEINATED_DRINK_250ML.\n",
      "SPRITE_BOTTLE_400ML - Empty DataFrame\n",
      "Columns: [userid, productname, ds, y]\n",
      "Index: []\n",
      "Not enough data to evaluate SPRITE_BOTTLE_400ML.\n",
      "STARLIGHT_CANDLES_3_PCS_8 - Empty DataFrame\n",
      "Columns: [userid, productname, ds, y]\n",
      "Index: []\n",
      "Not enough data to evaluate STARLIGHT_CANDLES_3_PCS_8.\n",
      "STR_RADIATOR_COOLANT_ENGINE_1L - Empty DataFrame\n",
      "Columns: [userid, productname, ds, y]\n",
      "Index: []\n",
      "Not enough data to evaluate STR_RADIATOR_COOLANT_ENGINE_1L.\n",
      "SUDANTHA_PLAQUE_FIGHTER_T_BRUSH_M_S - Empty DataFrame\n",
      "Columns: [userid, productname, ds, y]\n",
      "Index: []\n",
      "Not enough data to evaluate SUDANTHA_PLAQUE_FIGHTER_T_BRUSH_M_S.\n",
      "SUDAYA -        userid productname         ds  y\n",
      "1393        1      SUDAYA 2022-02-03  2\n",
      "1394        1      SUDAYA 2022-04-09  2\n",
      "1395        1      SUDAYA 2022-04-25  3\n",
      "1396        1      SUDAYA 2022-05-28  2\n",
      "1397        1      SUDAYA 2022-10-04  4\n",
      "...       ...         ...        ... ..\n",
      "79667      50      SUDAYA 2022-09-18  1\n",
      "79668      50      SUDAYA 2022-11-14  2\n",
      "79669      50      SUDAYA 2023-03-15  3\n",
      "79670      50      SUDAYA 2023-12-19  3\n",
      "79671      50      SUDAYA 2023-12-31  4\n",
      "\n",
      "[190 rows x 4 columns]\n",
      "No overlapping data for forecast and test data for SUDAYA.\n",
      "SUGAR___SPICE_BROWN_SUGAR_1_KG - Empty DataFrame\n",
      "Columns: [userid, productname, ds, y]\n",
      "Index: []\n",
      "Not enough data to evaluate SUGAR___SPICE_BROWN_SUGAR_1_KG.\n",
      "SUGAR___SPICE_WHITE_SUGAR_1KG - Empty DataFrame\n",
      "Columns: [userid, productname, ds, y]\n",
      "Index: []\n",
      "Not enough data to evaluate SUGAR___SPICE_WHITE_SUGAR_1KG.\n",
      "SUNFLOWER_DISPOSABLE_FACE_MASK_5S - Empty DataFrame\n",
      "Columns: [userid, productname, ds, y]\n",
      "Index: []\n",
      "Not enough data to evaluate SUNFLOWER_DISPOSABLE_FACE_MASK_5S.\n",
      "SUNLIGHT_CARE_LIQUID_1_LITER - Empty DataFrame\n",
      "Columns: [userid, productname, ds, y]\n",
      "Index: []\n",
      "Not enough data to evaluate SUNLIGHT_CARE_LIQUID_1_LITER.\n",
      "SUNQUICK_ORANGE_FLAV_DRINK_200ML - Empty DataFrame\n",
      "Columns: [userid, productname, ds, y]\n",
      "Index: []\n",
      "Not enough data to evaluate SUNQUICK_ORANGE_FLAV_DRINK_200ML.\n",
      "SUN_CRUSH_SPARKLING_GRAPE_DRINK_250ML - Empty DataFrame\n",
      "Columns: [userid, productname, ds, y]\n",
      "Index: []\n",
      "Not enough data to evaluate SUN_CRUSH_SPARKLING_GRAPE_DRINK_250ML.\n",
      "SUN_CRUSH_SPARKLING_GRE__APPLE_250ML - Empty DataFrame\n",
      "Columns: [userid, productname, ds, y]\n",
      "Index: []\n",
      "Not enough data to evaluate SUN_CRUSH_SPARKLING_GRE__APPLE_250ML.\n",
      "SUN_CRUSH_SPARKLING_LEMON_DRINK_250ML - Empty DataFrame\n",
      "Columns: [userid, productname, ds, y]\n",
      "Index: []\n",
      "Not enough data to evaluate SUN_CRUSH_SPARKLING_LEMON_DRINK_250ML.\n",
      "SUN_CRUSH_SPARKLING_ORANGE_250ML - Empty DataFrame\n",
      "Columns: [userid, productname, ds, y]\n",
      "Index: []\n",
      "Not enough data to evaluate SUN_CRUSH_SPARKLING_ORANGE_250ML.\n",
      "SUN_CRUSH_SPARKLING_RED_APPLE_250ML - Empty DataFrame\n",
      "Columns: [userid, productname, ds, y]\n",
      "Index: []\n",
      "Not enough data to evaluate SUN_CRUSH_SPARKLING_RED_APPLE_250ML.\n",
      "SURF_EXCEL_W_POWDER_COMFORT_X_500G - Empty DataFrame\n",
      "Columns: [userid, productname, ds, y]\n",
      "Index: []\n",
      "Not enough data to evaluate SURF_EXCEL_W_POWDER_COMFORT_X_500G.\n",
      "TAMARIND -        userid productname         ds  y\n",
      "1436        1    TAMARIND 2022-05-25  3\n",
      "1437        1    TAMARIND 2022-11-30  4\n",
      "1438        1    TAMARIND 2023-06-06  3\n",
      "1439        1    TAMARIND 2023-12-05  2\n",
      "3031        2    TAMARIND 2022-02-24  3\n",
      "...       ...         ...        ... ..\n",
      "78153      49    TAMARIND 2023-08-12  3\n",
      "78154      49    TAMARIND 2023-09-25  3\n",
      "79705      50    TAMARIND 2022-03-01  4\n",
      "79706      50    TAMARIND 2022-07-16  4\n",
      "79707      50    TAMARIND 2022-11-22  1\n",
      "\n",
      "[152 rows x 4 columns]\n",
      "No overlapping data for forecast and test data for TAMARIND.\n",
      "TASOTTI_COOL_BALLS_ICE_AQUA_25G - Empty DataFrame\n",
      "Columns: [userid, productname, ds, y]\n",
      "Index: []\n",
      "Not enough data to evaluate TASOTTI_COOL_BALLS_ICE_AQUA_25G.\n",
      "TEASER_MIXED_BERRIES_MOCKTAIL_250G - Empty DataFrame\n",
      "Columns: [userid, productname, ds, y]\n",
      "Index: []\n",
      "Not enough data to evaluate TEASER_MIXED_BERRIES_MOCKTAIL_250G.\n",
      "TEASER_PEACH_MOCKTAIL_250ML - Empty DataFrame\n",
      "Columns: [userid, productname, ds, y]\n",
      "Index: []\n",
      "Not enough data to evaluate TEASER_PEACH_MOCKTAIL_250ML.\n",
      "TEN_QT_BALL_PEN_3_BLU_BLK_RED - Empty DataFrame\n",
      "Columns: [userid, productname, ds, y]\n",
      "Index: []\n",
      "Not enough data to evaluate TEN_QT_BALL_PEN_3_BLU_BLK_RED.\n",
      "THAI_SUMEDA_OIL_LAMP_WICKS - Empty DataFrame\n",
      "Columns: [userid, productname, ds, y]\n",
      "Index: []\n",
      "Not enough data to evaluate THAI_SUMEDA_OIL_LAMP_WICKS.\n",
      "THALAPATH_SMALL - Empty DataFrame\n",
      "Columns: [userid, productname, ds, y]\n",
      "Index: []\n",
      "Not enough data to evaluate THALAPATH_SMALL.\n",
      "THROW_EASY_GARBAGE_BAGS_MEDIUM - Empty DataFrame\n",
      "Columns: [userid, productname, ds, y]\n",
      "Index: []\n",
      "Not enough data to evaluate THROW_EASY_GARBAGE_BAGS_MEDIUM.\n",
      "THROW_EASY_GARBAGE_BAGS_SMALL - Empty DataFrame\n",
      "Columns: [userid, productname, ds, y]\n",
      "Index: []\n",
      "Not enough data to evaluate THROW_EASY_GARBAGE_BAGS_SMALL.\n",
      "TOMATOES -        userid productname         ds  y\n",
      "1466        1    TOMATOES 2023-01-02  2\n",
      "1467        1    TOMATOES 2023-05-01  3\n",
      "1468        1    TOMATOES 2023-05-23  3\n",
      "1469        1    TOMATOES 2023-06-05  3\n",
      "3069        2    TOMATOES 2022-06-23  2\n",
      "...       ...         ...        ... ..\n",
      "78180      49    TOMATOES 2023-04-04  4\n",
      "78181      49    TOMATOES 2023-11-08  3\n",
      "78182      49    TOMATOES 2023-12-31  1\n",
      "79727      50    TOMATOES 2022-06-03  2\n",
      "79728      50    TOMATOES 2023-10-08  2\n",
      "\n",
      "[172 rows x 4 columns]\n",
      "No overlapping data for forecast and test data for TOMATOES.\n",
      "TOP_CRUST_BREAD - Empty DataFrame\n",
      "Columns: [userid, productname, ds, y]\n",
      "Index: []\n",
      "Not enough data to evaluate TOP_CRUST_BREAD.\n",
      "TUNA_FISH - Empty DataFrame\n",
      "Columns: [userid, productname, ds, y]\n",
      "Index: []\n",
      "Not enough data to evaluate TUNA_FISH.\n",
      "USWATTE_TIPI_TIP_TOMATO_18G - Empty DataFrame\n",
      "Columns: [userid, productname, ds, y]\n",
      "Index: []\n",
      "Not enough data to evaluate USWATTE_TIPI_TIP_TOMATO_18G.\n",
      "VASELINE_LOTION_HEALTHY_BRIGHT_100ML - Empty DataFrame\n",
      "Columns: [userid, productname, ds, y]\n",
      "Index: []\n",
      "Not enough data to evaluate VASELINE_LOTION_HEALTHY_BRIGHT_100ML.\n",
      "VIM_DISHWASH_LIQUID_LIME_500ML - Empty DataFrame\n",
      "Columns: [userid, productname, ds, y]\n",
      "Index: []\n",
      "Not enough data to evaluate VIM_DISHWASH_LIQUID_LIME_500ML.\n",
      "VIM_D_WASH_BAR_100G_MULTIPACK - Empty DataFrame\n",
      "Columns: [userid, productname, ds, y]\n",
      "Index: []\n",
      "Not enough data to evaluate VIM_D_WASH_BAR_100G_MULTIPACK.\n",
      "VIVYASERUM_SKIN_REVITALISING_30ML - Empty DataFrame\n",
      "Columns: [userid, productname, ds, y]\n",
      "Index: []\n",
      "Not enough data to evaluate VIVYASERUM_SKIN_REVITALISING_30ML.\n",
      "VIVYA_FACE_CREAM_ADVANCE_RADIANCE_25G - Empty DataFrame\n",
      "Columns: [userid, productname, ds, y]\n",
      "Index: []\n",
      "Not enough data to evaluate VIVYA_FACE_CREAM_ADVANCE_RADIANCE_25G.\n",
      "VIVYA_FACE_SCRUB_100ML - Empty DataFrame\n",
      "Columns: [userid, productname, ds, y]\n",
      "Index: []\n",
      "Not enough data to evaluate VIVYA_FACE_SCRUB_100ML.\n",
      "VIVYA_NIGHT_CREAM_INTENSE_RESTORE_30G - Empty DataFrame\n",
      "Columns: [userid, productname, ds, y]\n",
      "Index: []\n",
      "Not enough data to evaluate VIVYA_NIGHT_CREAM_INTENSE_RESTORE_30G.\n",
      "VIVYA_UNDER_EYE_GEL_15G - Empty DataFrame\n",
      "Columns: [userid, productname, ds, y]\n",
      "Index: []\n",
      "Not enough data to evaluate VIVYA_UNDER_EYE_GEL_15G.\n",
      "WATAWALA_TEA_200G - Empty DataFrame\n",
      "Columns: [userid, productname, ds, y]\n",
      "Index: []\n",
      "Not enough data to evaluate WATAWALA_TEA_200G.\n",
      "WATAWALA_TEA_POUCH_100G - Empty DataFrame\n",
      "Columns: [userid, productname, ds, y]\n",
      "Index: []\n",
      "Not enough data to evaluate WATAWALA_TEA_POUCH_100G.\n",
      "WATERMELON_JUICE - Empty DataFrame\n",
      "Columns: [userid, productname, ds, y]\n",
      "Index: []\n",
      "Not enough data to evaluate WATERMELON_JUICE.\n",
      "WIJAYA_CHILLIE_PIECES_100G - Empty DataFrame\n",
      "Columns: [userid, productname, ds, y]\n",
      "Index: []\n",
      "Not enough data to evaluate WIJAYA_CHILLIE_PIECES_100G.\n",
      "WIJAYA_CHILLIE_POWDER_100G - Empty DataFrame\n",
      "Columns: [userid, productname, ds, y]\n",
      "Index: []\n",
      "Not enough data to evaluate WIJAYA_CHILLIE_POWDER_100G.\n",
      "WIJAYA_CHILLIE_POWDER_250G - Empty DataFrame\n",
      "Columns: [userid, productname, ds, y]\n",
      "Index: []\n",
      "Not enough data to evaluate WIJAYA_CHILLIE_POWDER_250G.\n",
      "WIJAYA_CURRY_POWDER_100G - Empty DataFrame\n",
      "Columns: [userid, productname, ds, y]\n",
      "Index: []\n",
      "Not enough data to evaluate WIJAYA_CURRY_POWDER_100G.\n",
      "WIJAYA_TURMERIC_POWDER_50G - Empty DataFrame\n",
      "Columns: [userid, productname, ds, y]\n",
      "Index: []\n",
      "Not enough data to evaluate WIJAYA_TURMERIC_POWDER_50G.\n",
      "WONDER_WIPE_MICROFIBER_CLOTH_CAR - Empty DataFrame\n",
      "Columns: [userid, productname, ds, y]\n",
      "Index: []\n",
      "Not enough data to evaluate WONDER_WIPE_MICROFIBER_CLOTH_CAR.\n",
      "YETI_ISO_BL_500ML_2S___FREE_ISO_POW_25G - Empty DataFrame\n",
      "Columns: [userid, productname, ds, y]\n",
      "Index: []\n",
      "Not enough data to evaluate YETI_ISO_BL_500ML_2S___FREE_ISO_POW_25G.\n",
      "GARLIC: MAE=0.8894163567069753, MSE=1.029822285638401, RMSE=1.0148015991504946\n"
     ]
    }
   ],
   "source": [
    "import os\n",
    "import pandas as pd\n",
    "import pickle\n",
    "from prophet import Prophet\n",
    "from sklearn.model_selection import train_test_split\n",
    "from sklearn.metrics import mean_absolute_error, mean_squared_error\n",
    "from math import sqrt\n",
    "\n",
    "def load_model(model_path):\n",
    "    with open(model_path, 'rb') as f:\n",
    "        model = pickle.load(f)\n",
    "    return model\n",
    "\n",
    "def evaluate_model(model, test_data):\n",
    "    if test_data.empty:\n",
    "        return None, None, None  # Return None if there's no test data available\n",
    "\n",
    "    # Calculate the number of days to predict\n",
    "    last_test_date = test_data['ds'].max()\n",
    "    last_history_date = model.history['ds'].max()\n",
    "    if last_test_date <= last_history_date:\n",
    "        # If the last test date is not beyond the history, reduce the forecast period or handle appropriately\n",
    "        periods = (last_test_date - last_history_date).days\n",
    "        if periods <= 0:\n",
    "            return None, None, None  # No future dates to predict\n",
    "    else:\n",
    "        periods = (last_test_date - last_history_date).days\n",
    "\n",
    "    # Generate the future dataframe for the model\n",
    "    if periods > 0:\n",
    "        future = model.make_future_dataframe(periods=periods, include_history=True)\n",
    "    else:\n",
    "        future = model.history.copy()\n",
    "\n",
    "    forecast = model.predict(future)\n",
    "    \n",
    "    # Align forecasts with the test data\n",
    "    forecast = forecast[['ds', 'yhat']].set_index('ds')\n",
    "    test_data = test_data.set_index('ds')\n",
    "\n",
    "    # Ensure there's overlap\n",
    "    combined = forecast.join(test_data, how='inner')\n",
    "    if combined.empty:\n",
    "        return None, None, None  # Return None if no overlap\n",
    "\n",
    "    # Calculate accuracy metrics, ensure no NaN values\n",
    "    if combined.isnull().any().any():\n",
    "        combined = combined.dropna()  # Drop rows with NaN values\n",
    "\n",
    "    if combined.empty:\n",
    "        return None, None, None  # Return None if all data was NaN\n",
    "\n",
    "    mae = mean_absolute_error(combined['y'], combined['yhat'])\n",
    "    mse = mean_squared_error(combined['y'], combined['yhat'])\n",
    "    rmse = sqrt(mse)\n",
    "    \n",
    "    return mae, mse, rmse\n",
    "\n",
    "\n",
    "\n",
    "# Load data and prepare it\n",
    "data = pd.read_csv('saleData.csv')\n",
    "data['saleDate'] = pd.to_datetime(data['saleDate'])\n",
    "data = data.groupby(['userid', 'productname', 'saleDate']).agg(total_qty=('qty', 'sum')).reset_index()\n",
    "data.columns = ['userid', 'productname', 'ds', 'y']\n",
    "\n",
    "# Loop through each product model and evaluate\n",
    "results = {}\n",
    "models_dir = 'models'\n",
    "for filename in os.listdir(models_dir):\n",
    "    product_name = filename.replace('_model.pkl', '')\n",
    "    model_path = os.path.join(models_dir, filename)\n",
    "    model = load_model(model_path)\n",
    "    \n",
    "    # Extract test data for this product\n",
    "    product_data = data[data['productname'] == product_name]\n",
    "    print(f\"{product_name} - {product_data}\")\n",
    "    if len(product_data) < 5:  # Ensure there's enough data to split\n",
    "        print(f\"Not enough data to evaluate {product_name}.\")\n",
    "        continue\n",
    "\n",
    "    _, test_data = train_test_split(product_data, test_size=0.2, random_state=42)\n",
    "    \n",
    "    # Evaluate model\n",
    "    mae, mse, rmse = evaluate_model(model, test_data)\n",
    "    if mae is None:\n",
    "        print(f\"No overlapping data for forecast and test data for {product_name}.\")\n",
    "        continue\n",
    "\n",
    "    results[product_name] = {'MAE': mae, 'MSE': mse, 'RMSE': rmse}\n",
    "\n",
    "# Print results\n",
    "for product, metrics in results.items():\n",
    "    print(f\"{product}: MAE={metrics['MAE']}, MSE={metrics['MSE']}, RMSE={metrics['RMSE']}\")\n"
   ]
  },
  {
   "cell_type": "code",
   "execution_count": null,
   "id": "1baa5f58-196d-4954-ba80-c22ba1e6a051",
   "metadata": {},
   "outputs": [],
   "source": []
  }
 ],
 "metadata": {
  "kernelspec": {
   "display_name": "Python 3 (ipykernel)",
   "language": "python",
   "name": "python3"
  },
  "language_info": {
   "codemirror_mode": {
    "name": "ipython",
    "version": 3
   },
   "file_extension": ".py",
   "mimetype": "text/x-python",
   "name": "python",
   "nbconvert_exporter": "python",
   "pygments_lexer": "ipython3",
   "version": "3.11.7"
  }
 },
 "nbformat": 4,
 "nbformat_minor": 5
}
